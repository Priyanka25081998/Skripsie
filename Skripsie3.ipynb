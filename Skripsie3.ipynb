{
 "cells": [
  {
   "cell_type": "code",
   "execution_count": 1,
   "metadata": {},
   "outputs": [],
   "source": [
    "%matplotlib inline\n",
    "import matplotlib.pyplot as plt\n",
    "import numpy as np\n",
    "import pandas as pd\n",
    "from pandas import DataFrame\n",
    "from pandas import concat\n",
    "import math\n",
    "import csv\n",
    "from sklearn.model_selection import train_test_split\n",
    "from sklearn.linear_model import LinearRegression\n",
    "from sklearn.neural_network import MLPRegressor\n",
    "import tensorflow as tf\n",
    "from sklearn.preprocessing import PolynomialFeatures\n",
    "from sklearn import linear_model\n",
    "from tensorflow.keras import layers\n",
    "from tensorflow.keras.layers.experimental import preprocessing\n",
    "from tensorflow import keras"
   ]
  },
  {
   "cell_type": "code",
   "execution_count": 2,
   "metadata": {},
   "outputs": [],
   "source": [
    "#Function to convert GPS time to milliseconds\n",
    "#The base time is the RTC time in milliseconds that corresponds with the first GPS time stamp\n",
    "def timeToMillis(time, RTC_millis):\n",
    "    sec = np.zeros(time.size)\n",
    "    sec = sec.astype(int)\n",
    "    minutes = np.zeros(time.size)\n",
    "    minutes = minutes.astype(int)\n",
    "    hours = np.zeros(time.size)\n",
    "    hours = hours.astype(int)\n",
    "    for i in range(0, time.size):\n",
    "        sec[i] = time[i]%100\n",
    "    for i in range(0, time.size):\n",
    "        minutes[i] = (time[i]%10000 - time[i]%100)/100\n",
    "    for i in range(0, time.size):\n",
    "        hours[i] = (time[i] - time[i]%10000)/10000\n",
    "\n",
    "    GPS_millis = np.zeros(time.size)\n",
    "    GPS_millis = GPS_millis.astype(int)\n",
    "    GPS_millis[0] = RTC_millis[0]\n",
    "    for i in range (1, time.size):\n",
    "        if (sec[i] > sec[i - 1]):\n",
    "            if (minutes[i] >= minutes[i - 1]):\n",
    "                GPS_millis[i] = GPS_millis[i - 1] + (sec[i] - sec[i - 1])*1000 + (minutes[i] - minutes[i - 1])*60*1000\n",
    "            else:\n",
    "                GPS_millis[i] = GPS_millis[i - 1] + (sec[i] - sec[i - 1])*1000 + (60 + minutes[i] - minutes[i - 1])*60*1000            \n",
    "        else:\n",
    "            if (minutes[i] >= minutes[i - 1]):\n",
    "                GPS_millis[i] = GPS_millis[i - 1] + (60 + sec[i] - sec[i - 1])*1000 + (minutes[i] - minutes[i - 1] - 1)*60*1000\n",
    "            else:\n",
    "                GPS_millis[i] = GPS_millis[i - 1] + (60 + sec[i] - sec[i - 1])*1000 + (59 + minutes[i] - minutes[i - 1])*60*1000            \n",
    "    return GPS_millis\n",
    "\n",
    "\n",
    "#Function to convert time in milliseconds to digital time \n",
    "#Used to convert both GPS time in milliseconds and RTC time in milliseconds to digital time \n",
    "#The base time is taken as the first GPS time stamp\n",
    "def millisToTime(millis, time):\n",
    "    mil = millis/1000\n",
    "    time_temp = np.zeros(time.size)\n",
    "    hours = np.zeros(time_temp.size)\n",
    "    minutes = np.zeros(time_temp.size)\n",
    "    seconds = np.zeros(time_temp.size)\n",
    "    time_temp[0] = time[0]\n",
    "    for i in range (1, time.size):\n",
    "        seconds[i] = time_temp[i - 1]%100 + (mil[i] - mil[i - 1])\n",
    "        if (seconds[i] > 60):\n",
    "            temp_minutes = 0\n",
    "            while (seconds[i] >= 60):\n",
    "                temp_minutes += 100\n",
    "                seconds[i] = seconds[i] - 60\n",
    "            minutes[i] = (time_temp[i-1]%10000 - time_temp[i-1]%100) + temp_minutes\n",
    "        elif (seconds[i] == 60):\n",
    "            seconds[i] = 0\n",
    "            minutes[i] = (time_temp[i-1]%10000 - time_temp[i-1]%100) + 100\n",
    "        else:\n",
    "            minutes[i] = (time_temp[i-1]%10000 - time_temp[i-1]%100)\n",
    "        if (minutes[i] > 5900):\n",
    "            minutes[i] = 6000 - minutes[i]\n",
    "            hours[i] = (time_temp[i-1] - time_temp[i-1]%10000) + 10000\n",
    "        else:\n",
    "            hours[i] = (time_temp[i-1] - time_temp[i-1]%10000)\n",
    "        if (hours[i] > 230000):\n",
    "            hours[i] = 240000 - hours[i]\n",
    "        time_temp[i] = hours[i] + minutes[i] + seconds[i]\n",
    "\n",
    "    #Split time with colons\n",
    "    output_time = [0 for i in range(time_temp.size)]\n",
    "    hours_temp = np.zeros(time_temp.size)\n",
    "    minutes_temp = np.zeros(time_temp.size)\n",
    "    seconds_temp = np.zeros(time_temp.size)\n",
    "    for i in range (0, time_temp.size):\n",
    "        hours_temp[i] = int((time_temp[i] - time_temp[i]%10000)/10000)\n",
    "        minutes_temp[i] = int((time_temp[i]%10000 - time_temp[i]%100)/100)\n",
    "        seconds_temp[i] = time_temp[i]%100\n",
    "        if (seconds_temp[i] < 10):\n",
    "            if(minutes_temp[i] < 10):\n",
    "                output_time[i] = \"%d:0%d:0%.3f\" % (hours_temp[i], minutes_temp[i], seconds_temp[i])\n",
    "            else:\n",
    "                output_time[i] = \"%d:%d:0%.3f\" % (hours_temp[i], minutes_temp[i], seconds_temp[i])\n",
    "        else:\n",
    "            if(minutes_temp[i] < 10):\n",
    "                output_time[i] = \"%d:0%d:%.3f\" % (hours_temp[i], minutes_temp[i], seconds_temp[i])  \n",
    "            else:\n",
    "                output_time[i] = \"%d:%d:%.3f\" % (hours_temp[i], minutes_temp[i], seconds_temp[i])\n",
    "    return output_time \n",
    "\n",
    "#Split data into training and testing sets (0.8/0.2)\n",
    "def dataSplit(x_millis, y_millis):\n",
    "    x_train, x_test, y_train, y_test = train_test_split(x_millis, y_millis, test_size=0.2, random_state=1)\n",
    "    x_val, x_test, y_val, y_test = train_test_split(x_test, y_test, test_size = 0.5, random_state = 1)\n",
    "    return x_train.reshape(-1,1), y_train.reshape(-1,1), x_test.reshape(-1,1), y_test.reshape(-1,1), x_val.reshape(-1,1), y_val.reshape(-1,1)\n",
    "\n",
    "\n",
    "#Metrics for regression analysis\n",
    "def RMSE(predict, y):\n",
    "    c = np.zeros(predict.size)\n",
    "    for i in range (0, predict.size):\n",
    "        c[i] = (y[i] - predict[i])**2\n",
    "    return np.sqrt((np.sum(c))/len(c))\n",
    "\n",
    "def MAE(predict, y):\n",
    "    c = np.zeros(predict.size)\n",
    "    for i in range (0, predict.size):\n",
    "        c[i] = abs(y[i] - predict[i])\n",
    "    return (np.sum(c))/len(c)\n",
    "\n",
    "#Metrics related to clock AccOffset \n",
    "def plotDrift(GPS_millis, RTC_millis):\n",
    "    Drift = np.zeros(GPS_millis.size)\n",
    "    for i in range(1, GPS_millis.size):\n",
    "        Drift[i] = ((GPS_millis[i] - RTC_millis[i])/GPS_millis[i])*1000000\n",
    "    t = np.linspace(50000, len(GPS_millis[50000:len(GPS_millis)]), len(GPS_millis[50000:len(GPS_millis)]))\n",
    "    plt.plot(t, Drift[50000:len(GPS_millis)])\n",
    "    plt.title('Frequency of clock drift of Teensy internal RTC (ppm)')\n",
    "    plt.xlabel('Seconds since start-up')\n",
    "    plt.ylabel('Drift (ppm)')\n",
    "    plt.show()\n",
    "\n",
    "def plotOffset(GPS_millis, RTC_millis):\n",
    "    offset = np.zeros(GPS_millis.size)\n",
    "    offsetsum = 0\n",
    "    for i in range(0, GPS_millis.size):\n",
    "        offset[i] = (GPS_millis[i] - offsetsum - RTC_millis[i])\n",
    "        offsetsum = np.sum(offset)\n",
    "    t = np.linspace(0, len(GPS_millis), len(GPS_millis))\n",
    "    plt.plot(t, offset)\n",
    "    plt.title('Clock offset of internal Teensy RTC (ms)')\n",
    "    plt.xlabel('Seconds since start-up')\n",
    "    plt.ylabel('Clock offset (ms)')\n",
    "    plt.show()\n",
    "    \n",
    "\n",
    "def plotAccOffset(GPS_millis, RTC_millis):\n",
    "    AccOffset = np.zeros(GPS_millis.size)\n",
    "    for i in range(0, GPS_millis.size):\n",
    "        AccOffset[i] = (GPS_millis[i] - RTC_millis[i])\n",
    "    t = np.linspace(0, len(GPS_millis), len(GPS_millis))\n",
    "    plt.plot(t, AccOffset)\n",
    "    plt.title('Accumulated offset of Teensy internal RTC (ms)')\n",
    "    plt.xlabel('Seconds since start-up')\n",
    "    plt.ylabel('Accumulated offset (ms)')\n",
    "    plt.show()\n",
    "    \n",
    "def AccOffset(GPS_millis, RTC_millis):\n",
    "    d = np.zeros(GPS_millis.size)\n",
    "    for i in range(0, GPS_millis.size):\n",
    "        d[i] = (GPS_millis[i] - RTC_millis[i])\n",
    "    return d\n",
    "\n",
    "def Drift(GPS_millis, RTC_millis):\n",
    "    Drift = np.zeros(GPS_millis.size)\n",
    "    for i in range(1, GPS_millis.size):\n",
    "        Drift[i] = ((GPS_millis[i] - RTC_millis[i])/GPS_millis[i])*1000000\n",
    "    return Drift\n",
    "\n",
    "def convertToCycles(array):\n",
    "    a = np.zeros(array.size)\n",
    "    for i in range(0, array.size):\n",
    "        a[i] = (array[i]/1000)*32768\n",
    "    return a\n",
    "\n",
    "#dataframe to summarise linear regression metrics\n",
    "def RegMetrics(x1_train, y1_train, x1_val, y1_val, x1_test, y1_test, model):\n",
    "    predict1 = model.predict(x1_train)\n",
    "    r1 =  model.score(x1_train, y1_train)\n",
    "    rmse1 = RMSE(predict1, y1_train)\n",
    "    mae1 =  MAE(predict1, y1_train)\n",
    "    \n",
    "    predict2 = model.predict(x1_test)\n",
    "    r2 = model.score(x1_test, y1_test)\n",
    "    rmse2 = RMSE(predict2, y1_test)\n",
    "    mae2 = MAE(predict2, y1_test)\n",
    "    \n",
    "    predict3 = model.predict(x1_val)\n",
    "    r3 = model.score(x1_val, y1_val)\n",
    "    rmse3 = RMSE(predict3, y1_val)\n",
    "    mae3 = MAE(predict3, y1_val)\n",
    "    \n",
    "    d = {'Index Title': ['Training', 'Validation', 'Test'],'R': [r1, r3, r2], 'RMSE' : [rmse1, rmse3, rmse2], 'MAE' :[mae1, mae3, mae2]}\n",
    "    df = pd.DataFrame(d).set_index('Index Title')\n",
    "    return display(df)\n",
    "\n",
    "\n",
    "#Data Frames to summarise metrics for testing sets and display synchronised time\n",
    "def synch(RTC_millis, GPS_millis, model, time, AccOffset):\n",
    "    millis_predict = model.predict(RTC_millis.reshape(-1, 1))\n",
    "    #Convert AccOffset prediction to synchronised time by adding the AccOffset to RTC time in milliseconds\n",
    "    for i in range (0, millis_predict.size):\n",
    "        millis_predict[i] = RTC_millis[i] + millis_predict[i]\n",
    "    millis_predict = (np.reshape(millis_predict, len(millis_predict))).astype(int)\n",
    "    r =  model.score(RTC_millis.reshape(-1, 1), AccOffset.reshape(-1, 1))\n",
    "    rmse =  RMSE(millis_predict, GPS_millis)\n",
    "    mae = MAE(millis_predict, GPS_millis)\n",
    "    \n",
    "    d = {'R': [r], 'RMSE' : [rmse], 'MAE' :[mae]}\n",
    "    d = pd.DataFrame(d)\n",
    "    display(d)\n",
    "    df = pd.DataFrame({'GPS Time (ms)': GPS_millis, 'RTC Time (ms)': RTC_millis, \n",
    "                         'Synch Time (ms)' : millis_predict, 'GPS Time': millisToTime(GPS_millis, time),\n",
    "                           'RTC Time':millisToTime(RTC_millis, time), 'Synch Time' : millisToTime(millis_predict, time)})\n",
    "    return display(df)"
   ]
  },
  {
   "cell_type": "code",
   "execution_count": 24,
   "metadata": {},
   "outputs": [],
   "source": [
    "#Reading data from training run of sensor 1\n",
    "with open('DS3231.TXT', 'r') as in_file:\n",
    "    stripped = (line.strip() for line in in_file)\n",
    "    lines = (line.split(\",\") for line in stripped if line)\n",
    "    with open('DS3231.csv', 'w') as out_file:\n",
    "        writer = csv.writer(out_file)\n",
    "        writer.writerow(('GPS/RTC', 'Time', 'Day', 'Month', 'Year', 'Millis', 'Temp', 'Offset', 'Number'))\n",
    "        writer.writerows(lines)\n",
    "        \n",
    "data1 = pd.read_csv(\"DS3231.csv\")\n",
    "data_arr1 = np.array(data1)\n",
    "time1 = data_arr1[0:,1]\n",
    "#RTC_millis1 = data_arr1[0:,5]\n",
    "temp1 = data_arr1[0:,6]\n",
    "offset1 = data_arr1[0:,7]\n",
    "num1 = data_arr1[0:,8]\n",
    "\n",
    "#for i in range(0, 131032):\n",
    "#    RTC_millis1[i] = (RTC_millis1[i]- 26*(32768) - 27401)/32768\n",
    "#RTC_millis1[131032] = 32768  \n",
    "#for i in range(131033, RTC_millis1.size):\n",
    "#    RTC_millis1[i] = RTC_millis1[i] + 3380\n",
    "#for i in range(131032, RTC_millis1.size):\n",
    "#    RTC_millis1[i] = RTC_millis1[i]/32768 + RTC_millis1[131031]\n",
    "#for i in range(RTC_millis1.size):\n",
    "#    RTC_millis1[i] = RTC_millis1[i]*1000\n",
    "\n",
    "RTC_millis1 = np.zeros(offset1.size)\n",
    "for i in range(0, offset1.size):\n",
    "    RTC_millis1[i] = offset1[i] + RTC_millis1[i - 1]\n",
    "for i in range(0, offset1.size):\n",
    "    RTC_millis1[i] = (RTC_millis1[i]/32768)*1000"
   ]
  },
  {
   "cell_type": "code",
   "execution_count": 25,
   "metadata": {},
   "outputs": [],
   "source": [
    "#Determining the GPS milliseconds since start-up for all three sensors\n",
    "GPS_millis1 = timeToMillis(time1, RTC_millis1)\n",
    "\n",
    "#Determining the AccOffset of all three sensors\n",
    "AccOffset1 = AccOffset(GPS_millis1, RTC_millis1)\n",
    "\n",
    "#Splitting the training and testing data only for the first sensor (on which the model is built and tested)\n",
    "x1_train, y1_train, x1_test, y1_test, x1_val, y1_val = dataSplit(RTC_millis1, AccOffset1)"
   ]
  },
  {
   "cell_type": "code",
   "execution_count": 26,
   "metadata": {},
   "outputs": [
    {
     "data": {
      "image/png": "[encoded data removed]",
      "text/plain": [
       "<Figure size 432x288 with 1 Axes>"
      ]
     },
     "metadata": {
      "needs_background": "light"
     },
     "output_type": "display_data"
    },
    {
     "data": {
      "image/png": "[encoded data removed]",
      "text/plain": [
       "<Figure size 432x288 with 1 Axes>"
      ]
     },
     "metadata": {
      "needs_background": "light"
     },
     "output_type": "display_data"
    },
    {
     "data": {
      "image/png": "[encoded data removed]",
      "text/plain": [
       "<Figure size 432x288 with 1 Axes>"
      ]
     },
     "metadata": {
      "needs_background": "light"
     },
     "output_type": "display_data"
    }
   ],
   "source": [
    "plotDrift(GPS_millis1, RTC_millis1)\n",
    "plotOffset(GPS_millis1, RTC_millis1)\n",
    "plotAccOffset(GPS_millis1, RTC_millis1)\n"
   ]
  },
  {
   "cell_type": "code",
   "execution_count": 27,
   "metadata": {},
   "outputs": [
    {
     "name": "stdout",
     "output_type": "stream",
     "text": [
      "RMSE Testing Sensor One:  61.89644991533858\n",
      "MAE Testing Sensor One: 53.96434943066533\n"
     ]
    }
   ],
   "source": [
    "print('RMSE Testing Sensor One: ', RMSE(RTC_millis1, GPS_millis1))\n",
    "print('MAE Testing Sensor One:', MAE(RTC_millis1, GPS_millis1))"
   ]
  },
  {
   "cell_type": "code",
   "execution_count": 28,
   "metadata": {},
   "outputs": [
    {
     "data": {
      "image/png": "[encoded data removed]",
      "text/plain": [
       "<Figure size 432x288 with 1 Axes>"
      ]
     },
     "metadata": {
      "needs_background": "light"
     },
     "output_type": "display_data"
    }
   ],
   "source": [
    "t = np.linspace(50000, len(temp1[50000:len(temp1)]), len(temp1[50000:len(temp1)]))\n",
    "plt.plot(t, temp1[50000:len(temp1)])\n",
    "plt.title('Temp')\n",
    "plt.xlabel('Time')\n",
    "plt.ylabel('Temp')\n",
    "plt.show()"
   ]
  },
  {
   "cell_type": "code",
   "execution_count": 29,
   "metadata": {},
   "outputs": [],
   "source": [
    "drift = Drift(GPS_millis1, RTC_millis1)\n",
    "accOffset = AccOffset(GPS_millis1, RTC_millis1)"
   ]
  },
  {
   "cell_type": "code",
   "execution_count": 32,
   "metadata": {},
   "outputs": [
    {
     "data": {
      "image/png": "[encoded data removed]",
      "text/plain": [
       "<Figure size 432x288 with 1 Axes>"
      ]
     },
     "metadata": {
      "needs_background": "light"
     },
     "output_type": "display_data"
    }
   ],
   "source": [
    "plt.scatter(temp1[50000:temp1.size], drift[50000:temp1.size], s = 2)\n",
    "plt.title('Drift at different temperatures')\n",
    "plt.xlabel('Temperature')\n",
    "plt.ylabel('Drift')\n",
    "plt.show()\n"
   ]
  },
  {
   "cell_type": "code",
   "execution_count": 33,
   "metadata": {},
   "outputs": [
    {
     "name": "stdout",
     "output_type": "stream",
     "text": [
      "Mean drift: -0.4438549580874125\n",
      "Mean accumulated offset: -53.96434943066533\n",
      "Mean temperature: 16.757160581494066\n"
     ]
    }
   ],
   "source": [
    "print('Mean drift:', np.mean(drift))\n",
    "print('Mean accumulated offset:', np.mean(accOffset))\n",
    "print('Mean temperature:', np.mean(temp1))"
   ]
  },
  {
   "cell_type": "code",
   "execution_count": 34,
   "metadata": {},
   "outputs": [
    {
     "name": "stdout",
     "output_type": "stream",
     "text": [
      "Performance of model on training set\n"
     ]
    },
    {
     "data": {
      "text/html": [
       "<div>\n",
       "<style scoped>\n",
       "    .dataframe tbody tr th:only-of-type {\n",
       "        vertical-align: middle;\n",
       "    }\n",
       "\n",
       "    .dataframe tbody tr th {\n",
       "        vertical-align: top;\n",
       "    }\n",
       "\n",
       "    .dataframe thead th {\n",
       "        text-align: right;\n",
       "    }\n",
       "</style>\n",
       "<table border=\"1\" class=\"dataframe\">\n",
       "  <thead>\n",
       "    <tr style=\"text-align: right;\">\n",
       "      <th></th>\n",
       "      <th>R</th>\n",
       "      <th>RMSE</th>\n",
       "      <th>MAE</th>\n",
       "    </tr>\n",
       "    <tr>\n",
       "      <th>Index Title</th>\n",
       "      <th></th>\n",
       "      <th></th>\n",
       "      <th></th>\n",
       "    </tr>\n",
       "  </thead>\n",
       "  <tbody>\n",
       "    <tr>\n",
       "      <th>Training</th>\n",
       "      <td>0.997357</td>\n",
       "      <td>1.557791</td>\n",
       "      <td>1.394750</td>\n",
       "    </tr>\n",
       "    <tr>\n",
       "      <th>Validation</th>\n",
       "      <td>0.997359</td>\n",
       "      <td>1.563732</td>\n",
       "      <td>1.402502</td>\n",
       "    </tr>\n",
       "    <tr>\n",
       "      <th>Test</th>\n",
       "      <td>0.997348</td>\n",
       "      <td>1.560839</td>\n",
       "      <td>1.397835</td>\n",
       "    </tr>\n",
       "  </tbody>\n",
       "</table>\n",
       "</div>"
      ],
      "text/plain": [
       "                    R      RMSE       MAE\n",
       "Index Title                              \n",
       "Training     0.997357  1.557791  1.394750\n",
       "Validation   0.997359  1.563732  1.402502\n",
       "Test         0.997348  1.560839  1.397835"
      ]
     },
     "metadata": {},
     "output_type": "display_data"
    },
    {
     "name": "stdout",
     "output_type": "stream",
     "text": [
      "Synchronised time: Training set Sensor 1\n"
     ]
    },
    {
     "data": {
      "text/html": [
       "<div>\n",
       "<style scoped>\n",
       "    .dataframe tbody tr th:only-of-type {\n",
       "        vertical-align: middle;\n",
       "    }\n",
       "\n",
       "    .dataframe tbody tr th {\n",
       "        vertical-align: top;\n",
       "    }\n",
       "\n",
       "    .dataframe thead th {\n",
       "        text-align: right;\n",
       "    }\n",
       "</style>\n",
       "<table border=\"1\" class=\"dataframe\">\n",
       "  <thead>\n",
       "    <tr style=\"text-align: right;\">\n",
       "      <th></th>\n",
       "      <th>R</th>\n",
       "      <th>RMSE</th>\n",
       "      <th>MAE</th>\n",
       "    </tr>\n",
       "  </thead>\n",
       "  <tbody>\n",
       "    <tr>\n",
       "      <th>0</th>\n",
       "      <td>0.997356</td>\n",
       "      <td>1.659345</td>\n",
       "      <td>1.537668</td>\n",
       "    </tr>\n",
       "  </tbody>\n",
       "</table>\n",
       "</div>"
      ],
      "text/plain": [
       "          R      RMSE       MAE\n",
       "0  0.997356  1.659345  1.537668"
      ]
     },
     "metadata": {},
     "output_type": "display_data"
    },
    {
     "data": {
      "text/html": [
       "<div>\n",
       "<style scoped>\n",
       "    .dataframe tbody tr th:only-of-type {\n",
       "        vertical-align: middle;\n",
       "    }\n",
       "\n",
       "    .dataframe tbody tr th {\n",
       "        vertical-align: top;\n",
       "    }\n",
       "\n",
       "    .dataframe thead th {\n",
       "        text-align: right;\n",
       "    }\n",
       "</style>\n",
       "<table border=\"1\" class=\"dataframe\">\n",
       "  <thead>\n",
       "    <tr style=\"text-align: right;\">\n",
       "      <th></th>\n",
       "      <th>GPS Time (ms)</th>\n",
       "      <th>RTC Time (ms)</th>\n",
       "      <th>Synch Time (ms)</th>\n",
       "      <th>GPS Time</th>\n",
       "      <th>RTC Time</th>\n",
       "      <th>Synch Time</th>\n",
       "    </tr>\n",
       "  </thead>\n",
       "  <tbody>\n",
       "    <tr>\n",
       "      <th>0</th>\n",
       "      <td>1000</td>\n",
       "      <td>1.000000e+03</td>\n",
       "      <td>998</td>\n",
       "      <td>11:12:29.000</td>\n",
       "      <td>11:12:29.000</td>\n",
       "      <td>11:12:29.000</td>\n",
       "    </tr>\n",
       "    <tr>\n",
       "      <th>1</th>\n",
       "      <td>2000</td>\n",
       "      <td>2.000000e+03</td>\n",
       "      <td>1998</td>\n",
       "      <td>11:12:30.000</td>\n",
       "      <td>11:12:30.000</td>\n",
       "      <td>11:12:30.000</td>\n",
       "    </tr>\n",
       "    <tr>\n",
       "      <th>2</th>\n",
       "      <td>3000</td>\n",
       "      <td>3.000000e+03</td>\n",
       "      <td>2998</td>\n",
       "      <td>11:12:31.000</td>\n",
       "      <td>11:12:31.000</td>\n",
       "      <td>11:12:31.000</td>\n",
       "    </tr>\n",
       "    <tr>\n",
       "      <th>3</th>\n",
       "      <td>4000</td>\n",
       "      <td>4.000000e+03</td>\n",
       "      <td>3998</td>\n",
       "      <td>11:12:32.000</td>\n",
       "      <td>11:12:32.000</td>\n",
       "      <td>11:12:32.000</td>\n",
       "    </tr>\n",
       "    <tr>\n",
       "      <th>4</th>\n",
       "      <td>5000</td>\n",
       "      <td>5.000000e+03</td>\n",
       "      <td>4998</td>\n",
       "      <td>11:12:33.000</td>\n",
       "      <td>11:12:33.000</td>\n",
       "      <td>11:12:33.000</td>\n",
       "    </tr>\n",
       "    <tr>\n",
       "      <th>...</th>\n",
       "      <td>...</td>\n",
       "      <td>...</td>\n",
       "      <td>...</td>\n",
       "      <td>...</td>\n",
       "      <td>...</td>\n",
       "      <td>...</td>\n",
       "    </tr>\n",
       "    <tr>\n",
       "      <th>243647</th>\n",
       "      <td>243686000</td>\n",
       "      <td>2.436861e+08</td>\n",
       "      <td>243685998</td>\n",
       "      <td>6:53:54.000</td>\n",
       "      <td>6:53:54.105</td>\n",
       "      <td>6:53:54.000</td>\n",
       "    </tr>\n",
       "    <tr>\n",
       "      <th>243648</th>\n",
       "      <td>243687000</td>\n",
       "      <td>2.436871e+08</td>\n",
       "      <td>243686998</td>\n",
       "      <td>6:53:55.000</td>\n",
       "      <td>6:53:55.105</td>\n",
       "      <td>6:53:55.000</td>\n",
       "    </tr>\n",
       "    <tr>\n",
       "      <th>243649</th>\n",
       "      <td>243688000</td>\n",
       "      <td>2.436881e+08</td>\n",
       "      <td>243687998</td>\n",
       "      <td>6:53:56.000</td>\n",
       "      <td>6:53:56.105</td>\n",
       "      <td>6:53:56.000</td>\n",
       "    </tr>\n",
       "    <tr>\n",
       "      <th>243650</th>\n",
       "      <td>243689000</td>\n",
       "      <td>2.436891e+08</td>\n",
       "      <td>243688998</td>\n",
       "      <td>6:53:57.000</td>\n",
       "      <td>6:53:57.105</td>\n",
       "      <td>6:53:57.000</td>\n",
       "    </tr>\n",
       "    <tr>\n",
       "      <th>243651</th>\n",
       "      <td>243690000</td>\n",
       "      <td>2.436901e+08</td>\n",
       "      <td>243689998</td>\n",
       "      <td>6:53:58.000</td>\n",
       "      <td>6:53:58.105</td>\n",
       "      <td>6:53:58.000</td>\n",
       "    </tr>\n",
       "  </tbody>\n",
       "</table>\n",
       "<p>243652 rows × 6 columns</p>\n",
       "</div>"
      ],
      "text/plain": [
       "        GPS Time (ms)  RTC Time (ms)  Synch Time (ms)      GPS Time  \\\n",
       "0                1000   1.000000e+03              998  11:12:29.000   \n",
       "1                2000   2.000000e+03             1998  11:12:30.000   \n",
       "2                3000   3.000000e+03             2998  11:12:31.000   \n",
       "3                4000   4.000000e+03             3998  11:12:32.000   \n",
       "4                5000   5.000000e+03             4998  11:12:33.000   \n",
       "...               ...            ...              ...           ...   \n",
       "243647      243686000   2.436861e+08        243685998   6:53:54.000   \n",
       "243648      243687000   2.436871e+08        243686998   6:53:55.000   \n",
       "243649      243688000   2.436881e+08        243687998   6:53:56.000   \n",
       "243650      243689000   2.436891e+08        243688998   6:53:57.000   \n",
       "243651      243690000   2.436901e+08        243689998   6:53:58.000   \n",
       "\n",
       "            RTC Time    Synch Time  \n",
       "0       11:12:29.000  11:12:29.000  \n",
       "1       11:12:30.000  11:12:30.000  \n",
       "2       11:12:31.000  11:12:31.000  \n",
       "3       11:12:32.000  11:12:32.000  \n",
       "4       11:12:33.000  11:12:33.000  \n",
       "...              ...           ...  \n",
       "243647   6:53:54.105   6:53:54.000  \n",
       "243648   6:53:55.105   6:53:55.000  \n",
       "243649   6:53:56.105   6:53:56.000  \n",
       "243650   6:53:57.105   6:53:57.000  \n",
       "243651   6:53:58.105   6:53:58.000  \n",
       "\n",
       "[243652 rows x 6 columns]"
      ]
     },
     "metadata": {},
     "output_type": "display_data"
    }
   ],
   "source": [
    "# Linear Regression\n",
    "model1 = LinearRegression().fit(x1_train, y1_train)\n",
    "print(\"Performance of model on training set\")\n",
    "RegMetrics(x1_train, y1_train, x1_val, y1_val, x1_test, y1_test, model1)\n",
    "print(\"Synchronised time: Training set Sensor 1\")\n",
    "synch(RTC_millis1, GPS_millis1, model1, time1, accOffset)\n",
    "#synch.to_csv(r'C:\\Users\\suben\\Documents\\Priyanka\\Skripsie\\synch1.csv', index = False)"
   ]
  },
  {
   "cell_type": "code",
   "execution_count": 35,
   "metadata": {},
   "outputs": [
    {
     "name": "stdout",
     "output_type": "stream",
     "text": [
      "Performance of model on training set\n"
     ]
    },
    {
     "data": {
      "text/html": [
       "<div>\n",
       "<style scoped>\n",
       "    .dataframe tbody tr th:only-of-type {\n",
       "        vertical-align: middle;\n",
       "    }\n",
       "\n",
       "    .dataframe tbody tr th {\n",
       "        vertical-align: top;\n",
       "    }\n",
       "\n",
       "    .dataframe thead th {\n",
       "        text-align: right;\n",
       "    }\n",
       "</style>\n",
       "<table border=\"1\" class=\"dataframe\">\n",
       "  <thead>\n",
       "    <tr style=\"text-align: right;\">\n",
       "      <th></th>\n",
       "      <th>R</th>\n",
       "      <th>RMSE</th>\n",
       "      <th>MAE</th>\n",
       "    </tr>\n",
       "    <tr>\n",
       "      <th>Index Title</th>\n",
       "      <th></th>\n",
       "      <th></th>\n",
       "      <th></th>\n",
       "    </tr>\n",
       "  </thead>\n",
       "  <tbody>\n",
       "    <tr>\n",
       "      <th>Training</th>\n",
       "      <td>0.996563</td>\n",
       "      <td>1.776462</td>\n",
       "      <td>1.430493</td>\n",
       "    </tr>\n",
       "    <tr>\n",
       "      <th>Validation</th>\n",
       "      <td>0.996574</td>\n",
       "      <td>1.781080</td>\n",
       "      <td>1.433885</td>\n",
       "    </tr>\n",
       "    <tr>\n",
       "      <th>Test</th>\n",
       "      <td>0.996546</td>\n",
       "      <td>1.781527</td>\n",
       "      <td>1.435063</td>\n",
       "    </tr>\n",
       "  </tbody>\n",
       "</table>\n",
       "</div>"
      ],
      "text/plain": [
       "                    R      RMSE       MAE\n",
       "Index Title                              \n",
       "Training     0.996563  1.776462  1.430493\n",
       "Validation   0.996574  1.781080  1.433885\n",
       "Test         0.996546  1.781527  1.435063"
      ]
     },
     "metadata": {},
     "output_type": "display_data"
    },
    {
     "name": "stdout",
     "output_type": "stream",
     "text": [
      "Synchronised time: Training set Sensor 1\n"
     ]
    },
    {
     "data": {
      "text/html": [
       "<div>\n",
       "<style scoped>\n",
       "    .dataframe tbody tr th:only-of-type {\n",
       "        vertical-align: middle;\n",
       "    }\n",
       "\n",
       "    .dataframe tbody tr th {\n",
       "        vertical-align: top;\n",
       "    }\n",
       "\n",
       "    .dataframe thead th {\n",
       "        text-align: right;\n",
       "    }\n",
       "</style>\n",
       "<table border=\"1\" class=\"dataframe\">\n",
       "  <thead>\n",
       "    <tr style=\"text-align: right;\">\n",
       "      <th></th>\n",
       "      <th>R</th>\n",
       "      <th>RMSE</th>\n",
       "      <th>MAE</th>\n",
       "    </tr>\n",
       "  </thead>\n",
       "  <tbody>\n",
       "    <tr>\n",
       "      <th>0</th>\n",
       "      <td>0.996562</td>\n",
       "      <td>1.773789</td>\n",
       "      <td>1.349732</td>\n",
       "    </tr>\n",
       "  </tbody>\n",
       "</table>\n",
       "</div>"
      ],
      "text/plain": [
       "          R      RMSE       MAE\n",
       "0  0.996562  1.773789  1.349732"
      ]
     },
     "metadata": {},
     "output_type": "display_data"
    },
    {
     "data": {
      "text/html": [
       "<div>\n",
       "<style scoped>\n",
       "    .dataframe tbody tr th:only-of-type {\n",
       "        vertical-align: middle;\n",
       "    }\n",
       "\n",
       "    .dataframe tbody tr th {\n",
       "        vertical-align: top;\n",
       "    }\n",
       "\n",
       "    .dataframe thead th {\n",
       "        text-align: right;\n",
       "    }\n",
       "</style>\n",
       "<table border=\"1\" class=\"dataframe\">\n",
       "  <thead>\n",
       "    <tr style=\"text-align: right;\">\n",
       "      <th></th>\n",
       "      <th>GPS Time (ms)</th>\n",
       "      <th>RTC Time (ms)</th>\n",
       "      <th>Synch Time (ms)</th>\n",
       "      <th>GPS Time</th>\n",
       "      <th>RTC Time</th>\n",
       "      <th>Synch Time</th>\n",
       "    </tr>\n",
       "  </thead>\n",
       "  <tbody>\n",
       "    <tr>\n",
       "      <th>0</th>\n",
       "      <td>1000</td>\n",
       "      <td>1.000000e+03</td>\n",
       "      <td>1000</td>\n",
       "      <td>11:12:29.000</td>\n",
       "      <td>11:12:29.000</td>\n",
       "      <td>11:12:29.000</td>\n",
       "    </tr>\n",
       "    <tr>\n",
       "      <th>1</th>\n",
       "      <td>2000</td>\n",
       "      <td>2.000000e+03</td>\n",
       "      <td>2000</td>\n",
       "      <td>11:12:30.000</td>\n",
       "      <td>11:12:30.000</td>\n",
       "      <td>11:12:30.000</td>\n",
       "    </tr>\n",
       "    <tr>\n",
       "      <th>2</th>\n",
       "      <td>3000</td>\n",
       "      <td>3.000000e+03</td>\n",
       "      <td>3000</td>\n",
       "      <td>11:12:31.000</td>\n",
       "      <td>11:12:31.000</td>\n",
       "      <td>11:12:31.000</td>\n",
       "    </tr>\n",
       "    <tr>\n",
       "      <th>3</th>\n",
       "      <td>4000</td>\n",
       "      <td>4.000000e+03</td>\n",
       "      <td>4000</td>\n",
       "      <td>11:12:32.000</td>\n",
       "      <td>11:12:32.000</td>\n",
       "      <td>11:12:32.000</td>\n",
       "    </tr>\n",
       "    <tr>\n",
       "      <th>4</th>\n",
       "      <td>5000</td>\n",
       "      <td>5.000000e+03</td>\n",
       "      <td>5000</td>\n",
       "      <td>11:12:33.000</td>\n",
       "      <td>11:12:33.000</td>\n",
       "      <td>11:12:33.000</td>\n",
       "    </tr>\n",
       "    <tr>\n",
       "      <th>...</th>\n",
       "      <td>...</td>\n",
       "      <td>...</td>\n",
       "      <td>...</td>\n",
       "      <td>...</td>\n",
       "      <td>...</td>\n",
       "      <td>...</td>\n",
       "    </tr>\n",
       "    <tr>\n",
       "      <th>243647</th>\n",
       "      <td>243686000</td>\n",
       "      <td>2.436861e+08</td>\n",
       "      <td>243685997</td>\n",
       "      <td>6:53:54.000</td>\n",
       "      <td>6:53:54.105</td>\n",
       "      <td>6:53:53.997</td>\n",
       "    </tr>\n",
       "    <tr>\n",
       "      <th>243648</th>\n",
       "      <td>243687000</td>\n",
       "      <td>2.436871e+08</td>\n",
       "      <td>243686997</td>\n",
       "      <td>6:53:55.000</td>\n",
       "      <td>6:53:55.105</td>\n",
       "      <td>6:53:54.997</td>\n",
       "    </tr>\n",
       "    <tr>\n",
       "      <th>243649</th>\n",
       "      <td>243688000</td>\n",
       "      <td>2.436881e+08</td>\n",
       "      <td>243687997</td>\n",
       "      <td>6:53:56.000</td>\n",
       "      <td>6:53:56.105</td>\n",
       "      <td>6:53:55.997</td>\n",
       "    </tr>\n",
       "    <tr>\n",
       "      <th>243650</th>\n",
       "      <td>243689000</td>\n",
       "      <td>2.436891e+08</td>\n",
       "      <td>243688997</td>\n",
       "      <td>6:53:57.000</td>\n",
       "      <td>6:53:57.105</td>\n",
       "      <td>6:53:56.997</td>\n",
       "    </tr>\n",
       "    <tr>\n",
       "      <th>243651</th>\n",
       "      <td>243690000</td>\n",
       "      <td>2.436901e+08</td>\n",
       "      <td>243689997</td>\n",
       "      <td>6:53:58.000</td>\n",
       "      <td>6:53:58.105</td>\n",
       "      <td>6:53:57.997</td>\n",
       "    </tr>\n",
       "  </tbody>\n",
       "</table>\n",
       "<p>243652 rows × 6 columns</p>\n",
       "</div>"
      ],
      "text/plain": [
       "        GPS Time (ms)  RTC Time (ms)  Synch Time (ms)      GPS Time  \\\n",
       "0                1000   1.000000e+03             1000  11:12:29.000   \n",
       "1                2000   2.000000e+03             2000  11:12:30.000   \n",
       "2                3000   3.000000e+03             3000  11:12:31.000   \n",
       "3                4000   4.000000e+03             4000  11:12:32.000   \n",
       "4                5000   5.000000e+03             5000  11:12:33.000   \n",
       "...               ...            ...              ...           ...   \n",
       "243647      243686000   2.436861e+08        243685997   6:53:54.000   \n",
       "243648      243687000   2.436871e+08        243686997   6:53:55.000   \n",
       "243649      243688000   2.436881e+08        243687997   6:53:56.000   \n",
       "243650      243689000   2.436891e+08        243688997   6:53:57.000   \n",
       "243651      243690000   2.436901e+08        243689997   6:53:58.000   \n",
       "\n",
       "            RTC Time    Synch Time  \n",
       "0       11:12:29.000  11:12:29.000  \n",
       "1       11:12:30.000  11:12:30.000  \n",
       "2       11:12:31.000  11:12:31.000  \n",
       "3       11:12:32.000  11:12:32.000  \n",
       "4       11:12:33.000  11:12:33.000  \n",
       "...              ...           ...  \n",
       "243647   6:53:54.105   6:53:53.997  \n",
       "243648   6:53:55.105   6:53:54.997  \n",
       "243649   6:53:56.105   6:53:55.997  \n",
       "243650   6:53:57.105   6:53:56.997  \n",
       "243651   6:53:58.105   6:53:57.997  \n",
       "\n",
       "[243652 rows x 6 columns]"
      ]
     },
     "metadata": {},
     "output_type": "display_data"
    }
   ],
   "source": [
    "net1 = MLPRegressor(alpha = 1e-4, solver = 'adam', random_state =1,\n",
    "                  learning_rate_init = 0.1/(10)).fit(x1_train, np.reshape(y1_train, len(y1_train)))\n",
    "print(\"Performance of model on training set\")\n",
    "RegMetrics(x1_train, y1_train, x1_val, y1_val, x1_test, y1_test, net1)\n",
    "print(\"Synchronised time: Training set Sensor 1\")\n",
    "synch(RTC_millis1, GPS_millis1, net1, time1, accOffset)"
   ]
  },
  {
   "cell_type": "code",
   "execution_count": 11,
   "metadata": {},
   "outputs": [],
   "source": [
    "error = np.zeros(6)\n",
    "for i in range(1, 6):\n",
    "    net1 = MLPRegressor(alpha = 1e-4, solver = 'adam', random_state =1,\n",
    "                  learning_rate_init = 0.1/(10*i)).fit(x1_train, np.reshape(y1_train, len(y1_train)))\n",
    "    predict = net1.predict(x1_val)\n",
    "    error[i - 1] = RMSE(predict, y1_val)"
   ]
  },
  {
   "cell_type": "code",
   "execution_count": 12,
   "metadata": {},
   "outputs": [
    {
     "data": {
      "image/png": "[encoded data removed]",
      "text/plain": [
       "<Figure size 432x288 with 1 Axes>"
      ]
     },
     "metadata": {
      "needs_background": "light"
     },
     "output_type": "display_data"
    }
   ],
   "source": [
    "t = np.linspace(1, 6, 6)\n",
    "plt.plot(t, error)\n",
    "plt.title('RMSE of test set at different neural net learning rates')\n",
    "plt.xlabel('Learning rate')\n",
    "plt.ylabel('RMSE')\n",
    "plt.show()"
   ]
  },
  {
   "cell_type": "code",
   "execution_count": 36,
   "metadata": {},
   "outputs": [
    {
     "data": {
      "image/png": "[encoded data removed]",
      "text/plain": [
       "<Figure size 432x288 with 1 Axes>"
      ]
     },
     "metadata": {
      "needs_background": "light"
     },
     "output_type": "display_data"
    }
   ],
   "source": [
    "predict1 = model1.predict(x1_val)\n",
    "resid1 = np.zeros(y1_val.size)\n",
    "for i in range(y1_val.size):\n",
    "    resid1[i] = predict1[i] - y1_val[i]\n",
    "#Residual plots\n",
    "t = np.linspace(0, max(x1_val))\n",
    "z = np.zeros(50)\n",
    "plt.scatter(x1_val, resid1, s = 1)\n",
    "plt.plot(t, z, color = 'orange')\n",
    "plt.title('Residual plot for linear regression model')\n",
    "plt.xlabel('Residuals')\n",
    "plt.ylabel('RTC clock time')\n",
    "plt.show()"
   ]
  },
  {
   "cell_type": "code",
   "execution_count": 15,
   "metadata": {},
   "outputs": [
    {
     "name": "stdout",
     "output_type": "stream",
     "text": [
      "Train on 194921 samples\n",
      "Epoch 1/8\n",
      "194921/194921 [==============================] - 6s 30us/sample - loss: 4.1554\n",
      "Epoch 2/8\n",
      "194921/194921 [==============================] - 6s 29us/sample - loss: 1.82682s - - ETA: 1s - loss: 1 - ETA: 1s - loss: 1.8  - ETA: 0s - loss: 1.\n",
      "Epoch 3/8\n",
      "194921/194921 [==============================] - 6s 29us/sample - loss: 1.8271\n",
      "Epoch 4/8\n",
      "194921/194921 [==============================] - 6s 30us/sample - loss: 1.8264\n",
      "Epoch 5/8\n",
      "194921/194921 [==============================] - 6s 29us/sample - loss: 1.8266\n",
      "Epoch 6/8\n",
      "194921/194921 [==============================] - 6s 31us/sample - loss: 1.82584s -  - ETA: 4s - loss: 1.820\n",
      "Epoch 7/8\n",
      "194921/194921 [==============================] - 6s 30us/sample - loss: 1.82711s - loss: 1.82 - ETA: 1s - ETA: 0s -\n",
      "Epoch 8/8\n",
      "194921/194921 [==============================] - 6s 32us/sample - loss: 1.8270\n"
     ]
    }
   ],
   "source": [
    "#TensorFlow linear regression\n",
    "normalizer1 = preprocessing.Normalization()\n",
    "normalizer1.adapt(x1_train)\n",
    "\n",
    "model3 = tf.keras.Sequential([\n",
    "    normalizer1,\n",
    "    layers.Dense(units=1)\n",
    "])\n",
    "\n",
    "model3.compile(\n",
    "    optimizer=tf.optimizers.Adam(learning_rate=0.1),\n",
    "    loss='mean_absolute_error')\n",
    "\n",
    "history1 = model3.fit(\n",
    "    np.reshape(x1_train, len(x1_train)).astype(float), np.reshape(y1_train, len(y1_train)).astype(float),\n",
    "    epochs = 8,\n",
    "    verbose = 1\n",
    "    )"
   ]
  },
  {
   "cell_type": "code",
   "execution_count": 16,
   "metadata": {},
   "outputs": [
    {
     "name": "stdout",
     "output_type": "stream",
     "text": [
      "1.8413257248172177\n",
      "2.3898725786975548\n"
     ]
    }
   ],
   "source": [
    "predict = model3.predict(np.reshape(x1_val, len(x1_val)).astype(float))\n",
    "predict = np.reshape((predict),len(predict))\n",
    "print(MAE(predict, y1_val))\n",
    "print(RMSE(predict, y1_val))"
   ]
  },
  {
   "cell_type": "code",
   "execution_count": 17,
   "metadata": {},
   "outputs": [
    {
     "data": {
      "image/png": "[encoded data removed]",
      "text/plain": [
       "<Figure size 432x288 with 1 Axes>"
      ]
     },
     "metadata": {
      "needs_background": "light"
     },
     "output_type": "display_data"
    }
   ],
   "source": [
    "def plot_loss(history):\n",
    "  plt.plot(history1.history['loss'], label='loss')\n",
    "  plt.xlabel('Epoch')\n",
    "  plt.ylabel('Error')\n",
    "  plt.legend()\n",
    "  plt.grid(True)\n",
    "plot_loss(history1)"
   ]
  },
  {
   "cell_type": "code",
   "execution_count": 18,
   "metadata": {},
   "outputs": [
    {
     "name": "stdout",
     "output_type": "stream",
     "text": [
      "Train on 194921 samples\n",
      "Epoch 1/8\n",
      "194921/194921 [==============================] - 7s 36us/sample - loss: 2.67452s - l - ET - ETA: 0s - loss: 2.7 - ETA: 0s - loss: \n",
      "Epoch 2/8\n",
      "194921/194921 [==============================] - 7s 34us/sample - loss: 1.2552\n",
      "Epoch 3/8\n",
      "194921/194921 [==============================] - 7s 35us/sample - loss: 1.2502\n",
      "Epoch 4/8\n",
      "194921/194921 [==============================] - 7s 35us/sample - loss: 1.2475\n",
      "Epoch 5/8\n",
      "194921/194921 [==============================] - 7s 35us/sample - loss: 1.24744s - loss: - ETA: 2s  - ETA: 0s - loss: 1. - ETA: 0s -\n",
      "Epoch 6/8\n",
      "194921/194921 [==============================] - 7s 36us/sample - loss: 1.2473\n",
      "Epoch 7/8\n",
      "194921/194921 [==============================] - 7s 37us/sample - loss: 1.2460\n",
      "Epoch 8/8\n",
      "194921/194921 [==============================] - 7s 37us/sample - loss: 1.2456\n"
     ]
    }
   ],
   "source": [
    "#Tensor flow neural network\n",
    "def build_and_compile_model(norm):\n",
    "  model = keras.Sequential([\n",
    "      norm,\n",
    "      layers.Dense(64, activation='relu'),\n",
    "      layers.Dense(64, activation='relu'),\n",
    "      layers.Dense(1)\n",
    "  ])\n",
    "\n",
    "  model.compile(loss='mean_absolute_error',\n",
    "                optimizer=tf.keras.optimizers.Adam(0.001))\n",
    "  return model\n",
    "\n",
    "net2 = build_and_compile_model(normalizer1)\n",
    "\n",
    "history2 = net2.fit(\n",
    "    np.reshape(x1_train, len(x1_train)).astype(float), np.reshape(y1_train, len(y1_train)).astype(float),\n",
    "    verbose=1, epochs=8)"
   ]
  },
  {
   "cell_type": "code",
   "execution_count": 22,
   "metadata": {},
   "outputs": [
    {
     "name": "stdout",
     "output_type": "stream",
     "text": [
      "40.92706011513362\n",
      "47.79864715270067\n"
     ]
    }
   ],
   "source": [
    "predict2 = net1.predict((x1_val).astype(float))\n",
    "predict2 = np.reshape((predict2),len(predict2))\n",
    "print(MAE(predict2, y1_val))\n",
    "print(RMSE(predict2, y1_val))"
   ]
  },
  {
   "cell_type": "code",
   "execution_count": 20,
   "metadata": {},
   "outputs": [
    {
     "data": {
      "image/png": "[encoded data removed]",
      "text/plain": [
       "<Figure size 432x288 with 1 Axes>"
      ]
     },
     "metadata": {
      "needs_background": "light"
     },
     "output_type": "display_data"
    }
   ],
   "source": [
    "plot_loss(history2)"
   ]
  }
 ],
 "metadata": {
  "kernelspec": {
   "display_name": "Python 3",
   "language": "python",
   "name": "python3"
  },
  "language_info": {
   "codemirror_mode": {
    "name": "ipython",
    "version": 3
   },
   "file_extension": ".py",
   "mimetype": "text/x-python",
   "name": "python",
   "nbconvert_exporter": "python",
   "pygments_lexer": "ipython3",
   "version": "3.7.6"
  }
 },
 "nbformat": 4,
 "nbformat_minor": 4
}
