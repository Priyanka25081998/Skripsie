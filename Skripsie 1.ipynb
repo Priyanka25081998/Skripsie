{
 "cells": [
  {
   "cell_type": "code",
   "execution_count": 2,
   "metadata": {},
   "outputs": [],
   "source": [
    "%matplotlib inline\n",
    "import matplotlib.pyplot as plt\n",
    "import numpy as np\n",
    "import pandas as pd\n",
    "from pandas import DataFrame\n",
    "from pandas import concat\n",
    "import math\n",
    "import csv\n",
    "from sklearn.model_selection import train_test_split\n",
    "from sklearn.linear_model import LinearRegression\n",
    "from sklearn.neural_network import MLPRegressor\n",
    "import tensorflow as tf\n",
    "from sklearn.preprocessing import PolynomialFeatures\n",
    "from sklearn import linear_model\n",
    "from tensorflow import keras\n",
    "from tensorflow.keras import layers\n",
    "from tensorflow.keras.layers.experimental import preprocessing"
   ]
  },
  {
   "cell_type": "code",
   "execution_count": 50,
   "metadata": {},
   "outputs": [],
   "source": [
    "#Function to convert GPS time to milliseconds\n",
    "#The base time is the RTC time in milliseconds that corresponds with the first GPS time stamp\n",
    "def timeToMillis(time, RTC_millis):\n",
    "    sec = np.zeros(time.size)\n",
    "    sec = sec.astype(int)\n",
    "    minutes = np.zeros(time.size)\n",
    "    minutes = minutes.astype(int)\n",
    "    hours = np.zeros(time.size)\n",
    "    hours = hours.astype(int)\n",
    "    for i in range(0, time.size):\n",
    "        sec[i] = time[i]%100\n",
    "    for i in range(0, time.size):\n",
    "        minutes[i] = (time[i]%10000 - time[i]%100)/100\n",
    "    for i in range(0, time.size):\n",
    "        hours[i] = (time[i] - time[i]%10000)/10000\n",
    "\n",
    "    GPS_millis = np.zeros(time.size)\n",
    "    GPS_millis = GPS_millis.astype(int)\n",
    "    GPS_millis[0] = RTC_millis[0]\n",
    "    for i in range (1, time.size):\n",
    "        if (sec[i] > sec[i - 1]):\n",
    "            if (minutes[i] >= minutes[i - 1]):\n",
    "                GPS_millis[i] = GPS_millis[i - 1] + (sec[i] - sec[i - 1])*1000 + (minutes[i] - minutes[i - 1])*60*1000\n",
    "            else:\n",
    "                GPS_millis[i] = GPS_millis[i - 1] + (sec[i] - sec[i - 1])*1000 + (60 + minutes[i] - minutes[i - 1])*60*1000            \n",
    "        else:\n",
    "            if (minutes[i] >= minutes[i - 1]):\n",
    "                GPS_millis[i] = GPS_millis[i - 1] + (60 + sec[i] - sec[i - 1])*1000 + (minutes[i] - minutes[i - 1] - 1)*60*1000\n",
    "            else:\n",
    "                GPS_millis[i] = GPS_millis[i - 1] + (60 + sec[i] - sec[i - 1])*1000 + (59 + minutes[i] - minutes[i - 1])*60*1000            \n",
    "    return GPS_millis\n",
    "\n",
    "\n",
    "#Function to convert time in milliseconds to digital time \n",
    "#Used to convert both GPS time in milliseconds and RTC time in milliseconds to digital time \n",
    "#The base time is taken as the first GPS time stamp\n",
    "def millisToTime(millis, time):\n",
    "    mil = millis/1000\n",
    "    time_temp = np.zeros(time.size)\n",
    "    hours = np.zeros(time_temp.size)\n",
    "    minutes = np.zeros(time_temp.size)\n",
    "    seconds = np.zeros(time_temp.size)\n",
    "    time_temp[0] = time[0]\n",
    "    for i in range (1, time.size):\n",
    "        seconds[i] = time_temp[i - 1]%100 + (mil[i] - mil[i - 1])\n",
    "        if (seconds[i] > 60):\n",
    "            temp_minutes = 0\n",
    "            while (seconds[i] >= 60):\n",
    "                temp_minutes += 100\n",
    "                seconds[i] = seconds[i] - 60\n",
    "            minutes[i] = (time_temp[i-1]%10000 - time_temp[i-1]%100) + temp_minutes\n",
    "        elif (seconds[i] == 60):\n",
    "            seconds[i] = 0\n",
    "            minutes[i] = (time_temp[i-1]%10000 - time_temp[i-1]%100) + 100\n",
    "        else:\n",
    "            minutes[i] = (time_temp[i-1]%10000 - time_temp[i-1]%100)\n",
    "        if (minutes[i] > 5900):\n",
    "            minutes[i] = 6000 - minutes[i]\n",
    "            hours[i] = (time_temp[i-1] - time_temp[i-1]%10000) + 10000\n",
    "        else:\n",
    "            hours[i] = (time_temp[i-1] - time_temp[i-1]%10000)\n",
    "        if (hours[i] > 230000):\n",
    "            hours[i] = 240000 - hours[i]\n",
    "        time_temp[i] = hours[i] + minutes[i] + seconds[i]\n",
    "\n",
    "    #Split time with colons\n",
    "    output_time = [0 for i in range(time_temp.size)]\n",
    "    hours_temp = np.zeros(time_temp.size)\n",
    "    minutes_temp = np.zeros(time_temp.size)\n",
    "    seconds_temp = np.zeros(time_temp.size)\n",
    "    for i in range (0, time_temp.size):\n",
    "        hours_temp[i] = int((time_temp[i] - time_temp[i]%10000)/10000)\n",
    "        minutes_temp[i] = int((time_temp[i]%10000 - time_temp[i]%100)/100)\n",
    "        seconds_temp[i] = time_temp[i]%100\n",
    "        if (seconds_temp[i] < 10):\n",
    "            if(minutes_temp[i] < 10):\n",
    "                output_time[i] = \"%d:0%d:0%.3f\" % (hours_temp[i], minutes_temp[i], seconds_temp[i])\n",
    "            else:\n",
    "                output_time[i] = \"%d:%d:0%.3f\" % (hours_temp[i], minutes_temp[i], seconds_temp[i])\n",
    "        else:\n",
    "            if(minutes_temp[i] < 10):\n",
    "                output_time[i] = \"%d:0%d:%.3f\" % (hours_temp[i], minutes_temp[i], seconds_temp[i])  \n",
    "            else:\n",
    "                output_time[i] = \"%d:%d:%.3f\" % (hours_temp[i], minutes_temp[i], seconds_temp[i])\n",
    "    return output_time \n",
    "\n",
    "#Split data into training and testing sets (0.8/0.2)\n",
    "def dataSplit(x_millis, y_millis):\n",
    "    x_train, x_test, y_train, y_test = train_test_split(x_millis, y_millis, test_size=0.2, random_state=1)\n",
    "    x_val, x_test, y_val, y_test = train_test_split(x_test, y_test, test_size = 0.5, random_state = 1)\n",
    "    return x_train.reshape(-1,1), y_train.reshape(-1,1), x_test.reshape(-1,1), y_test.reshape(-1,1), x_val.reshape(-1,1), y_val.reshape(-1,1)\n",
    "\n",
    "\n",
    "#Metrics for regression analysis\n",
    "def RMSE(predict, y):\n",
    "    c = np.zeros(predict.size)\n",
    "    for i in range (0, predict.size):\n",
    "        c[i] = (y[i] - predict[i])**2\n",
    "    return np.sqrt((np.sum(c))/len(c))\n",
    "\n",
    "def MAE(predict, y):\n",
    "    c = np.zeros(predict.size)\n",
    "    for i in range (0, predict.size):\n",
    "        c[i] = abs(y[i] - predict[i])\n",
    "    return (np.sum(c))/len(c)\n",
    "\n",
    "#Metrics related to clock AccOffset \n",
    "def plotDrift(GPS_millis, RTC_millis):\n",
    "    Drift = np.zeros(GPS_millis.size)\n",
    "    for i in range(1, GPS_millis.size):\n",
    "        Drift[i] = ((GPS_millis[i] - RTC_millis[i])/GPS_millis[i])*1000000\n",
    "    t = np.linspace(10000, len(GPS_millis), len(GPS_millis[10000:len(GPS_millis)]))\n",
    "    plt.plot(t, Drift[10000:len(GPS_millis)])\n",
    "    plt.title('Frequency of clock drift of Teensy internal RTC (ppm)')\n",
    "    plt.xlabel('Seconds since start-up')\n",
    "    plt.ylabel('Drift (ppm)')\n",
    "    plt.show()\n",
    "\n",
    "def plotOffset(GPS_millis, RTC_millis):\n",
    "    offset = np.zeros(GPS_millis.size)\n",
    "    offsetsum = 0\n",
    "    for i in range(0, GPS_millis.size):\n",
    "        offset[i] = (GPS_millis[i] - offsetsum - RTC_millis[i])\n",
    "        offsetsum = np.sum(offset)\n",
    "    t = np.linspace(0, len(GPS_millis), len(GPS_millis))\n",
    "    plt.plot(t, offset)\n",
    "    plt.title('Clock offset of internal Teensy RTC (ms)')\n",
    "    plt.xlabel('Seconds since start-up')\n",
    "    plt.ylabel('Clock offset (ms)')\n",
    "    plt.show()\n",
    "    \n",
    "\n",
    "def plotAccOffset(GPS_millis, RTC_millis):\n",
    "    AccOffset = np.zeros(GPS_millis.size)\n",
    "    for i in range(0, GPS_millis.size):\n",
    "        AccOffset[i] = (GPS_millis[i] - RTC_millis[i])\n",
    "    t = np.linspace(0, len(GPS_millis), len(GPS_millis))\n",
    "    plt.plot(t, AccOffset)\n",
    "    plt.title('Accumulated offset of Teensy internal RTC (ms)')\n",
    "    plt.xlabel('Seconds since start-up')\n",
    "    plt.ylabel('Accumulated offset (ms)')\n",
    "    plt.show()\n",
    "    \n",
    "def AccOffset(GPS_millis, RTC_millis):\n",
    "    d = np.zeros(GPS_millis.size)\n",
    "    for i in range(0, GPS_millis.size):\n",
    "        d[i] = (GPS_millis[i] - RTC_millis[i])\n",
    "    return d\n",
    "\n",
    "def Drift(GPS_millis, RTC_millis):\n",
    "    Drift = np.zeros(GPS_millis.size)\n",
    "    for i in range(1, GPS_millis.size):\n",
    "        Drift[i] = ((GPS_millis[i] - RTC_millis[i])/GPS_millis[i])*1000000\n",
    "    return Drift\n",
    "\n",
    "def convertToCycles(array):\n",
    "    a = np.zeros(array.size)\n",
    "    for i in range(0, array.size):\n",
    "        a[i] = (array[i]/1000)*32768\n",
    "    return a\n",
    "\n",
    "#dataframe to summarise linear regression metrics\n",
    "def RegMetrics(x1_train, y1_train, x1_val, y1_val, x1_test, y1_test, model):\n",
    "    predict1 = model.predict(x1_train)\n",
    "    r1 =  model.score(x1_train, y1_train)\n",
    "    rmse1 = RMSE(predict1, y1_train)\n",
    "    mae1 =  MAE(predict1, y1_train)\n",
    "    \n",
    "    predict2 = model.predict(x1_test)\n",
    "    r2 = model.score(x1_test, y1_test)\n",
    "    rmse2 = RMSE(predict2, y1_test)\n",
    "    mae2 = MAE(predict2, y1_test)\n",
    "    \n",
    "    predict3 = model.predict(x1_val)\n",
    "    r3 = model.score(x1_val, y1_val)\n",
    "    rmse3 = RMSE(predict3, y1_val)\n",
    "    mae3 = MAE(predict3, y1_val)\n",
    "    \n",
    "    d = {'Index Title': ['Training', 'Validation', 'Test'],'R': [r1, r3, r2], 'RMSE' : [rmse1, rmse3, rmse2], 'MAE' :[mae1, mae3, mae2]}\n",
    "    df = pd.DataFrame(d).set_index('Index Title')\n",
    "    return display(df)\n",
    "\n",
    "\n",
    "#Data Frames to summarise metrics for testing sets and display synchronised time\n",
    "def synch(RTC_millis, GPS_millis, model, time, AccOffset):\n",
    "    millis_predict = model.predict(RTC_millis.reshape(-1, 1))\n",
    "    #Convert AccOffset prediction to synchronised time by adding the AccOffset to RTC time in milliseconds\n",
    "    for i in range (0, millis_predict.size):\n",
    "        millis_predict[i] = RTC_millis[i] + millis_predict[i]\n",
    "    millis_predict = (np.reshape(millis_predict, len(millis_predict))).astype(int)\n",
    "    r =  model.score(RTC_millis.reshape(-1, 1), AccOffset.reshape(-1, 1))\n",
    "    rmse =  RMSE(millis_predict, GPS_millis)\n",
    "    mae = MAE(millis_predict, GPS_millis)\n",
    "    \n",
    "    d = {'R': [r], 'RMSE' : [rmse], 'MAE' :[mae]}\n",
    "    d = pd.DataFrame(d)\n",
    "    display(d)\n",
    "    df = pd.DataFrame({'GPS Time (ms)': GPS_millis, 'RTC Time (ms)': RTC_millis, \n",
    "                         'Synch Time (ms)' : millis_predict, 'GPS Time': millisToTime(GPS_millis, time),\n",
    "                           'RTC Time':millisToTime(RTC_millis, time), 'Synch Time' : millisToTime(millis_predict, time)})\n",
    "    return display(df)"
   ]
  },
  {
   "cell_type": "code",
   "execution_count": 51,
   "metadata": {},
   "outputs": [],
   "source": [
    "#Reading data from training run of sensor 1\n",
    "with open('GPT2.TXT', 'r') as in_file:\n",
    "    stripped = (line.strip() for line in in_file)\n",
    "    lines = (line.split(\",\") for line in stripped if line)\n",
    "    with open('GPT2.csv', 'w') as out_file:\n",
    "        writer = csv.writer(out_file)\n",
    "        writer.writerow(('GPS/RTC', 'Time', 'Day', 'Month', 'Year', 'Millis', 'Temp', 'Offset', 'Number'))\n",
    "        writer.writerows(lines)\n",
    "        \n",
    "data1 = pd.read_csv(\"GPT2.csv\")\n",
    "data_arr1 = np.array(data1)\n",
    "time1 = data_arr1[0:,1]\n",
    "#RTC_millis1 = data_arr1[0:,5]\n",
    "temp1 = data_arr1[0:,6]\n",
    "offset1 = data_arr1[0:,7]\n",
    "num1 = data_arr1[0:,8]\n",
    "\n",
    "#Cleaning data\n",
    "#for i in range(0, 131063):\n",
    "#    RTC_millis1[i] = (RTC_millis1[i]- 9*(32768) - 12343)/32768\n",
    "#RTC_millis1[131063] = 32768  \n",
    "#for i in range(131064, RTC_millis1.size):\n",
    "#    RTC_millis1[i] = RTC_millis1[i] + 6662\n",
    "#for i in range(131063, RTC_millis1.size):\n",
    "#    RTC_millis1[i] = RTC_millis1[i]/32768 + RTC_millis1[131062]\n",
    "#cycles = np.zeros(RTC_millis1.size)\n",
    "#for i in range(RTC_millis1.size):\n",
    "#    cycles[i] = RTC_millis1[i]*32768\n",
    "#for i in range(RTC_millis1.size):\n",
    "#    RTC_millis1[i] = RTC_millis1[i]*1000\n",
    "\n",
    "RTC_millis1 = np.zeros(offset1.size)\n",
    "for i in range(0, offset1.size):\n",
    "    RTC_millis1[i] = offset1[i] + RTC_millis1[i - 1]\n",
    "for i in range(0, offset1.size):\n",
    "    RTC_millis1[i] = (RTC_millis1[i]/32768)*1000"
   ]
  },
  {
   "cell_type": "code",
   "execution_count": 52,
   "metadata": {},
   "outputs": [],
   "source": [
    "#Determining the GPS milliseconds since start-up for all three sensors\n",
    "GPS_millis1 = timeToMillis(time1, RTC_millis1)\n",
    "\n",
    "#Determining the AccOffset of all three sensors\n",
    "AccOffset1 = AccOffset(GPS_millis1, RTC_millis1)\n",
    "\n",
    "#Splitting the training and testing data only for the first sensor (on which the model is built and tested)\n",
    "x1_train, y1_train, x1_test, y1_test, x1_val, y1_val = dataSplit(RTC_millis1, AccOffset1)"
   ]
  },
  {
   "cell_type": "code",
   "execution_count": 53,
   "metadata": {
    "scrolled": true
   },
   "outputs": [
    {
     "data": {
      "image/png": "[encoded data removed]",
      "text/plain": [
       "<Figure size 432x288 with 1 Axes>"
      ]
     },
     "metadata": {
      "needs_background": "light"
     },
     "output_type": "display_data"
    },
    {
     "data": {
      "image/png": "[encoded data removed]",
      "text/plain": [
       "<Figure size 432x288 with 1 Axes>"
      ]
     },
     "metadata": {
      "needs_background": "light"
     },
     "output_type": "display_data"
    },
    {
     "data": {
      "image/png": "[encoded data removed]",
      "text/plain": [
       "<Figure size 432x288 with 1 Axes>"
      ]
     },
     "metadata": {
      "needs_background": "light"
     },
     "output_type": "display_data"
    }
   ],
   "source": [
    "#Drift and AccOffset graphs of all three sensor sets\n",
    "plotDrift(GPS_millis1, RTC_millis1)\n",
    "plotOffset(GPS_millis1, RTC_millis1)\n",
    "plotAccOffset(GPS_millis1, RTC_millis1)\n"
   ]
  },
  {
   "cell_type": "code",
   "execution_count": 28,
   "metadata": {},
   "outputs": [
    {
     "name": "stdout",
     "output_type": "stream",
     "text": [
      "RMSE Testing Sensor One:  662.5036063537375\n",
      "MAE Testing Sensor One: 572.0138910892798\n"
     ]
    }
   ],
   "source": [
    "print('RMSE Testing Sensor One: ', RMSE(RTC_millis1, GPS_millis1))\n",
    "print('MAE Testing Sensor One:', MAE(RTC_millis1, GPS_millis1))"
   ]
  },
  {
   "cell_type": "code",
   "execution_count": 49,
   "metadata": {},
   "outputs": [
    {
     "data": {
      "image/png": "[encoded data removed]",
      "text/plain": [
       "<Figure size 432x288 with 1 Axes>"
      ]
     },
     "metadata": {
      "needs_background": "light"
     },
     "output_type": "display_data"
    }
   ],
   "source": [
    "t = np.linspace(0, len(temp1), len(temp1))\n",
    "plt.plot(t, temp1)\n",
    "plt.title('Temp')\n",
    "plt.xlabel('Time')\n",
    "plt.ylabel('Temp')\n",
    "plt.show()"
   ]
  },
  {
   "cell_type": "code",
   "execution_count": 30,
   "metadata": {},
   "outputs": [],
   "source": [
    "drift = Drift(GPS_millis1, RTC_millis1)\n",
    "accOffset = AccOffset(GPS_millis1, RTC_millis1)"
   ]
  },
  {
   "cell_type": "code",
   "execution_count": 31,
   "metadata": {},
   "outputs": [
    {
     "data": {
      "image/png": "[encoded data removed]",
      "text/plain": [
       "<Figure size 432x288 with 1 Axes>"
      ]
     },
     "metadata": {
      "needs_background": "light"
     },
     "output_type": "display_data"
    }
   ],
   "source": [
    "plt.scatter(temp1[90000:drift.size], drift[90000:drift.size], s = 2)\n",
    "plt.title('Drift at different temperatures')\n",
    "plt.xlabel('Temperature')\n",
    "plt.ylabel('Drift')\n",
    "plt.show()\n"
   ]
  },
  {
   "cell_type": "code",
   "execution_count": 33,
   "metadata": {},
   "outputs": [
    {
     "name": "stdout",
     "output_type": "stream",
     "text": [
      "Mean drift: 4.436217878974146\n",
      "Mean accumulated offset: 572.0138910892798\n",
      "Mean temperature: 16.185029182052705\n"
     ]
    }
   ],
   "source": [
    "print('Mean drift:', np.mean(drift))\n",
    "print('Mean accumulated offset:', np.mean(accOffset))\n",
    "print('Mean temperature:', np.mean(temp1))"
   ]
  },
  {
   "cell_type": "code",
   "execution_count": 34,
   "metadata": {},
   "outputs": [
    {
     "name": "stdout",
     "output_type": "stream",
     "text": [
      "Performance of model on training set\n"
     ]
    },
    {
     "data": {
      "text/html": [
       "<div>\n",
       "<style scoped>\n",
       "    .dataframe tbody tr th:only-of-type {\n",
       "        vertical-align: middle;\n",
       "    }\n",
       "\n",
       "    .dataframe tbody tr th {\n",
       "        vertical-align: top;\n",
       "    }\n",
       "\n",
       "    .dataframe thead th {\n",
       "        text-align: right;\n",
       "    }\n",
       "</style>\n",
       "<table border=\"1\" class=\"dataframe\">\n",
       "  <thead>\n",
       "    <tr style=\"text-align: right;\">\n",
       "      <th></th>\n",
       "      <th>R</th>\n",
       "      <th>RMSE</th>\n",
       "      <th>MAE</th>\n",
       "    </tr>\n",
       "    <tr>\n",
       "      <th>Index Title</th>\n",
       "      <th></th>\n",
       "      <th></th>\n",
       "      <th></th>\n",
       "    </tr>\n",
       "  </thead>\n",
       "  <tbody>\n",
       "    <tr>\n",
       "      <th>Training</th>\n",
       "      <td>0.999043</td>\n",
       "      <td>10.335643</td>\n",
       "      <td>9.066946</td>\n",
       "    </tr>\n",
       "    <tr>\n",
       "      <th>Validation</th>\n",
       "      <td>0.999042</td>\n",
       "      <td>10.340819</td>\n",
       "      <td>9.085895</td>\n",
       "    </tr>\n",
       "    <tr>\n",
       "      <th>Test</th>\n",
       "      <td>0.999052</td>\n",
       "      <td>10.343520</td>\n",
       "      <td>9.073011</td>\n",
       "    </tr>\n",
       "  </tbody>\n",
       "</table>\n",
       "</div>"
      ],
      "text/plain": [
       "                    R       RMSE       MAE\n",
       "Index Title                               \n",
       "Training     0.999043  10.335643  9.066946\n",
       "Validation   0.999042  10.340819  9.085895\n",
       "Test         0.999052  10.343520  9.073011"
      ]
     },
     "metadata": {},
     "output_type": "display_data"
    },
    {
     "name": "stdout",
     "output_type": "stream",
     "text": [
      "Synchronised time: Training set Sensor 1\n"
     ]
    },
    {
     "data": {
      "text/html": [
       "<div>\n",
       "<style scoped>\n",
       "    .dataframe tbody tr th:only-of-type {\n",
       "        vertical-align: middle;\n",
       "    }\n",
       "\n",
       "    .dataframe tbody tr th {\n",
       "        vertical-align: top;\n",
       "    }\n",
       "\n",
       "    .dataframe thead th {\n",
       "        text-align: right;\n",
       "    }\n",
       "</style>\n",
       "<table border=\"1\" class=\"dataframe\">\n",
       "  <thead>\n",
       "    <tr style=\"text-align: right;\">\n",
       "      <th></th>\n",
       "      <th>R</th>\n",
       "      <th>RMSE</th>\n",
       "      <th>MAE</th>\n",
       "    </tr>\n",
       "  </thead>\n",
       "  <tbody>\n",
       "    <tr>\n",
       "      <th>0</th>\n",
       "      <td>0.999043</td>\n",
       "      <td>10.337229</td>\n",
       "      <td>9.049578</td>\n",
       "    </tr>\n",
       "  </tbody>\n",
       "</table>\n",
       "</div>"
      ],
      "text/plain": [
       "          R       RMSE       MAE\n",
       "0  0.999043  10.337229  9.049578"
      ]
     },
     "metadata": {},
     "output_type": "display_data"
    },
    {
     "data": {
      "text/html": [
       "<div>\n",
       "<style scoped>\n",
       "    .dataframe tbody tr th:only-of-type {\n",
       "        vertical-align: middle;\n",
       "    }\n",
       "\n",
       "    .dataframe tbody tr th {\n",
       "        vertical-align: top;\n",
       "    }\n",
       "\n",
       "    .dataframe thead th {\n",
       "        text-align: right;\n",
       "    }\n",
       "</style>\n",
       "<table border=\"1\" class=\"dataframe\">\n",
       "  <thead>\n",
       "    <tr style=\"text-align: right;\">\n",
       "      <th></th>\n",
       "      <th>GPS Time (ms)</th>\n",
       "      <th>RTC Time (ms)</th>\n",
       "      <th>Synch Time (ms)</th>\n",
       "      <th>GPS Time</th>\n",
       "      <th>RTC Time</th>\n",
       "      <th>Synch Time</th>\n",
       "    </tr>\n",
       "  </thead>\n",
       "  <tbody>\n",
       "    <tr>\n",
       "      <th>0</th>\n",
       "      <td>1000</td>\n",
       "      <td>1.000000e+03</td>\n",
       "      <td>993</td>\n",
       "      <td>19:17:16.000</td>\n",
       "      <td>19:17:16.000</td>\n",
       "      <td>19:17:16.000</td>\n",
       "    </tr>\n",
       "    <tr>\n",
       "      <th>1</th>\n",
       "      <td>2000</td>\n",
       "      <td>2.000000e+03</td>\n",
       "      <td>1993</td>\n",
       "      <td>19:17:17.000</td>\n",
       "      <td>19:17:17.000</td>\n",
       "      <td>19:17:17.000</td>\n",
       "    </tr>\n",
       "    <tr>\n",
       "      <th>2</th>\n",
       "      <td>3000</td>\n",
       "      <td>3.000000e+03</td>\n",
       "      <td>2993</td>\n",
       "      <td>19:17:18.000</td>\n",
       "      <td>19:17:18.000</td>\n",
       "      <td>19:17:18.000</td>\n",
       "    </tr>\n",
       "    <tr>\n",
       "      <th>3</th>\n",
       "      <td>4000</td>\n",
       "      <td>4.000000e+03</td>\n",
       "      <td>3993</td>\n",
       "      <td>19:17:19.000</td>\n",
       "      <td>19:17:19.000</td>\n",
       "      <td>19:17:19.000</td>\n",
       "    </tr>\n",
       "    <tr>\n",
       "      <th>4</th>\n",
       "      <td>5000</td>\n",
       "      <td>5.000000e+03</td>\n",
       "      <td>4993</td>\n",
       "      <td>19:17:20.000</td>\n",
       "      <td>19:17:20.000</td>\n",
       "      <td>19:17:20.000</td>\n",
       "    </tr>\n",
       "    <tr>\n",
       "      <th>...</th>\n",
       "      <td>...</td>\n",
       "      <td>...</td>\n",
       "      <td>...</td>\n",
       "      <td>...</td>\n",
       "      <td>...</td>\n",
       "      <td>...</td>\n",
       "    </tr>\n",
       "    <tr>\n",
       "      <th>257345</th>\n",
       "      <td>257346000</td>\n",
       "      <td>2.573449e+08</td>\n",
       "      <td>257346000</td>\n",
       "      <td>18:46:21.000</td>\n",
       "      <td>18:46:19.850</td>\n",
       "      <td>18:46:21.007</td>\n",
       "    </tr>\n",
       "    <tr>\n",
       "      <th>257346</th>\n",
       "      <td>257347000</td>\n",
       "      <td>2.573459e+08</td>\n",
       "      <td>257347000</td>\n",
       "      <td>18:46:22.000</td>\n",
       "      <td>18:46:20.850</td>\n",
       "      <td>18:46:22.007</td>\n",
       "    </tr>\n",
       "    <tr>\n",
       "      <th>257347</th>\n",
       "      <td>257348000</td>\n",
       "      <td>2.573469e+08</td>\n",
       "      <td>257348000</td>\n",
       "      <td>18:46:23.000</td>\n",
       "      <td>18:46:21.850</td>\n",
       "      <td>18:46:23.007</td>\n",
       "    </tr>\n",
       "    <tr>\n",
       "      <th>257348</th>\n",
       "      <td>257349000</td>\n",
       "      <td>2.573479e+08</td>\n",
       "      <td>257349000</td>\n",
       "      <td>18:46:24.000</td>\n",
       "      <td>18:46:22.850</td>\n",
       "      <td>18:46:24.007</td>\n",
       "    </tr>\n",
       "    <tr>\n",
       "      <th>257349</th>\n",
       "      <td>257350000</td>\n",
       "      <td>2.573489e+08</td>\n",
       "      <td>257350000</td>\n",
       "      <td>18:46:25.000</td>\n",
       "      <td>18:46:23.850</td>\n",
       "      <td>18:46:25.007</td>\n",
       "    </tr>\n",
       "  </tbody>\n",
       "</table>\n",
       "<p>257350 rows × 6 columns</p>\n",
       "</div>"
      ],
      "text/plain": [
       "        GPS Time (ms)  RTC Time (ms)  Synch Time (ms)      GPS Time  \\\n",
       "0                1000   1.000000e+03              993  19:17:16.000   \n",
       "1                2000   2.000000e+03             1993  19:17:17.000   \n",
       "2                3000   3.000000e+03             2993  19:17:18.000   \n",
       "3                4000   4.000000e+03             3993  19:17:19.000   \n",
       "4                5000   5.000000e+03             4993  19:17:20.000   \n",
       "...               ...            ...              ...           ...   \n",
       "257345      257346000   2.573449e+08        257346000  18:46:21.000   \n",
       "257346      257347000   2.573459e+08        257347000  18:46:22.000   \n",
       "257347      257348000   2.573469e+08        257348000  18:46:23.000   \n",
       "257348      257349000   2.573479e+08        257349000  18:46:24.000   \n",
       "257349      257350000   2.573489e+08        257350000  18:46:25.000   \n",
       "\n",
       "            RTC Time    Synch Time  \n",
       "0       19:17:16.000  19:17:16.000  \n",
       "1       19:17:17.000  19:17:17.000  \n",
       "2       19:17:18.000  19:17:18.000  \n",
       "3       19:17:19.000  19:17:19.000  \n",
       "4       19:17:20.000  19:17:20.000  \n",
       "...              ...           ...  \n",
       "257345  18:46:19.850  18:46:21.007  \n",
       "257346  18:46:20.850  18:46:22.007  \n",
       "257347  18:46:21.850  18:46:23.007  \n",
       "257348  18:46:22.850  18:46:24.007  \n",
       "257349  18:46:23.850  18:46:25.007  \n",
       "\n",
       "[257350 rows x 6 columns]"
      ]
     },
     "metadata": {},
     "output_type": "display_data"
    }
   ],
   "source": [
    "# Linear Regression\n",
    "model1 = LinearRegression().fit(x1_train, y1_train)\n",
    "print(\"Performance of model on training set\")\n",
    "RegMetrics(x1_train, y1_train, x1_val, y1_val, x1_test, y1_test, model1)\n",
    "print(\"Synchronised time: Training set Sensor 1\")\n",
    "synch(RTC_millis1, GPS_millis1, model1, time1, accOffset)\n",
    "#synch.to_csv(r'C:\\Users\\suben\\Documents\\Priyanka\\Skripsie\\synch1.csv', index = False)"
   ]
  },
  {
   "cell_type": "code",
   "execution_count": 41,
   "metadata": {},
   "outputs": [
    {
     "name": "stdout",
     "output_type": "stream",
     "text": [
      "Performance of model on training set\n"
     ]
    },
    {
     "data": {
      "text/html": [
       "<div>\n",
       "<style scoped>\n",
       "    .dataframe tbody tr th:only-of-type {\n",
       "        vertical-align: middle;\n",
       "    }\n",
       "\n",
       "    .dataframe tbody tr th {\n",
       "        vertical-align: top;\n",
       "    }\n",
       "\n",
       "    .dataframe thead th {\n",
       "        text-align: right;\n",
       "    }\n",
       "</style>\n",
       "<table border=\"1\" class=\"dataframe\">\n",
       "  <thead>\n",
       "    <tr style=\"text-align: right;\">\n",
       "      <th></th>\n",
       "      <th>R</th>\n",
       "      <th>RMSE</th>\n",
       "      <th>MAE</th>\n",
       "    </tr>\n",
       "    <tr>\n",
       "      <th>Index Title</th>\n",
       "      <th></th>\n",
       "      <th></th>\n",
       "      <th></th>\n",
       "    </tr>\n",
       "  </thead>\n",
       "  <tbody>\n",
       "    <tr>\n",
       "      <th>Training</th>\n",
       "      <td>0.998916</td>\n",
       "      <td>10.996032</td>\n",
       "      <td>8.958015</td>\n",
       "    </tr>\n",
       "    <tr>\n",
       "      <th>Validation</th>\n",
       "      <td>0.998918</td>\n",
       "      <td>10.993960</td>\n",
       "      <td>8.976435</td>\n",
       "    </tr>\n",
       "    <tr>\n",
       "      <th>Test</th>\n",
       "      <td>0.998929</td>\n",
       "      <td>10.993009</td>\n",
       "      <td>8.947828</td>\n",
       "    </tr>\n",
       "  </tbody>\n",
       "</table>\n",
       "</div>"
      ],
      "text/plain": [
       "                    R       RMSE       MAE\n",
       "Index Title                               \n",
       "Training     0.998916  10.996032  8.958015\n",
       "Validation   0.998918  10.993960  8.976435\n",
       "Test         0.998929  10.993009  8.947828"
      ]
     },
     "metadata": {},
     "output_type": "display_data"
    },
    {
     "name": "stdout",
     "output_type": "stream",
     "text": [
      "Synchronised time: Training set Sensor 1\n"
     ]
    },
    {
     "data": {
      "text/html": [
       "<div>\n",
       "<style scoped>\n",
       "    .dataframe tbody tr th:only-of-type {\n",
       "        vertical-align: middle;\n",
       "    }\n",
       "\n",
       "    .dataframe tbody tr th {\n",
       "        vertical-align: top;\n",
       "    }\n",
       "\n",
       "    .dataframe thead th {\n",
       "        text-align: right;\n",
       "    }\n",
       "</style>\n",
       "<table border=\"1\" class=\"dataframe\">\n",
       "  <thead>\n",
       "    <tr style=\"text-align: right;\">\n",
       "      <th></th>\n",
       "      <th>R</th>\n",
       "      <th>RMSE</th>\n",
       "      <th>MAE</th>\n",
       "    </tr>\n",
       "  </thead>\n",
       "  <tbody>\n",
       "    <tr>\n",
       "      <th>0</th>\n",
       "      <td>0.998918</td>\n",
       "      <td>10.999262</td>\n",
       "      <td>8.958077</td>\n",
       "    </tr>\n",
       "  </tbody>\n",
       "</table>\n",
       "</div>"
      ],
      "text/plain": [
       "          R       RMSE       MAE\n",
       "0  0.998918  10.999262  8.958077"
      ]
     },
     "metadata": {},
     "output_type": "display_data"
    },
    {
     "data": {
      "text/html": [
       "<div>\n",
       "<style scoped>\n",
       "    .dataframe tbody tr th:only-of-type {\n",
       "        vertical-align: middle;\n",
       "    }\n",
       "\n",
       "    .dataframe tbody tr th {\n",
       "        vertical-align: top;\n",
       "    }\n",
       "\n",
       "    .dataframe thead th {\n",
       "        text-align: right;\n",
       "    }\n",
       "</style>\n",
       "<table border=\"1\" class=\"dataframe\">\n",
       "  <thead>\n",
       "    <tr style=\"text-align: right;\">\n",
       "      <th></th>\n",
       "      <th>GPS Time (ms)</th>\n",
       "      <th>RTC Time (ms)</th>\n",
       "      <th>Synch Time (ms)</th>\n",
       "      <th>GPS Time</th>\n",
       "      <th>RTC Time</th>\n",
       "      <th>Synch Time</th>\n",
       "    </tr>\n",
       "  </thead>\n",
       "  <tbody>\n",
       "    <tr>\n",
       "      <th>0</th>\n",
       "      <td>1000</td>\n",
       "      <td>1.000000e+03</td>\n",
       "      <td>1000</td>\n",
       "      <td>19:17:16.000</td>\n",
       "      <td>19:17:16.000</td>\n",
       "      <td>19:17:16.000</td>\n",
       "    </tr>\n",
       "    <tr>\n",
       "      <th>1</th>\n",
       "      <td>2000</td>\n",
       "      <td>2.000000e+03</td>\n",
       "      <td>2000</td>\n",
       "      <td>19:17:17.000</td>\n",
       "      <td>19:17:17.000</td>\n",
       "      <td>19:17:17.000</td>\n",
       "    </tr>\n",
       "    <tr>\n",
       "      <th>2</th>\n",
       "      <td>3000</td>\n",
       "      <td>3.000000e+03</td>\n",
       "      <td>3000</td>\n",
       "      <td>19:17:18.000</td>\n",
       "      <td>19:17:18.000</td>\n",
       "      <td>19:17:18.000</td>\n",
       "    </tr>\n",
       "    <tr>\n",
       "      <th>3</th>\n",
       "      <td>4000</td>\n",
       "      <td>4.000000e+03</td>\n",
       "      <td>4000</td>\n",
       "      <td>19:17:19.000</td>\n",
       "      <td>19:17:19.000</td>\n",
       "      <td>19:17:19.000</td>\n",
       "    </tr>\n",
       "    <tr>\n",
       "      <th>4</th>\n",
       "      <td>5000</td>\n",
       "      <td>5.000000e+03</td>\n",
       "      <td>5000</td>\n",
       "      <td>19:17:20.000</td>\n",
       "      <td>19:17:20.000</td>\n",
       "      <td>19:17:20.000</td>\n",
       "    </tr>\n",
       "    <tr>\n",
       "      <th>...</th>\n",
       "      <td>...</td>\n",
       "      <td>...</td>\n",
       "      <td>...</td>\n",
       "      <td>...</td>\n",
       "      <td>...</td>\n",
       "      <td>...</td>\n",
       "    </tr>\n",
       "    <tr>\n",
       "      <th>257345</th>\n",
       "      <td>257346000</td>\n",
       "      <td>2.573449e+08</td>\n",
       "      <td>257345994</td>\n",
       "      <td>18:46:21.000</td>\n",
       "      <td>18:46:19.850</td>\n",
       "      <td>18:46:20.994</td>\n",
       "    </tr>\n",
       "    <tr>\n",
       "      <th>257346</th>\n",
       "      <td>257347000</td>\n",
       "      <td>2.573459e+08</td>\n",
       "      <td>257346994</td>\n",
       "      <td>18:46:22.000</td>\n",
       "      <td>18:46:20.850</td>\n",
       "      <td>18:46:21.994</td>\n",
       "    </tr>\n",
       "    <tr>\n",
       "      <th>257347</th>\n",
       "      <td>257348000</td>\n",
       "      <td>2.573469e+08</td>\n",
       "      <td>257347994</td>\n",
       "      <td>18:46:23.000</td>\n",
       "      <td>18:46:21.850</td>\n",
       "      <td>18:46:22.994</td>\n",
       "    </tr>\n",
       "    <tr>\n",
       "      <th>257348</th>\n",
       "      <td>257349000</td>\n",
       "      <td>2.573479e+08</td>\n",
       "      <td>257348994</td>\n",
       "      <td>18:46:24.000</td>\n",
       "      <td>18:46:22.850</td>\n",
       "      <td>18:46:23.994</td>\n",
       "    </tr>\n",
       "    <tr>\n",
       "      <th>257349</th>\n",
       "      <td>257350000</td>\n",
       "      <td>2.573489e+08</td>\n",
       "      <td>257349994</td>\n",
       "      <td>18:46:25.000</td>\n",
       "      <td>18:46:23.850</td>\n",
       "      <td>18:46:24.994</td>\n",
       "    </tr>\n",
       "  </tbody>\n",
       "</table>\n",
       "<p>257350 rows × 6 columns</p>\n",
       "</div>"
      ],
      "text/plain": [
       "        GPS Time (ms)  RTC Time (ms)  Synch Time (ms)      GPS Time  \\\n",
       "0                1000   1.000000e+03             1000  19:17:16.000   \n",
       "1                2000   2.000000e+03             2000  19:17:17.000   \n",
       "2                3000   3.000000e+03             3000  19:17:18.000   \n",
       "3                4000   4.000000e+03             4000  19:17:19.000   \n",
       "4                5000   5.000000e+03             5000  19:17:20.000   \n",
       "...               ...            ...              ...           ...   \n",
       "257345      257346000   2.573449e+08        257345994  18:46:21.000   \n",
       "257346      257347000   2.573459e+08        257346994  18:46:22.000   \n",
       "257347      257348000   2.573469e+08        257347994  18:46:23.000   \n",
       "257348      257349000   2.573479e+08        257348994  18:46:24.000   \n",
       "257349      257350000   2.573489e+08        257349994  18:46:25.000   \n",
       "\n",
       "            RTC Time    Synch Time  \n",
       "0       19:17:16.000  19:17:16.000  \n",
       "1       19:17:17.000  19:17:17.000  \n",
       "2       19:17:18.000  19:17:18.000  \n",
       "3       19:17:19.000  19:17:19.000  \n",
       "4       19:17:20.000  19:17:20.000  \n",
       "...              ...           ...  \n",
       "257345  18:46:19.850  18:46:20.994  \n",
       "257346  18:46:20.850  18:46:21.994  \n",
       "257347  18:46:21.850  18:46:22.994  \n",
       "257348  18:46:22.850  18:46:23.994  \n",
       "257349  18:46:23.850  18:46:24.994  \n",
       "\n",
       "[257350 rows x 6 columns]"
      ]
     },
     "metadata": {},
     "output_type": "display_data"
    }
   ],
   "source": [
    "net1 = MLPRegressor(alpha = 1e-4, solver = 'adam', random_state =1,\n",
    "                  learning_rate_init = 0.1/(10*3)).fit(x1_train, np.reshape(y1_train, len(y1_train)))\n",
    "print(\"Performance of model on training set\")\n",
    "RegMetrics(x1_train, y1_train, x1_val, y1_val, x1_test, y1_test, net1)\n",
    "print(\"Synchronised time: Training set Sensor 1\")\n",
    "synch(RTC_millis1, GPS_millis1, net1, time1, accOffset)"
   ]
  },
  {
   "cell_type": "code",
   "execution_count": 36,
   "metadata": {},
   "outputs": [],
   "source": [
    "error = np.zeros(20)\n",
    "for i in range(1, 20):\n",
    "    net1 = MLPRegressor(alpha = 1e-4, solver = 'adam', random_state =1,\n",
    "                  learning_rate_init = 0.1/(10*i)).fit(x1_train, np.reshape(y1_train, len(y1_train)))\n",
    "    predict = net1.predict(x1_val)\n",
    "    error[i - 1] = RMSE(predict, y1_val)"
   ]
  },
  {
   "cell_type": "code",
   "execution_count": 40,
   "metadata": {},
   "outputs": [
    {
     "data": {
      "image/png": "[encoded data removed]",
      "text/plain": [
       "<Figure size 432x288 with 1 Axes>"
      ]
     },
     "metadata": {
      "needs_background": "light"
     },
     "output_type": "display_data"
    },
    {
     "name": "stdout",
     "output_type": "stream",
     "text": [
      "[5.91547135e+02 1.52126606e+01 1.09939603e+01 1.73286651e+01\n",
      " 1.12056775e+01 3.88789794e+01 5.27168843e+01 2.14303150e+01\n",
      " 7.02336770e+02 1.44292756e+03 1.58526371e+01 1.66894526e+01\n",
      " 1.76667036e+05 2.59377175e+01 4.20038259e+01 1.35308027e+01\n",
      " 1.12279079e+02 1.10275543e+01 1.95016180e+02 0.00000000e+00]\n"
     ]
    }
   ],
   "source": [
    "t = np.linspace(3, 7, 5)\n",
    "plt.plot(t, error[2:7])\n",
    "plt.title('RMSE of test set at different neural net learning rates')\n",
    "plt.xlabel('Learning rate')\n",
    "plt.ylabel('RMSE')\n",
    "plt.show()\n",
    "print(error)"
   ]
  },
  {
   "cell_type": "code",
   "execution_count": 42,
   "metadata": {},
   "outputs": [
    {
     "data": {
      "image/png": "[encoded data removed]",
      "text/plain": [
       "<Figure size 432x288 with 1 Axes>"
      ]
     },
     "metadata": {
      "needs_background": "light"
     },
     "output_type": "display_data"
    }
   ],
   "source": [
    "predict1 = model1.predict(x1_val)\n",
    "resid1 = np.zeros(y1_val.size)\n",
    "for i in range(y1_test.size):\n",
    "    resid1[i] = predict1[i] - y1_val[i]\n",
    "#Residual plots\n",
    "t = np.linspace(0, max(x1_val))\n",
    "z = np.zeros(50)\n",
    "plt.scatter(x1_val, resid1, s = 1)\n",
    "plt.plot(t, z, color = 'orange')\n",
    "plt.title('Residual plot for linear regression model')\n",
    "plt.xlabel('Residuals')\n",
    "plt.ylabel('RTC clock time')\n",
    "plt.show()"
   ]
  },
  {
   "cell_type": "code",
   "execution_count": 43,
   "metadata": {},
   "outputs": [
    {
     "name": "stderr",
     "output_type": "stream",
     "text": [
      "C:\\Users\\suben\\anaconda3\\lib\\site-packages\\sklearn\\linear_model\\_ridge.py:148: LinAlgWarning: Ill-conditioned matrix (rcond=2.33552e-156): result may not be accurate.\n",
      "  overwrite_a=True).T\n"
     ]
    },
    {
     "name": "stdout",
     "output_type": "stream",
     "text": [
      "Performance of model on training set\n"
     ]
    },
    {
     "data": {
      "text/html": [
       "<div>\n",
       "<style scoped>\n",
       "    .dataframe tbody tr th:only-of-type {\n",
       "        vertical-align: middle;\n",
       "    }\n",
       "\n",
       "    .dataframe tbody tr th {\n",
       "        vertical-align: top;\n",
       "    }\n",
       "\n",
       "    .dataframe thead th {\n",
       "        text-align: right;\n",
       "    }\n",
       "</style>\n",
       "<table border=\"1\" class=\"dataframe\">\n",
       "  <thead>\n",
       "    <tr style=\"text-align: right;\">\n",
       "      <th></th>\n",
       "      <th>R</th>\n",
       "      <th>RMSE</th>\n",
       "      <th>MAE</th>\n",
       "    </tr>\n",
       "    <tr>\n",
       "      <th>Index Title</th>\n",
       "      <th></th>\n",
       "      <th></th>\n",
       "      <th></th>\n",
       "    </tr>\n",
       "  </thead>\n",
       "  <tbody>\n",
       "    <tr>\n",
       "      <th>Training</th>\n",
       "      <td>0.999962</td>\n",
       "      <td>2.057119</td>\n",
       "      <td>1.756029</td>\n",
       "    </tr>\n",
       "    <tr>\n",
       "      <th>Validation</th>\n",
       "      <td>0.999962</td>\n",
       "      <td>2.060727</td>\n",
       "      <td>1.759722</td>\n",
       "    </tr>\n",
       "    <tr>\n",
       "      <th>Test</th>\n",
       "      <td>0.999962</td>\n",
       "      <td>2.059392</td>\n",
       "      <td>1.758865</td>\n",
       "    </tr>\n",
       "  </tbody>\n",
       "</table>\n",
       "</div>"
      ],
      "text/plain": [
       "                    R      RMSE       MAE\n",
       "Index Title                              \n",
       "Training     0.999962  2.057119  1.756029\n",
       "Validation   0.999962  2.060727  1.759722\n",
       "Test         0.999962  2.059392  1.758865"
      ]
     },
     "metadata": {},
     "output_type": "display_data"
    },
    {
     "name": "stdout",
     "output_type": "stream",
     "text": [
      "RMSE full set: 2.0577075801372504\n",
      "MAE full set: 1.7566822351158156\n"
     ]
    }
   ],
   "source": [
    "#Polynomial regression\n",
    "poly = PolynomialFeatures(9)\n",
    "\n",
    "poly_train = poly.fit_transform(x1_train.reshape(-1,1))\n",
    "poly_val = poly.fit_transform(x1_val.reshape(-1,1))\n",
    "poly_test = poly.fit_transform(x1_test.reshape(-1,1))\n",
    "poly_millis = poly.fit_transform(RTC_millis1.reshape(-1,1))\n",
    "\n",
    "model2 = linear_model.Ridge(alpha=.5).fit(poly_train, y1_train)\n",
    "\n",
    "print(\"Performance of model on training set\")\n",
    "RegMetrics(poly_train, y1_train, poly_val, y1_val, poly_test, y1_test, model2)\n",
    "\n",
    "print(\"RMSE full set:\", RMSE(model2.predict(poly_millis), AccOffset1))\n",
    "print(\"MAE full set:\", MAE(model2.predict(poly_millis), AccOffset1))\n",
    "\n",
    "#print(\"Synchronised time: Training set Sensor 1\")\n",
    "#synch(poly_millis, GPS_millis1, model1, time1, accOffset)"
   ]
  },
  {
   "cell_type": "code",
   "execution_count": 44,
   "metadata": {},
   "outputs": [
    {
     "data": {
      "image/png": "[encoded data removed]",
      "text/plain": [
       "<Figure size 432x288 with 1 Axes>"
      ]
     },
     "metadata": {
      "needs_background": "light"
     },
     "output_type": "display_data"
    }
   ],
   "source": [
    "prediction = model2.predict(poly_millis)\n",
    "prediction2 = model1.predict(RTC_millis1.reshape(-1,1))\n",
    "AccOffset = np.zeros(GPS_millis1.size)\n",
    "for i in range(0, GPS_millis1.size):\n",
    "    AccOffset[i] = (GPS_millis1[i] - RTC_millis1[i])\n",
    "t = np.linspace(0, len(GPS_millis1), len(GPS_millis1))\n",
    "plt.plot(t, AccOffset)\n",
    "plt.plot(t, prediction)\n",
    "plt.plot(t, prediction2)\n",
    "plt.title('Accumulated offset of Teensy internal RTC (ms)')\n",
    "plt.xlabel('Seconds since start-up')\n",
    "plt.ylabel('Accumulated offset (ms)')\n",
    "plt.show()"
   ]
  },
  {
   "cell_type": "code",
   "execution_count": 45,
   "metadata": {},
   "outputs": [
    {
     "name": "stdout",
     "output_type": "stream",
     "text": [
      "Synchronised time: Training set Sensor 1\n"
     ]
    },
    {
     "data": {
      "text/html": [
       "<div>\n",
       "<style scoped>\n",
       "    .dataframe tbody tr th:only-of-type {\n",
       "        vertical-align: middle;\n",
       "    }\n",
       "\n",
       "    .dataframe tbody tr th {\n",
       "        vertical-align: top;\n",
       "    }\n",
       "\n",
       "    .dataframe thead th {\n",
       "        text-align: right;\n",
       "    }\n",
       "</style>\n",
       "<table border=\"1\" class=\"dataframe\">\n",
       "  <thead>\n",
       "    <tr style=\"text-align: right;\">\n",
       "      <th></th>\n",
       "      <th>R</th>\n",
       "      <th>RMSE</th>\n",
       "      <th>MAE</th>\n",
       "    </tr>\n",
       "  </thead>\n",
       "  <tbody>\n",
       "    <tr>\n",
       "      <th>0</th>\n",
       "      <td>0.999962</td>\n",
       "      <td>2.123889</td>\n",
       "      <td>1.767161</td>\n",
       "    </tr>\n",
       "  </tbody>\n",
       "</table>\n",
       "</div>"
      ],
      "text/plain": [
       "          R      RMSE       MAE\n",
       "0  0.999962  2.123889  1.767161"
      ]
     },
     "metadata": {},
     "output_type": "display_data"
    },
    {
     "data": {
      "text/html": [
       "<div>\n",
       "<style scoped>\n",
       "    .dataframe tbody tr th:only-of-type {\n",
       "        vertical-align: middle;\n",
       "    }\n",
       "\n",
       "    .dataframe tbody tr th {\n",
       "        vertical-align: top;\n",
       "    }\n",
       "\n",
       "    .dataframe thead th {\n",
       "        text-align: right;\n",
       "    }\n",
       "</style>\n",
       "<table border=\"1\" class=\"dataframe\">\n",
       "  <thead>\n",
       "    <tr style=\"text-align: right;\">\n",
       "      <th></th>\n",
       "      <th>GPS Time (ms)</th>\n",
       "      <th>RTC Time (ms)</th>\n",
       "      <th>Synch Time (ms)</th>\n",
       "      <th>GPS Time</th>\n",
       "      <th>RTC Time</th>\n",
       "      <th>Synch Time</th>\n",
       "    </tr>\n",
       "  </thead>\n",
       "  <tbody>\n",
       "    <tr>\n",
       "      <th>0</th>\n",
       "      <td>1000</td>\n",
       "      <td>1.000000e+03</td>\n",
       "      <td>1005</td>\n",
       "      <td>19:17:16.000</td>\n",
       "      <td>19:17:16.000</td>\n",
       "      <td>19:17:16.000</td>\n",
       "    </tr>\n",
       "    <tr>\n",
       "      <th>1</th>\n",
       "      <td>2000</td>\n",
       "      <td>2.000000e+03</td>\n",
       "      <td>2005</td>\n",
       "      <td>19:17:17.000</td>\n",
       "      <td>19:17:17.000</td>\n",
       "      <td>19:17:17.000</td>\n",
       "    </tr>\n",
       "    <tr>\n",
       "      <th>2</th>\n",
       "      <td>3000</td>\n",
       "      <td>3.000000e+03</td>\n",
       "      <td>3005</td>\n",
       "      <td>19:17:18.000</td>\n",
       "      <td>19:17:18.000</td>\n",
       "      <td>19:17:18.000</td>\n",
       "    </tr>\n",
       "    <tr>\n",
       "      <th>3</th>\n",
       "      <td>4000</td>\n",
       "      <td>4.000000e+03</td>\n",
       "      <td>4005</td>\n",
       "      <td>19:17:19.000</td>\n",
       "      <td>19:17:19.000</td>\n",
       "      <td>19:17:19.000</td>\n",
       "    </tr>\n",
       "    <tr>\n",
       "      <th>4</th>\n",
       "      <td>5000</td>\n",
       "      <td>5.000000e+03</td>\n",
       "      <td>5005</td>\n",
       "      <td>19:17:20.000</td>\n",
       "      <td>19:17:20.000</td>\n",
       "      <td>19:17:20.000</td>\n",
       "    </tr>\n",
       "    <tr>\n",
       "      <th>...</th>\n",
       "      <td>...</td>\n",
       "      <td>...</td>\n",
       "      <td>...</td>\n",
       "      <td>...</td>\n",
       "      <td>...</td>\n",
       "      <td>...</td>\n",
       "    </tr>\n",
       "    <tr>\n",
       "      <th>257345</th>\n",
       "      <td>257346000</td>\n",
       "      <td>2.573449e+08</td>\n",
       "      <td>257345994</td>\n",
       "      <td>18:46:21.000</td>\n",
       "      <td>18:46:19.850</td>\n",
       "      <td>18:46:20.989</td>\n",
       "    </tr>\n",
       "    <tr>\n",
       "      <th>257346</th>\n",
       "      <td>257347000</td>\n",
       "      <td>2.573459e+08</td>\n",
       "      <td>257346994</td>\n",
       "      <td>18:46:22.000</td>\n",
       "      <td>18:46:20.850</td>\n",
       "      <td>18:46:21.989</td>\n",
       "    </tr>\n",
       "    <tr>\n",
       "      <th>257347</th>\n",
       "      <td>257348000</td>\n",
       "      <td>2.573469e+08</td>\n",
       "      <td>257347994</td>\n",
       "      <td>18:46:23.000</td>\n",
       "      <td>18:46:21.850</td>\n",
       "      <td>18:46:22.989</td>\n",
       "    </tr>\n",
       "    <tr>\n",
       "      <th>257348</th>\n",
       "      <td>257349000</td>\n",
       "      <td>2.573479e+08</td>\n",
       "      <td>257348994</td>\n",
       "      <td>18:46:24.000</td>\n",
       "      <td>18:46:22.850</td>\n",
       "      <td>18:46:23.989</td>\n",
       "    </tr>\n",
       "    <tr>\n",
       "      <th>257349</th>\n",
       "      <td>257350000</td>\n",
       "      <td>2.573489e+08</td>\n",
       "      <td>257349994</td>\n",
       "      <td>18:46:25.000</td>\n",
       "      <td>18:46:23.850</td>\n",
       "      <td>18:46:24.989</td>\n",
       "    </tr>\n",
       "  </tbody>\n",
       "</table>\n",
       "<p>257350 rows × 6 columns</p>\n",
       "</div>"
      ],
      "text/plain": [
       "        GPS Time (ms)  RTC Time (ms)  Synch Time (ms)      GPS Time  \\\n",
       "0                1000   1.000000e+03             1005  19:17:16.000   \n",
       "1                2000   2.000000e+03             2005  19:17:17.000   \n",
       "2                3000   3.000000e+03             3005  19:17:18.000   \n",
       "3                4000   4.000000e+03             4005  19:17:19.000   \n",
       "4                5000   5.000000e+03             5005  19:17:20.000   \n",
       "...               ...            ...              ...           ...   \n",
       "257345      257346000   2.573449e+08        257345994  18:46:21.000   \n",
       "257346      257347000   2.573459e+08        257346994  18:46:22.000   \n",
       "257347      257348000   2.573469e+08        257347994  18:46:23.000   \n",
       "257348      257349000   2.573479e+08        257348994  18:46:24.000   \n",
       "257349      257350000   2.573489e+08        257349994  18:46:25.000   \n",
       "\n",
       "            RTC Time    Synch Time  \n",
       "0       19:17:16.000  19:17:16.000  \n",
       "1       19:17:17.000  19:17:17.000  \n",
       "2       19:17:18.000  19:17:18.000  \n",
       "3       19:17:19.000  19:17:19.000  \n",
       "4       19:17:20.000  19:17:20.000  \n",
       "...              ...           ...  \n",
       "257345  18:46:19.850  18:46:20.989  \n",
       "257346  18:46:20.850  18:46:21.989  \n",
       "257347  18:46:21.850  18:46:22.989  \n",
       "257348  18:46:22.850  18:46:23.989  \n",
       "257349  18:46:23.850  18:46:24.989  \n",
       "\n",
       "[257350 rows x 6 columns]"
      ]
     },
     "metadata": {},
     "output_type": "display_data"
    }
   ],
   "source": [
    "print(\"Synchronised time: Training set Sensor 1\")\n",
    "millis_predict = model2.predict(poly_millis)\n",
    "#Convert AccOffset prediction to synchronised time by adding the AccOffset to RTC time in milliseconds\n",
    "for i in range (0, millis_predict.size):\n",
    "    millis_predict[i] = RTC_millis1[i] + millis_predict[i]\n",
    "millis_predict = (np.reshape(millis_predict, len(millis_predict))).astype(int)\n",
    "r =  model2.score(poly_millis, AccOffset1.reshape(-1, 1))\n",
    "rmse =  RMSE(millis_predict, GPS_millis1)\n",
    "mae = MAE(millis_predict, GPS_millis1)\n",
    "    \n",
    "d = {'R': [r], 'RMSE' : [rmse], 'MAE' :[mae]}\n",
    "d = pd.DataFrame(d)\n",
    "display(d)\n",
    "df = pd.DataFrame({'GPS Time (ms)': GPS_millis1, 'RTC Time (ms)': RTC_millis1, \n",
    "                     'Synch Time (ms)' : millis_predict, 'GPS Time': millisToTime(GPS_millis1, time1),\n",
    "                        'RTC Time':millisToTime(RTC_millis1, time1), 'Synch Time' : millisToTime(millis_predict, time1)})\n",
    "\n",
    "display(df)"
   ]
  },
  {
   "cell_type": "code",
   "execution_count": 46,
   "metadata": {},
   "outputs": [
    {
     "data": {
      "image/png": "[encoded data removed]",
      "text/plain": [
       "<Figure size 432x288 with 1 Axes>"
      ]
     },
     "metadata": {
      "needs_background": "light"
     },
     "output_type": "display_data"
    }
   ],
   "source": [
    "predict2 = model2.predict(poly_val)\n",
    "resid2 = np.zeros(y1_val.size)\n",
    "for i in range(y1_val.size):\n",
    "    resid2[i] = predict2[i] - y1_val[i]\n",
    "#Residual plots\n",
    "t = np.linspace(0, max(x1_val))\n",
    "z = np.zeros(50)\n",
    "plt.scatter(x1_val, resid2, s = 1)\n",
    "plt.plot(t, z, color = 'orange')\n",
    "plt.title('Residual plot for linear regression model')\n",
    "plt.xlabel('Residuals')\n",
    "plt.ylabel('RTC clock time')\n",
    "plt.show()"
   ]
  },
  {
   "cell_type": "code",
   "execution_count": 383,
   "metadata": {},
   "outputs": [
    {
     "name": "stdout",
     "output_type": "stream",
     "text": [
      "Train on 205880 samples\n",
      "Epoch 1/8\n",
      "205880/205880 [==============================] - 6s 31us/sample - loss: 260.4948\n",
      "Epoch 2/8\n",
      "205880/205880 [==============================] - 6s 29us/sample - loss: 8.9923\n",
      "Epoch 3/8\n",
      "205880/205880 [==============================] - 6s 30us/sample - loss: 8.9925\n",
      "Epoch 4/8\n",
      "205880/205880 [==============================] - 6s 29us/sample - loss: 8.9927\n",
      "Epoch 5/8\n",
      "205880/205880 [==============================] - 6s 30us/sample - loss: 8.99280s - loss: 8\n",
      "Epoch 6/8\n",
      "205880/205880 [==============================] - 6s 29us/sample - loss: 8.9940\n",
      "Epoch 7/8\n",
      "205880/205880 [==============================] - 6s 29us/sample - loss: 8.9930\n",
      "Epoch 8/8\n",
      "205880/205880 [==============================] - 6s 30us/sample - loss: 8.99270s - l\n"
     ]
    }
   ],
   "source": [
    "#TensorFlow linear regression\n",
    "normalizer1 = preprocessing.Normalization()\n",
    "normalizer1.adapt(x1_train)\n",
    "\n",
    "model3 = tf.keras.Sequential([\n",
    "    normalizer1,\n",
    "    layers.Dense(units=1)\n",
    "])\n",
    "\n",
    "model3.compile(\n",
    "    optimizer=tf.optimizers.Adam(learning_rate=0.1),\n",
    "    loss='mean_absolute_error')\n",
    "\n",
    "history1 = model3.fit(\n",
    "    np.reshape(x1_train, len(x1_train)).astype(float), np.reshape(y1_train, len(y1_train)).astype(float),\n",
    "    epochs = 8,\n",
    "    verbose = 1\n",
    "    )"
   ]
  },
  {
   "cell_type": "code",
   "execution_count": 390,
   "metadata": {},
   "outputs": [
    {
     "data": {
      "image/png": "[encoded data removed]",
      "text/plain": [
       "<Figure size 432x288 with 1 Axes>"
      ]
     },
     "metadata": {
      "needs_background": "light"
     },
     "output_type": "display_data"
    }
   ],
   "source": [
    "def plot_loss(history):\n",
    "  plt.plot(history1.history['loss'], label='loss')\n",
    "  plt.xlabel('Epoch')\n",
    "  plt.ylabel('Error')\n",
    "  plt.legend()\n",
    "  plt.grid(True)\n",
    "plot_loss(history1)"
   ]
  },
  {
   "cell_type": "code",
   "execution_count": 382,
   "metadata": {},
   "outputs": [
    {
     "name": "stdout",
     "output_type": "stream",
     "text": [
      "9.010073019486851\n",
      "10.747142183216972\n"
     ]
    }
   ],
   "source": [
    "predict = model3.predict(np.reshape(x1_val, len(x1_val)).astype(float))\n",
    "predict = np.reshape((predict),len(predict))\n",
    "print(MAE(predict, y1_val))\n",
    "print(RMSE(predict, y1_val))"
   ]
  },
  {
   "cell_type": "code",
   "execution_count": 356,
   "metadata": {},
   "outputs": [],
   "source": [
    "# Function: Convert some hex value into an array for C programming\n",
    "def hex_to_c_array(hex_data, var_name):\n",
    "\n",
    "  c_str = ''\n",
    "\n",
    "  # Create header guard\n",
    "  c_str += '#ifndef ' + var_name.upper() + '_H\\n'\n",
    "  c_str += '#define ' + var_name.upper() + '_H\\n\\n'\n",
    "\n",
    "  # Add array length at top of file\n",
    "  c_str += '\\nunsigned int ' + var_name + '_len = ' + str(len(hex_data)) + ';\\n'\n",
    "\n",
    "  # Declare C variable\n",
    "  c_str += 'unsigned char ' + var_name + '[] = {'\n",
    "  hex_array = []\n",
    "  for i, val in enumerate(hex_data) :\n",
    "\n",
    "    # Construct string from hex\n",
    "    hex_str = format(val, '#04x')\n",
    "\n",
    "    # Add formatting so each line stays within 80 characters\n",
    "    if (i + 1) < len(hex_data):\n",
    "      hex_str += ','\n",
    "    if (i + 1) % 12 == 0:\n",
    "      hex_str += '\\n '\n",
    "    hex_array.append(hex_str)\n",
    "\n",
    "  # Add closing brace\n",
    "  c_str += '\\n ' + format(' '.join(hex_array)) + '\\n};\\n\\n'\n",
    "\n",
    "  # Close out header guard\n",
    "  c_str += '#endif //' + var_name.upper() + '_H'\n",
    "\n",
    "  return c_str"
   ]
  },
  {
   "cell_type": "code",
   "execution_count": null,
   "metadata": {},
   "outputs": [],
   "source": [
    "#Convert Keras model to a tflite model \n",
    "converter1 = tf.lite.TFLiteConverter.from_keras_model(model3)\n",
    "converter1.optimizations = [tf.lite.Optimize.OPTIMIZE_FOR_SIZE]\n",
    "tflite_model1 = converter1.convert()\n",
    "open('GPT2Model' + '.tflite', 'wb').write(tflite_model1)\n",
    "\n",
    "# Write TFLite model to a C source (or header) file\n",
    "with open('GPT2Model' + '.h', 'w') as file:\n",
    "  file.write(hex_to_c_array(tflite_model1, 'GPT2Model'))"
   ]
  },
  {
   "cell_type": "code",
   "execution_count": 391,
   "metadata": {},
   "outputs": [
    {
     "name": "stdout",
     "output_type": "stream",
     "text": [
      "Train on 205880 samples\n",
      "Epoch 1/8\n",
      "205880/205880 [==============================] - 7s 36us/sample - loss: 31.7790\n",
      "Epoch 2/8\n",
      "205880/205880 [==============================] - 7s 35us/sample - loss: 5.6656\n",
      "Epoch 3/8\n",
      "205880/205880 [==============================] - 7s 35us/sample - loss: 5.6570ETA: 0s \n",
      "Epoch 4/8\n",
      "205880/205880 [==============================] - 7s 35us/sample - loss: 5.6518\n",
      "Epoch 5/8\n",
      "205880/205880 [==============================] - 7s 35us/sample - loss: 5.65251s - loss: 5.6 - ETA:\n",
      "Epoch 6/8\n",
      "205880/205880 [==============================] - 7s 36us/sample - loss: 5.6585\n",
      "Epoch 7/8\n",
      "205880/205880 [==============================] - 8s 38us/sample - loss: 5.6487\n",
      "Epoch 8/8\n",
      "205880/205880 [==============================] - 8s 39us/sample - loss: 5.6532\n"
     ]
    }
   ],
   "source": [
    "#Tensor flow neural network\n",
    "def build_and_compile_model(norm):\n",
    "  model = keras.Sequential([\n",
    "      norm,\n",
    "      layers.Dense(64, activation='relu'),\n",
    "      layers.Dense(64, activation='relu'),\n",
    "      layers.Dense(1)\n",
    "  ])\n",
    "\n",
    "  model.compile(loss='mean_absolute_error',\n",
    "                optimizer=tf.keras.optimizers.Adam(0.001))\n",
    "  return model\n",
    "\n",
    "net2 = build_and_compile_model(normalizer1)\n",
    "\n",
    "history2 = net2.fit(\n",
    "    np.reshape(x1_train, len(x1_train)).astype(float), np.reshape(y1_train, len(y1_train)).astype(float),\n",
    "    verbose=1, epochs=8)"
   ]
  },
  {
   "cell_type": "code",
   "execution_count": 392,
   "metadata": {},
   "outputs": [
    {
     "data": {
      "image/png": "[encoded data removed]",
      "text/plain": [
       "<Figure size 432x288 with 1 Axes>"
      ]
     },
     "metadata": {
      "needs_background": "light"
     },
     "output_type": "display_data"
    }
   ],
   "source": [
    "plot_loss(history2)"
   ]
  },
  {
   "cell_type": "code",
   "execution_count": 394,
   "metadata": {},
   "outputs": [
    {
     "name": "stdout",
     "output_type": "stream",
     "text": [
      "9.010073019486851\n",
      "10.747142183216972\n"
     ]
    }
   ],
   "source": [
    "predict2 = net1.predict((x1_val).astype(float))\n",
    "predict2 = np.reshape((predict),len(predict))\n",
    "print(MAE(predict, y1_val))\n",
    "print(RMSE(predict, y1_val))"
   ]
  },
  {
   "cell_type": "code",
   "execution_count": 26,
   "metadata": {},
   "outputs": [
    {
     "name": "stdout",
     "output_type": "stream",
     "text": [
      "[1.0000000e+03 2.0000000e+03 3.0000000e+03 ... 2.5734685e+08 2.5734785e+08\n",
      " 2.5734885e+08]\n",
      "[     1000      2000      3000 ... 257348000 257349000 257350000]\n"
     ]
    }
   ],
   "source": [
    "print(RTC_millis1)\n",
    "print(GPS_millis1)"
   ]
  }
 ],
 "metadata": {
  "kernelspec": {
   "display_name": "Python 3",
   "language": "python",
   "name": "python3"
  },
  "language_info": {
   "codemirror_mode": {
    "name": "ipython",
    "version": 3
   },
   "file_extension": ".py",
   "mimetype": "text/x-python",
   "name": "python",
   "nbconvert_exporter": "python",
   "pygments_lexer": "ipython3",
   "version": "3.7.6"
  }
 },
 "nbformat": 4,
 "nbformat_minor": 4
}
