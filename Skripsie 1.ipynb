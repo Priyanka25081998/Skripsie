{
 "cells": [
  {
   "cell_type": "code",
   "execution_count": 237,
   "metadata": {},
   "outputs": [],
   "source": [
    "%matplotlib inline\n",
    "import matplotlib.pyplot as plt\n",
    "import numpy as np\n",
    "import pandas as pd\n",
    "from pandas import DataFrame\n",
    "from pandas import concat\n",
    "import math\n",
    "import csv\n",
    "from sklearn.model_selection import train_test_split\n",
    "from sklearn.linear_model import LinearRegression\n",
    "from sklearn.neural_network import MLPRegressor\n",
    "import tensorflow as tf\n",
    "from sklearn.preprocessing import PolynomialFeatures\n",
    "from sklearn import linear_model\n",
    "from tensorflow import keras\n",
    "from tensorflow.keras import layers\n",
    "from tensorflow.keras.layers.experimental import preprocessing\n",
    "from sklearn.metrics import r2_score"
   ]
  },
  {
   "cell_type": "code",
   "execution_count": 205,
   "metadata": {},
   "outputs": [],
   "source": [
    "#Function to convert GPS time to milliseconds\n",
    "#The base time is the RTC time in milliseconds that corresponds with the first GPS time stamp\n",
    "def timeToMillis(time, RTC_millis):\n",
    "    sec = np.zeros(time.size)\n",
    "    sec = sec.astype(int)\n",
    "    minutes = np.zeros(time.size)\n",
    "    minutes = minutes.astype(int)\n",
    "    hours = np.zeros(time.size)\n",
    "    hours = hours.astype(int)\n",
    "    for i in range(0, time.size):\n",
    "        sec[i] = time[i]%100\n",
    "    for i in range(0, time.size):\n",
    "        minutes[i] = (time[i]%10000 - time[i]%100)/100\n",
    "    for i in range(0, time.size):\n",
    "        hours[i] = (time[i] - time[i]%10000)/10000\n",
    "\n",
    "    GPS_millis = np.zeros(time.size)\n",
    "    GPS_millis = GPS_millis.astype(int)\n",
    "    GPS_millis[0] = RTC_millis[0]\n",
    "    for i in range (1, time.size):\n",
    "        if (sec[i] > sec[i - 1]):\n",
    "            if (minutes[i] >= minutes[i - 1]):\n",
    "                GPS_millis[i] = GPS_millis[i - 1] + (sec[i] - sec[i - 1])*1000 + (minutes[i] - minutes[i - 1])*60*1000\n",
    "            else:\n",
    "                GPS_millis[i] = GPS_millis[i - 1] + (sec[i] - sec[i - 1])*1000 + (60 + minutes[i] - minutes[i - 1])*60*1000            \n",
    "        else:\n",
    "            if (minutes[i] >= minutes[i - 1]):\n",
    "                GPS_millis[i] = GPS_millis[i - 1] + (60 + sec[i] - sec[i - 1])*1000 + (minutes[i] - minutes[i - 1] - 1)*60*1000\n",
    "            else:\n",
    "                GPS_millis[i] = GPS_millis[i - 1] + (60 + sec[i] - sec[i - 1])*1000 + (59 + minutes[i] - minutes[i - 1])*60*1000            \n",
    "    return GPS_millis\n",
    "\n",
    "\n",
    "#Function to convert time in milliseconds to digital time \n",
    "#Used to convert both GPS time in milliseconds and RTC time in milliseconds to digital time \n",
    "#The base time is taken as the first GPS time stamp\n",
    "def millisToTime(millis, time):\n",
    "    mil = millis/1000\n",
    "    time_temp = np.zeros(time.size)\n",
    "    hours = np.zeros(time_temp.size)\n",
    "    minutes = np.zeros(time_temp.size)\n",
    "    seconds = np.zeros(time_temp.size)\n",
    "    time_temp[0] = time[0]\n",
    "    for i in range (1, time.size):\n",
    "        seconds[i] = time_temp[i - 1]%100 + (mil[i] - mil[i - 1])\n",
    "        if (seconds[i] > 60):\n",
    "            temp_minutes = 0\n",
    "            while (seconds[i] >= 60):\n",
    "                temp_minutes += 100\n",
    "                seconds[i] = seconds[i] - 60\n",
    "            minutes[i] = (time_temp[i-1]%10000 - time_temp[i-1]%100) + temp_minutes\n",
    "        elif (seconds[i] == 60):\n",
    "            seconds[i] = 0\n",
    "            minutes[i] = (time_temp[i-1]%10000 - time_temp[i-1]%100) + 100\n",
    "        else:\n",
    "            minutes[i] = (time_temp[i-1]%10000 - time_temp[i-1]%100)\n",
    "        if (minutes[i] > 5900):\n",
    "            minutes[i] = 6000 - minutes[i]\n",
    "            hours[i] = (time_temp[i-1] - time_temp[i-1]%10000) + 10000\n",
    "        else:\n",
    "            hours[i] = (time_temp[i-1] - time_temp[i-1]%10000)\n",
    "        if (hours[i] > 230000):\n",
    "            hours[i] = 240000 - hours[i]\n",
    "        time_temp[i] = hours[i] + minutes[i] + seconds[i]\n",
    "\n",
    "    #Split time with colons\n",
    "    output_time = [0 for i in range(time_temp.size)]\n",
    "    hours_temp = np.zeros(time_temp.size)\n",
    "    minutes_temp = np.zeros(time_temp.size)\n",
    "    seconds_temp = np.zeros(time_temp.size)\n",
    "    for i in range (0, time_temp.size):\n",
    "        hours_temp[i] = int((time_temp[i] - time_temp[i]%10000)/10000)\n",
    "        minutes_temp[i] = int((time_temp[i]%10000 - time_temp[i]%100)/100)\n",
    "        seconds_temp[i] = time_temp[i]%100\n",
    "        if (seconds_temp[i] < 10):\n",
    "            if(minutes_temp[i] < 10):\n",
    "                output_time[i] = \"%d:0%d:0%.3f\" % (hours_temp[i], minutes_temp[i], seconds_temp[i])\n",
    "            else:\n",
    "                output_time[i] = \"%d:%d:0%.3f\" % (hours_temp[i], minutes_temp[i], seconds_temp[i])\n",
    "        else:\n",
    "            if(minutes_temp[i] < 10):\n",
    "                output_time[i] = \"%d:0%d:%.3f\" % (hours_temp[i], minutes_temp[i], seconds_temp[i])  \n",
    "            else:\n",
    "                output_time[i] = \"%d:%d:%.3f\" % (hours_temp[i], minutes_temp[i], seconds_temp[i])\n",
    "    return output_time \n",
    "\n",
    "#Split data into training and testing sets (0.8/0.2)\n",
    "def dataSplit(x_millis, y_millis):\n",
    "    x_train, x_test, y_train, y_test = train_test_split(x_millis, y_millis, test_size=0.2, random_state=1)\n",
    "    x_val, x_test, y_val, y_test = train_test_split(x_test, y_test, test_size = 0.5, random_state = 1)\n",
    "    return x_train.reshape(-1,1), y_train.reshape(-1,1), x_test.reshape(-1,1), y_test.reshape(-1,1), x_val.reshape(-1,1), y_val.reshape(-1,1)\n",
    "\n",
    "\n",
    "#Metrics for regression analysis\n",
    "def RMSE(predict, y):\n",
    "    c = np.zeros(predict.size)\n",
    "    for i in range (0, predict.size):\n",
    "        c[i] = (y[i] - predict[i])**2\n",
    "    return np.sqrt((np.sum(c))/len(c))\n",
    "\n",
    "def MAE(predict, y):\n",
    "    c = np.zeros(predict.size)\n",
    "    for i in range (0, predict.size):\n",
    "        c[i] = abs(y[i] - predict[i])\n",
    "    return (np.sum(c))/len(c)\n",
    "\n",
    "#Metrics related to clock AccOffset \n",
    "def plotDrift(GPS_millis, RTC_millis):\n",
    "    Drift = np.zeros(GPS_millis.size)\n",
    "    for i in range(1, GPS_millis.size):\n",
    "        Drift[i] = ((GPS_millis[i] - RTC_millis[i])/GPS_millis[i])*1000000\n",
    "    t = np.linspace(10000, len(GPS_millis), len(GPS_millis[10000:len(GPS_millis)]))\n",
    "    plt.plot(t, Drift[10000:len(GPS_millis)])\n",
    "    plt.title('Clock drift of Teensy internal RTC (ppm)')\n",
    "    plt.xlabel('Seconds since start-up')\n",
    "    plt.ylabel('Drift (ppm)')\n",
    "    plt.show()\n",
    "\n",
    "def plotOffset(GPS_millis, RTC_millis):\n",
    "    offset = np.zeros(GPS_millis.size)\n",
    "    offsetsum = 0\n",
    "    for i in range(0, GPS_millis.size):\n",
    "        offset[i] = (GPS_millis[i] - offsetsum - RTC_millis[i])\n",
    "        offsetsum = np.sum(offset)\n",
    "    t = np.linspace(100000, 100500, 500)\n",
    "    plt.plot(t, offset[100000:100500])\n",
    "    plt.title('Clock offset of internal Teensy RTC (ms)')\n",
    "    plt.xlabel('Seconds since start-up')\n",
    "    plt.ylabel('Clock offset (ms)')\n",
    "    plt.show()\n",
    "    \n",
    "\n",
    "def plotAccOffset(GPS_millis, RTC_millis):\n",
    "    AccOffset = np.zeros(GPS_millis.size)\n",
    "    for i in range(0, GPS_millis.size):\n",
    "        AccOffset[i] = (GPS_millis[i] - RTC_millis[i])\n",
    "    t = np.linspace(0, len(GPS_millis), len(GPS_millis))\n",
    "    plt.plot(t, AccOffset)\n",
    "    plt.title('Accumulated offset of Teensy internal RTC (ms)')\n",
    "    plt.xlabel('Seconds since start-up')\n",
    "    plt.ylabel('Accumulated offset (ms)')\n",
    "    plt.show()\n",
    "    \n",
    "def AccOffset(GPS_millis, RTC_millis):\n",
    "    d = np.zeros(GPS_millis.size)\n",
    "    for i in range(0, GPS_millis.size):\n",
    "        d[i] = (GPS_millis[i] - RTC_millis[i])\n",
    "    return d\n",
    "\n",
    "def Drift(GPS_millis, RTC_millis):\n",
    "    Drift = np.zeros(GPS_millis.size)\n",
    "    for i in range(1, GPS_millis.size):\n",
    "        Drift[i] = ((GPS_millis[i] - RTC_millis[i])/GPS_millis[i])*1000000\n",
    "    return Drift\n",
    "\n",
    "def convertToCycles(array):\n",
    "    a = np.zeros(array.size)\n",
    "    for i in range(0, array.size):\n",
    "        a[i] = (array[i]/1000)*32768\n",
    "    return a\n",
    "\n",
    "#dataframe to summarise linear regression metrics\n",
    "def RegMetrics(x1_train, y1_train, x1_val, y1_val, x1_test, y1_test, model):\n",
    "    predict1 = model.predict(x1_train)\n",
    "    r1 =  model.score(x1_train, y1_train)\n",
    "    rmse1 = RMSE(predict1, y1_train)\n",
    "    mae1 =  MAE(predict1, y1_train)\n",
    "    \n",
    "    predict2 = model.predict(x1_test)\n",
    "    r2 = model.score(x1_test, y1_test)\n",
    "    rmse2 = RMSE(predict2, y1_test)\n",
    "    mae2 = MAE(predict2, y1_test)\n",
    "    \n",
    "    predict3 = model.predict(x1_val)\n",
    "    r3 = model.score(x1_val, y1_val)\n",
    "    rmse3 = RMSE(predict3, y1_val)\n",
    "    mae3 = MAE(predict3, y1_val)\n",
    "    \n",
    "    d = {'Index Title': ['Training', 'Validation', 'Test'],'R': [r1, r3, r2], 'RMSE' : [rmse1, rmse3, rmse2], 'MAE' :[mae1, mae3, mae2]}\n",
    "    df = pd.DataFrame(d).set_index('Index Title')\n",
    "    return display(df)\n",
    "\n",
    "\n",
    "#Data Frames to summarise metrics for testing sets and display synchronised time\n",
    "def synch(RTC_millis, GPS_millis, model, time, AccOffset):\n",
    "    millis_predict = model.predict(RTC_millis.reshape(-1, 1))\n",
    "    #Convert AccOffset prediction to synchronised time by adding the AccOffset to RTC time in milliseconds\n",
    "    for i in range (0, millis_predict.size):\n",
    "        millis_predict[i] = RTC_millis[i] + millis_predict[i]\n",
    "    millis_predict = (np.reshape(millis_predict, len(millis_predict))).astype(int)\n",
    "    r =  model.score(RTC_millis.reshape(-1, 1), AccOffset.reshape(-1, 1))\n",
    "    rmse =  RMSE(millis_predict, GPS_millis)\n",
    "    mae = MAE(millis_predict, GPS_millis)\n",
    "    \n",
    "    d = {'R': [r], 'RMSE' : [rmse], 'MAE' :[mae]}\n",
    "    d = pd.DataFrame(d)\n",
    "    display(d)\n",
    "    df = pd.DataFrame({'GPS Time (ms)': GPS_millis, 'RTC Time (ms)': RTC_millis, \n",
    "                         'Synch Time (ms)' : millis_predict, 'GPS Time': millisToTime(GPS_millis, time),\n",
    "                           'RTC Time':millisToTime(RTC_millis, time), 'Synch Time' : millisToTime(millis_predict, time)})\n",
    "    return display(df)"
   ]
  },
  {
   "cell_type": "code",
   "execution_count": 206,
   "metadata": {},
   "outputs": [],
   "source": [
    "#Reading data from training run of sensor 1\n",
    "with open('GPT2.TXT', 'r') as in_file:\n",
    "    stripped = (line.strip() for line in in_file)\n",
    "    lines = (line.split(\",\") for line in stripped if line)\n",
    "    with open('GPT2.csv', 'w') as out_file:\n",
    "        writer = csv.writer(out_file)\n",
    "        writer.writerow(('GPS/RTC', 'Time', 'Day', 'Month', 'Year', 'Millis', 'Temp', 'Offset', 'Number'))\n",
    "        writer.writerows(lines)\n",
    "        \n",
    "data1 = pd.read_csv(\"GPT2.csv\")\n",
    "data_arr1 = np.array(data1)\n",
    "time1 = data_arr1[0:,1]\n",
    "#RTC_millis1 = data_arr1[0:,5]\n",
    "temp1 = data_arr1[0:,6]\n",
    "offset1 = data_arr1[0:,7]\n",
    "num1 = data_arr1[0:,8]\n",
    "\n",
    "#Cleaning data\n",
    "#for i in range(0, 131063):\n",
    "#    RTC_millis1[i] = (RTC_millis1[i]- 9*(32768) - 12343)/32768\n",
    "#RTC_millis1[131063] = 32768  \n",
    "#for i in range(131064, RTC_millis1.size):\n",
    "#    RTC_millis1[i] = RTC_millis1[i] + 6662\n",
    "#for i in range(131063, RTC_millis1.size):\n",
    "#    RTC_millis1[i] = RTC_millis1[i]/32768 + RTC_millis1[131062]\n",
    "#cycles = np.zeros(RTC_millis1.size)\n",
    "#for i in range(RTC_millis1.size):\n",
    "#    cycles[i] = RTC_millis1[i]*32768\n",
    "#for i in range(RTC_millis1.size):\n",
    "#    RTC_millis1[i] = RTC_millis1[i]*1000\n",
    "\n",
    "RTC_millis1 = np.zeros(offset1.size)\n",
    "for i in range(0, offset1.size):\n",
    "    RTC_millis1[i] = offset1[i] + RTC_millis1[i - 1]\n",
    "for i in range(0, offset1.size):\n",
    "    RTC_millis1[i] = (RTC_millis1[i]/32768)*1000\n",
    "    \n",
    "with open('GPT22.TXT', 'r') as in_file:\n",
    "    stripped = (line.strip() for line in in_file)\n",
    "    lines = (line.split(\",\") for line in stripped if line)\n",
    "    with open('GPT22.csv', 'w') as out_file:\n",
    "        writer = csv.writer(out_file)\n",
    "        writer.writerow(('GPS/RTC', 'Time', 'Day', 'Month', 'Year', 'Millis', 'Temp', 'Offset', 'Number'))\n",
    "        writer.writerows(lines)\n",
    "        \n",
    "data2 = pd.read_csv(\"GPT22.csv\")\n",
    "data_arr2 = np.array(data2)\n",
    "time2 = data_arr2[0:,1]\n",
    "#RTC_millis1 = data_arr1[0:,5]\n",
    "temp2 = data_arr2[0:,6]\n",
    "offset2 = data_arr2[0:,7]\n",
    "num2 = data_arr2[0:,8]\n",
    "\n",
    "RTC_millis2 = np.zeros(offset2.size)\n",
    "for i in range(0, offset2.size):\n",
    "    RTC_millis2[i] = offset2[i] + RTC_millis2[i - 1]\n",
    "for i in range(0, offset2.size):\n",
    "    RTC_millis2[i] = (RTC_millis2[i]/32768)*1000\n",
    "    "
   ]
  },
  {
   "cell_type": "code",
   "execution_count": 207,
   "metadata": {},
   "outputs": [],
   "source": [
    "#Determining the GPS milliseconds since start-up for all three sensors\n",
    "GPS_millis1 = timeToMillis(time1, RTC_millis1)\n",
    "\n",
    "#Determining the AccOffset of all three sensors\n",
    "AccOffset1 = AccOffset(GPS_millis1, RTC_millis1)\n",
    "\n",
    "#Splitting the training and testing data only for the first sensor (on which the model is built and tested)\n",
    "x1_train, y1_train, x1_test, y1_test, x1_val, y1_val = dataSplit(RTC_millis1, AccOffset1)\n",
    "\n",
    "#Determining the GPS milliseconds since start-up for all three sensors\n",
    "GPS_millis2 = timeToMillis(time2, RTC_millis2)\n",
    "\n",
    "#Determining the AccOffset of all three sensors\n",
    "AccOffset2 = AccOffset(GPS_millis2, RTC_millis2)\n",
    "\n",
    "#Splitting the training and testing data only for the first sensor (on which the model is built and tested)\n",
    "x2_train, y2_train, x2_test, y2_test, x2_val, y2_val = dataSplit(RTC_millis2, AccOffset2)"
   ]
  },
  {
   "cell_type": "code",
   "execution_count": 71,
   "metadata": {
    "scrolled": true
   },
   "outputs": [
    {
     "data": {
      "image/png": "[encoded data removed]",
      "text/plain": [
       "<Figure size 432x288 with 1 Axes>"
      ]
     },
     "metadata": {
      "needs_background": "light"
     },
     "output_type": "display_data"
    },
    {
     "data": {
      "image/png": "[encoded data removed]",
      "text/plain": [
       "<Figure size 432x288 with 1 Axes>"
      ]
     },
     "metadata": {
      "needs_background": "light"
     },
     "output_type": "display_data"
    },
    {
     "data": {
      "image/png": "[encoded data removed]",
      "text/plain": [
       "<Figure size 432x288 with 1 Axes>"
      ]
     },
     "metadata": {
      "needs_background": "light"
     },
     "output_type": "display_data"
    }
   ],
   "source": [
    "#Drift and AccOffset graphs of all three sensor sets\n",
    "plotDrift(GPS_millis1, RTC_millis1)\n",
    "plotOffset(GPS_millis1, RTC_millis1)\n",
    "plotAccOffset(GPS_millis1, RTC_millis1)\n"
   ]
  },
  {
   "cell_type": "code",
   "execution_count": 88,
   "metadata": {},
   "outputs": [
    {
     "data": {
      "image/png": "[encoded data removed]",
      "text/plain": [
       "<Figure size 432x288 with 1 Axes>"
      ]
     },
     "metadata": {
      "needs_background": "light"
     },
     "output_type": "display_data"
    },
    {
     "data": {
      "image/png": "[encoded data removed]",
      "text/plain": [
       "<Figure size 432x288 with 1 Axes>"
      ]
     },
     "metadata": {
      "needs_background": "light"
     },
     "output_type": "display_data"
    },
    {
     "data": {
      "image/png": "[encoded data removed]",
      "text/plain": [
       "<Figure size 432x288 with 1 Axes>"
      ]
     },
     "metadata": {
      "needs_background": "light"
     },
     "output_type": "display_data"
    }
   ],
   "source": [
    "#Drift and AccOffset graphs of all three sensor sets\n",
    "plotDrift(GPS_millis2, RTC_millis2)\n",
    "plotOffset(GPS_millis2, RTC_millis2)\n",
    "plotAccOffset(GPS_millis2, RTC_millis2)\n",
    "\n"
   ]
  },
  {
   "cell_type": "code",
   "execution_count": 28,
   "metadata": {},
   "outputs": [
    {
     "name": "stdout",
     "output_type": "stream",
     "text": [
      "RMSE Testing Sensor One:  662.5036063537375\n",
      "MAE Testing Sensor One: 572.0138910892798\n"
     ]
    }
   ],
   "source": [
    "print('RMSE Testing Sensor One: ', RMSE(RTC_millis1, GPS_millis1))\n",
    "print('MAE Testing Sensor One:', MAE(RTC_millis1, GPS_millis1))"
   ]
  },
  {
   "cell_type": "code",
   "execution_count": 89,
   "metadata": {},
   "outputs": [
    {
     "name": "stdout",
     "output_type": "stream",
     "text": [
      "RMSE Testing Sensor One:  427.19091598431874\n",
      "MAE Testing Sensor One: 375.53743548225214\n"
     ]
    }
   ],
   "source": [
    "print('RMSE Testing Sensor One: ', RMSE(RTC_millis2, GPS_millis2))\n",
    "print('MAE Testing Sensor One:', MAE(RTC_millis2, GPS_millis2))"
   ]
  },
  {
   "cell_type": "code",
   "execution_count": 229,
   "metadata": {},
   "outputs": [
    {
     "data": {
      "image/png": "[encoded data removed]",
      "text/plain": [
       "<Figure size 432x288 with 2 Axes>"
      ]
     },
     "metadata": {
      "needs_background": "light"
     },
     "output_type": "display_data"
    }
   ],
   "source": [
    "t = np.linspace(10000, len(GPS_millis1), len(GPS_millis1[10000:len(GPS_millis1)]))\n",
    "\n",
    "fig, ax1 = plt.subplots()\n",
    "\n",
    "color = 'tab:red'\n",
    "drifty = np.zeros(GPS_millis1.size)\n",
    "for i in range(1, GPS_millis1.size):\n",
    "    drifty[i] = ((GPS_millis1[i] - RTC_millis1[i])/GPS_millis1[i])*1000000\n",
    "ax1.plot(t, drifty[10000:len(GPS_millis1)], color = color)\n",
    "ax1.set_xlabel('Seconds since start-up')\n",
    "ax1.set_ylabel('Drift (ppm)', color = color)\n",
    "ax2 = ax1.twinx()\n",
    "\n",
    "color = 'tab:blue'\n",
    "ax2.plot(t, temp1[10000:len(GPS_millis1)], color = color)\n",
    "ax2.set_ylabel('Temp', color = color)\n",
    "\n",
    "plt.title('Drift and temperature of Teensy internal RTC')\n",
    "fig.tight_layout()  \n",
    "plt.show()"
   ]
  },
  {
   "cell_type": "code",
   "execution_count": 251,
   "metadata": {},
   "outputs": [
    {
     "data": {
      "image/png": "[encoded data removed]",
      "text/plain": [
       "<Figure size 432x288 with 2 Axes>"
      ]
     },
     "metadata": {
      "needs_background": "light"
     },
     "output_type": "display_data"
    }
   ],
   "source": [
    "t = np.linspace(10000, len(GPS_millis2), len(GPS_millis2[10000:len(GPS_millis2)]))\n",
    "\n",
    "fig, ax1 = plt.subplots()\n",
    "\n",
    "color = 'tab:red'\n",
    "drifty = np.zeros(GPS_millis2.size)\n",
    "for i in range(1, GPS_millis2.size):\n",
    "    drifty[i] = ((GPS_millis2[i] - RTC_millis2[i])/GPS_millis2[i])*1000000\n",
    "ax1.plot(t, drifty[10000:len(GPS_millis2)], color = color)\n",
    "ax1.set_xlabel('Seconds since start-up')\n",
    "ax1.set_ylabel('Drift (ppm)', color = color)\n",
    "ax2 = ax1.twinx()\n",
    "\n",
    "color = 'tab:blue'\n",
    "ax2.plot(t, temp2[10000:len(GPS_millis2)], color = color)\n",
    "ax2.set_ylabel('Temp', color = color)\n",
    "\n",
    "plt.title('Drift and temperature of Teensy internal RTC')\n",
    "fig.tight_layout()  \n",
    "plt.show()"
   ]
  },
  {
   "cell_type": "code",
   "execution_count": 92,
   "metadata": {},
   "outputs": [],
   "source": [
    "drift = Drift(GPS_millis1, RTC_millis1)\n",
    "accOffset = AccOffset(GPS_millis1, RTC_millis1)\n",
    "\n",
    "drift2 = Drift(GPS_millis2, RTC_millis2)\n",
    "accOffset2 = AccOffset(GPS_millis2, RTC_millis2)"
   ]
  },
  {
   "cell_type": "code",
   "execution_count": 230,
   "metadata": {},
   "outputs": [
    {
     "data": {
      "image/png": "[encoded data removed]",
      "text/plain": [
       "<Figure size 432x288 with 1 Axes>"
      ]
     },
     "metadata": {
      "needs_background": "light"
     },
     "output_type": "display_data"
    },
    {
     "data": {
      "image/png": "[encoded data removed]",
      "text/plain": [
       "<Figure size 432x288 with 1 Axes>"
      ]
     },
     "metadata": {
      "needs_background": "light"
     },
     "output_type": "display_data"
    }
   ],
   "source": [
    "plt.scatter(temp1[90000:drift.size], drift[90000:drift.size], s = 2)\n",
    "plt.title('Drift at different temperatures')\n",
    "plt.xlabel('Temperature')\n",
    "plt.ylabel('Drift (ppm)')\n",
    "plt.show()\n",
    "\n",
    "plt.scatter(temp2[10000:drift2.size], drift2[10000:drift2.size], s = 2)\n",
    "plt.title('Drift at different temperatures')\n",
    "plt.xlabel('Temperature')\n",
    "plt.ylabel('Drift')\n",
    "plt.show()\n"
   ]
  },
  {
   "cell_type": "code",
   "execution_count": 115,
   "metadata": {},
   "outputs": [
    {
     "name": "stdout",
     "output_type": "stream",
     "text": [
      "Mean drift: 4.436217878974146\n",
      "Mean accumulated offset: 572.0138910892798\n",
      "Mean temperature: 16.185029182052705\n",
      "Max drift: 5.086263020833333\n",
      "Max accumulated offset: 1149.96337890625\n",
      "Max temperature: 24.37\n"
     ]
    }
   ],
   "source": [
    "#Drift and offset characteristics, training data \n",
    "print('Mean drift:', np.mean(drift))\n",
    "print('Mean accumulated offset:', np.mean(accOffset))\n",
    "print('Mean temperature:', np.mean(temp1))\n",
    "print('Max drift:', np.max(drift))\n",
    "print('Max accumulated offset:', np.max(accOffset))\n",
    "print('Max temperature:', np.max(temp1))"
   ]
  },
  {
   "cell_type": "code",
   "execution_count": 240,
   "metadata": {},
   "outputs": [
    {
     "name": "stdout",
     "output_type": "stream",
     "text": [
      "Mean drift: 4.7301753256666474\n",
      "Mean accumulated offset: 375.5358538533198\n",
      "Mean temperature: 18.43646765480141\n",
      "Max drift: 7.098534535512188\n",
      "Max accumulated offset: 708.41162109375\n",
      "Max temperature: 26.94\n"
     ]
    }
   ],
   "source": [
    "#Drift and offset characteristics, new data \n",
    "print('Mean drift:', np.mean(drift2))\n",
    "print('Mean accumulated offset:', np.mean(accOffset2))\n",
    "print('Mean temperature:', np.mean(temp2))\n",
    "print('Max drift:', np.max(drift2))\n",
    "print('Max accumulated offset:', np.max(accOffset2))\n",
    "print('Max temperature:', np.max(temp2))"
   ]
  },
  {
   "cell_type": "code",
   "execution_count": 100,
   "metadata": {},
   "outputs": [
    {
     "name": "stdout",
     "output_type": "stream",
     "text": [
      "Performance of model on training set\n"
     ]
    },
    {
     "data": {
      "text/html": [
       "<div>\n",
       "<style scoped>\n",
       "    .dataframe tbody tr th:only-of-type {\n",
       "        vertical-align: middle;\n",
       "    }\n",
       "\n",
       "    .dataframe tbody tr th {\n",
       "        vertical-align: top;\n",
       "    }\n",
       "\n",
       "    .dataframe thead th {\n",
       "        text-align: right;\n",
       "    }\n",
       "</style>\n",
       "<table border=\"1\" class=\"dataframe\">\n",
       "  <thead>\n",
       "    <tr style=\"text-align: right;\">\n",
       "      <th></th>\n",
       "      <th>R</th>\n",
       "      <th>RMSE</th>\n",
       "      <th>MAE</th>\n",
       "    </tr>\n",
       "    <tr>\n",
       "      <th>Index Title</th>\n",
       "      <th></th>\n",
       "      <th></th>\n",
       "      <th></th>\n",
       "    </tr>\n",
       "  </thead>\n",
       "  <tbody>\n",
       "    <tr>\n",
       "      <th>Training</th>\n",
       "      <td>0.999043</td>\n",
       "      <td>10.335643</td>\n",
       "      <td>9.066946</td>\n",
       "    </tr>\n",
       "    <tr>\n",
       "      <th>Validation</th>\n",
       "      <td>0.999042</td>\n",
       "      <td>10.340819</td>\n",
       "      <td>9.085895</td>\n",
       "    </tr>\n",
       "    <tr>\n",
       "      <th>Test</th>\n",
       "      <td>0.999052</td>\n",
       "      <td>10.343520</td>\n",
       "      <td>9.073011</td>\n",
       "    </tr>\n",
       "  </tbody>\n",
       "</table>\n",
       "</div>"
      ],
      "text/plain": [
       "                    R       RMSE       MAE\n",
       "Index Title                               \n",
       "Training     0.999043  10.335643  9.066946\n",
       "Validation   0.999042  10.340819  9.085895\n",
       "Test         0.999052  10.343520  9.073011"
      ]
     },
     "metadata": {},
     "output_type": "display_data"
    },
    {
     "name": "stdout",
     "output_type": "stream",
     "text": [
      "Synchronised time: Training set Sensor 1\n"
     ]
    },
    {
     "data": {
      "text/html": [
       "<div>\n",
       "<style scoped>\n",
       "    .dataframe tbody tr th:only-of-type {\n",
       "        vertical-align: middle;\n",
       "    }\n",
       "\n",
       "    .dataframe tbody tr th {\n",
       "        vertical-align: top;\n",
       "    }\n",
       "\n",
       "    .dataframe thead th {\n",
       "        text-align: right;\n",
       "    }\n",
       "</style>\n",
       "<table border=\"1\" class=\"dataframe\">\n",
       "  <thead>\n",
       "    <tr style=\"text-align: right;\">\n",
       "      <th></th>\n",
       "      <th>R</th>\n",
       "      <th>RMSE</th>\n",
       "      <th>MAE</th>\n",
       "    </tr>\n",
       "  </thead>\n",
       "  <tbody>\n",
       "    <tr>\n",
       "      <th>0</th>\n",
       "      <td>0.999043</td>\n",
       "      <td>10.337229</td>\n",
       "      <td>9.049578</td>\n",
       "    </tr>\n",
       "  </tbody>\n",
       "</table>\n",
       "</div>"
      ],
      "text/plain": [
       "          R       RMSE       MAE\n",
       "0  0.999043  10.337229  9.049578"
      ]
     },
     "metadata": {},
     "output_type": "display_data"
    },
    {
     "data": {
      "text/html": [
       "<div>\n",
       "<style scoped>\n",
       "    .dataframe tbody tr th:only-of-type {\n",
       "        vertical-align: middle;\n",
       "    }\n",
       "\n",
       "    .dataframe tbody tr th {\n",
       "        vertical-align: top;\n",
       "    }\n",
       "\n",
       "    .dataframe thead th {\n",
       "        text-align: right;\n",
       "    }\n",
       "</style>\n",
       "<table border=\"1\" class=\"dataframe\">\n",
       "  <thead>\n",
       "    <tr style=\"text-align: right;\">\n",
       "      <th></th>\n",
       "      <th>GPS Time (ms)</th>\n",
       "      <th>RTC Time (ms)</th>\n",
       "      <th>Synch Time (ms)</th>\n",
       "      <th>GPS Time</th>\n",
       "      <th>RTC Time</th>\n",
       "      <th>Synch Time</th>\n",
       "    </tr>\n",
       "  </thead>\n",
       "  <tbody>\n",
       "    <tr>\n",
       "      <th>0</th>\n",
       "      <td>1000</td>\n",
       "      <td>1.000000e+03</td>\n",
       "      <td>993</td>\n",
       "      <td>19:17:16.000</td>\n",
       "      <td>19:17:16.000</td>\n",
       "      <td>19:17:16.000</td>\n",
       "    </tr>\n",
       "    <tr>\n",
       "      <th>1</th>\n",
       "      <td>2000</td>\n",
       "      <td>2.000000e+03</td>\n",
       "      <td>1993</td>\n",
       "      <td>19:17:17.000</td>\n",
       "      <td>19:17:17.000</td>\n",
       "      <td>19:17:17.000</td>\n",
       "    </tr>\n",
       "    <tr>\n",
       "      <th>2</th>\n",
       "      <td>3000</td>\n",
       "      <td>3.000000e+03</td>\n",
       "      <td>2993</td>\n",
       "      <td>19:17:18.000</td>\n",
       "      <td>19:17:18.000</td>\n",
       "      <td>19:17:18.000</td>\n",
       "    </tr>\n",
       "    <tr>\n",
       "      <th>3</th>\n",
       "      <td>4000</td>\n",
       "      <td>4.000000e+03</td>\n",
       "      <td>3993</td>\n",
       "      <td>19:17:19.000</td>\n",
       "      <td>19:17:19.000</td>\n",
       "      <td>19:17:19.000</td>\n",
       "    </tr>\n",
       "    <tr>\n",
       "      <th>4</th>\n",
       "      <td>5000</td>\n",
       "      <td>5.000000e+03</td>\n",
       "      <td>4993</td>\n",
       "      <td>19:17:20.000</td>\n",
       "      <td>19:17:20.000</td>\n",
       "      <td>19:17:20.000</td>\n",
       "    </tr>\n",
       "    <tr>\n",
       "      <th>...</th>\n",
       "      <td>...</td>\n",
       "      <td>...</td>\n",
       "      <td>...</td>\n",
       "      <td>...</td>\n",
       "      <td>...</td>\n",
       "      <td>...</td>\n",
       "    </tr>\n",
       "    <tr>\n",
       "      <th>257345</th>\n",
       "      <td>257346000</td>\n",
       "      <td>2.573449e+08</td>\n",
       "      <td>257346000</td>\n",
       "      <td>18:46:21.000</td>\n",
       "      <td>18:46:19.850</td>\n",
       "      <td>18:46:21.007</td>\n",
       "    </tr>\n",
       "    <tr>\n",
       "      <th>257346</th>\n",
       "      <td>257347000</td>\n",
       "      <td>2.573459e+08</td>\n",
       "      <td>257347000</td>\n",
       "      <td>18:46:22.000</td>\n",
       "      <td>18:46:20.850</td>\n",
       "      <td>18:46:22.007</td>\n",
       "    </tr>\n",
       "    <tr>\n",
       "      <th>257347</th>\n",
       "      <td>257348000</td>\n",
       "      <td>2.573469e+08</td>\n",
       "      <td>257348000</td>\n",
       "      <td>18:46:23.000</td>\n",
       "      <td>18:46:21.850</td>\n",
       "      <td>18:46:23.007</td>\n",
       "    </tr>\n",
       "    <tr>\n",
       "      <th>257348</th>\n",
       "      <td>257349000</td>\n",
       "      <td>2.573479e+08</td>\n",
       "      <td>257349000</td>\n",
       "      <td>18:46:24.000</td>\n",
       "      <td>18:46:22.850</td>\n",
       "      <td>18:46:24.007</td>\n",
       "    </tr>\n",
       "    <tr>\n",
       "      <th>257349</th>\n",
       "      <td>257350000</td>\n",
       "      <td>2.573489e+08</td>\n",
       "      <td>257350000</td>\n",
       "      <td>18:46:25.000</td>\n",
       "      <td>18:46:23.850</td>\n",
       "      <td>18:46:25.007</td>\n",
       "    </tr>\n",
       "  </tbody>\n",
       "</table>\n",
       "<p>257350 rows × 6 columns</p>\n",
       "</div>"
      ],
      "text/plain": [
       "        GPS Time (ms)  RTC Time (ms)  Synch Time (ms)      GPS Time  \\\n",
       "0                1000   1.000000e+03              993  19:17:16.000   \n",
       "1                2000   2.000000e+03             1993  19:17:17.000   \n",
       "2                3000   3.000000e+03             2993  19:17:18.000   \n",
       "3                4000   4.000000e+03             3993  19:17:19.000   \n",
       "4                5000   5.000000e+03             4993  19:17:20.000   \n",
       "...               ...            ...              ...           ...   \n",
       "257345      257346000   2.573449e+08        257346000  18:46:21.000   \n",
       "257346      257347000   2.573459e+08        257347000  18:46:22.000   \n",
       "257347      257348000   2.573469e+08        257348000  18:46:23.000   \n",
       "257348      257349000   2.573479e+08        257349000  18:46:24.000   \n",
       "257349      257350000   2.573489e+08        257350000  18:46:25.000   \n",
       "\n",
       "            RTC Time    Synch Time  \n",
       "0       19:17:16.000  19:17:16.000  \n",
       "1       19:17:17.000  19:17:17.000  \n",
       "2       19:17:18.000  19:17:18.000  \n",
       "3       19:17:19.000  19:17:19.000  \n",
       "4       19:17:20.000  19:17:20.000  \n",
       "...              ...           ...  \n",
       "257345  18:46:19.850  18:46:21.007  \n",
       "257346  18:46:20.850  18:46:22.007  \n",
       "257347  18:46:21.850  18:46:23.007  \n",
       "257348  18:46:22.850  18:46:24.007  \n",
       "257349  18:46:23.850  18:46:25.007  \n",
       "\n",
       "[257350 rows x 6 columns]"
      ]
     },
     "metadata": {},
     "output_type": "display_data"
    },
    {
     "name": "stdout",
     "output_type": "stream",
     "text": [
      "Performance of model on training set\n"
     ]
    },
    {
     "data": {
      "text/html": [
       "<div>\n",
       "<style scoped>\n",
       "    .dataframe tbody tr th:only-of-type {\n",
       "        vertical-align: middle;\n",
       "    }\n",
       "\n",
       "    .dataframe tbody tr th {\n",
       "        vertical-align: top;\n",
       "    }\n",
       "\n",
       "    .dataframe thead th {\n",
       "        text-align: right;\n",
       "    }\n",
       "</style>\n",
       "<table border=\"1\" class=\"dataframe\">\n",
       "  <thead>\n",
       "    <tr style=\"text-align: right;\">\n",
       "      <th></th>\n",
       "      <th>R</th>\n",
       "      <th>RMSE</th>\n",
       "      <th>MAE</th>\n",
       "    </tr>\n",
       "    <tr>\n",
       "      <th>Index Title</th>\n",
       "      <th></th>\n",
       "      <th></th>\n",
       "      <th></th>\n",
       "    </tr>\n",
       "  </thead>\n",
       "  <tbody>\n",
       "    <tr>\n",
       "      <th>Training</th>\n",
       "      <td>0.990471</td>\n",
       "      <td>19.864302</td>\n",
       "      <td>17.694870</td>\n",
       "    </tr>\n",
       "    <tr>\n",
       "      <th>Validation</th>\n",
       "      <td>0.990459</td>\n",
       "      <td>19.962454</td>\n",
       "      <td>17.782381</td>\n",
       "    </tr>\n",
       "    <tr>\n",
       "      <th>Test</th>\n",
       "      <td>0.990480</td>\n",
       "      <td>19.903148</td>\n",
       "      <td>17.740367</td>\n",
       "    </tr>\n",
       "  </tbody>\n",
       "</table>\n",
       "</div>"
      ],
      "text/plain": [
       "                    R       RMSE        MAE\n",
       "Index Title                                \n",
       "Training     0.990471  19.864302  17.694870\n",
       "Validation   0.990459  19.962454  17.782381\n",
       "Test         0.990480  19.903148  17.740367"
      ]
     },
     "metadata": {},
     "output_type": "display_data"
    },
    {
     "name": "stdout",
     "output_type": "stream",
     "text": [
      "Synchronised time: Training set Sensor 1\n"
     ]
    },
    {
     "data": {
      "text/html": [
       "<div>\n",
       "<style scoped>\n",
       "    .dataframe tbody tr th:only-of-type {\n",
       "        vertical-align: middle;\n",
       "    }\n",
       "\n",
       "    .dataframe tbody tr th {\n",
       "        vertical-align: top;\n",
       "    }\n",
       "\n",
       "    .dataframe thead th {\n",
       "        text-align: right;\n",
       "    }\n",
       "</style>\n",
       "<table border=\"1\" class=\"dataframe\">\n",
       "  <thead>\n",
       "    <tr style=\"text-align: right;\">\n",
       "      <th></th>\n",
       "      <th>R</th>\n",
       "      <th>RMSE</th>\n",
       "      <th>MAE</th>\n",
       "    </tr>\n",
       "  </thead>\n",
       "  <tbody>\n",
       "    <tr>\n",
       "      <th>0</th>\n",
       "      <td>0.990471</td>\n",
       "      <td>20.115426</td>\n",
       "      <td>17.958441</td>\n",
       "    </tr>\n",
       "  </tbody>\n",
       "</table>\n",
       "</div>"
      ],
      "text/plain": [
       "          R       RMSE        MAE\n",
       "0  0.990471  20.115426  17.958441"
      ]
     },
     "metadata": {},
     "output_type": "display_data"
    },
    {
     "data": {
      "text/html": [
       "<div>\n",
       "<style scoped>\n",
       "    .dataframe tbody tr th:only-of-type {\n",
       "        vertical-align: middle;\n",
       "    }\n",
       "\n",
       "    .dataframe tbody tr th {\n",
       "        vertical-align: top;\n",
       "    }\n",
       "\n",
       "    .dataframe thead th {\n",
       "        text-align: right;\n",
       "    }\n",
       "</style>\n",
       "<table border=\"1\" class=\"dataframe\">\n",
       "  <thead>\n",
       "    <tr style=\"text-align: right;\">\n",
       "      <th></th>\n",
       "      <th>GPS Time (ms)</th>\n",
       "      <th>RTC Time (ms)</th>\n",
       "      <th>Synch Time (ms)</th>\n",
       "      <th>GPS Time</th>\n",
       "      <th>RTC Time</th>\n",
       "      <th>Synch Time</th>\n",
       "    </tr>\n",
       "  </thead>\n",
       "  <tbody>\n",
       "    <tr>\n",
       "      <th>0</th>\n",
       "      <td>999</td>\n",
       "      <td>9.999695e+02</td>\n",
       "      <td>993</td>\n",
       "      <td>10:32:10.000</td>\n",
       "      <td>10:32:10.000</td>\n",
       "      <td>10:32:10.000</td>\n",
       "    </tr>\n",
       "    <tr>\n",
       "      <th>1</th>\n",
       "      <td>1999</td>\n",
       "      <td>1.999969e+03</td>\n",
       "      <td>1993</td>\n",
       "      <td>10:32:11.000</td>\n",
       "      <td>10:32:11.000</td>\n",
       "      <td>10:32:11.000</td>\n",
       "    </tr>\n",
       "    <tr>\n",
       "      <th>2</th>\n",
       "      <td>2999</td>\n",
       "      <td>2.999969e+03</td>\n",
       "      <td>2993</td>\n",
       "      <td>10:32:12.000</td>\n",
       "      <td>10:32:12.000</td>\n",
       "      <td>10:32:12.000</td>\n",
       "    </tr>\n",
       "    <tr>\n",
       "      <th>3</th>\n",
       "      <td>3999</td>\n",
       "      <td>3.999969e+03</td>\n",
       "      <td>3993</td>\n",
       "      <td>10:32:13.000</td>\n",
       "      <td>10:32:13.000</td>\n",
       "      <td>10:32:13.000</td>\n",
       "    </tr>\n",
       "    <tr>\n",
       "      <th>4</th>\n",
       "      <td>4999</td>\n",
       "      <td>4.999969e+03</td>\n",
       "      <td>4993</td>\n",
       "      <td>10:32:14.000</td>\n",
       "      <td>10:32:14.000</td>\n",
       "      <td>10:32:14.000</td>\n",
       "    </tr>\n",
       "    <tr>\n",
       "      <th>...</th>\n",
       "      <td>...</td>\n",
       "      <td>...</td>\n",
       "      <td>...</td>\n",
       "      <td>...</td>\n",
       "      <td>...</td>\n",
       "      <td>...</td>\n",
       "    </tr>\n",
       "    <tr>\n",
       "      <th>165831</th>\n",
       "      <td>165833999</td>\n",
       "      <td>1.658333e+08</td>\n",
       "      <td>165834029</td>\n",
       "      <td>8:36:03.000</td>\n",
       "      <td>8:36:02.291</td>\n",
       "      <td>8:36:03.036</td>\n",
       "    </tr>\n",
       "    <tr>\n",
       "      <th>165832</th>\n",
       "      <td>165834999</td>\n",
       "      <td>1.658343e+08</td>\n",
       "      <td>165835029</td>\n",
       "      <td>8:36:04.000</td>\n",
       "      <td>8:36:03.291</td>\n",
       "      <td>8:36:04.036</td>\n",
       "    </tr>\n",
       "    <tr>\n",
       "      <th>165833</th>\n",
       "      <td>165835999</td>\n",
       "      <td>1.658353e+08</td>\n",
       "      <td>165836029</td>\n",
       "      <td>8:36:05.000</td>\n",
       "      <td>8:36:04.291</td>\n",
       "      <td>8:36:05.036</td>\n",
       "    </tr>\n",
       "    <tr>\n",
       "      <th>165834</th>\n",
       "      <td>165836999</td>\n",
       "      <td>1.658363e+08</td>\n",
       "      <td>165837029</td>\n",
       "      <td>8:36:06.000</td>\n",
       "      <td>8:36:05.291</td>\n",
       "      <td>8:36:06.036</td>\n",
       "    </tr>\n",
       "    <tr>\n",
       "      <th>165835</th>\n",
       "      <td>165837999</td>\n",
       "      <td>1.658373e+08</td>\n",
       "      <td>165838029</td>\n",
       "      <td>8:36:07.000</td>\n",
       "      <td>8:36:06.291</td>\n",
       "      <td>8:36:07.036</td>\n",
       "    </tr>\n",
       "  </tbody>\n",
       "</table>\n",
       "<p>165836 rows × 6 columns</p>\n",
       "</div>"
      ],
      "text/plain": [
       "        GPS Time (ms)  RTC Time (ms)  Synch Time (ms)      GPS Time  \\\n",
       "0                 999   9.999695e+02              993  10:32:10.000   \n",
       "1                1999   1.999969e+03             1993  10:32:11.000   \n",
       "2                2999   2.999969e+03             2993  10:32:12.000   \n",
       "3                3999   3.999969e+03             3993  10:32:13.000   \n",
       "4                4999   4.999969e+03             4993  10:32:14.000   \n",
       "...               ...            ...              ...           ...   \n",
       "165831      165833999   1.658333e+08        165834029   8:36:03.000   \n",
       "165832      165834999   1.658343e+08        165835029   8:36:04.000   \n",
       "165833      165835999   1.658353e+08        165836029   8:36:05.000   \n",
       "165834      165836999   1.658363e+08        165837029   8:36:06.000   \n",
       "165835      165837999   1.658373e+08        165838029   8:36:07.000   \n",
       "\n",
       "            RTC Time    Synch Time  \n",
       "0       10:32:10.000  10:32:10.000  \n",
       "1       10:32:11.000  10:32:11.000  \n",
       "2       10:32:12.000  10:32:12.000  \n",
       "3       10:32:13.000  10:32:13.000  \n",
       "4       10:32:14.000  10:32:14.000  \n",
       "...              ...           ...  \n",
       "165831   8:36:02.291   8:36:03.036  \n",
       "165832   8:36:03.291   8:36:04.036  \n",
       "165833   8:36:04.291   8:36:05.036  \n",
       "165834   8:36:05.291   8:36:06.036  \n",
       "165835   8:36:06.291   8:36:07.036  \n",
       "\n",
       "[165836 rows x 6 columns]"
      ]
     },
     "metadata": {},
     "output_type": "display_data"
    }
   ],
   "source": [
    "# Linear Regression\n",
    "model1 = LinearRegression().fit(x1_train, y1_train)\n",
    "print(\"Performance of model on training set\")\n",
    "RegMetrics(x1_train, y1_train, x1_val, y1_val, x1_test, y1_test, model1)\n",
    "print(\"Synchronised time: Training set Sensor 1\")\n",
    "synch(RTC_millis1, GPS_millis1, model1, time1, accOffset)\n",
    "#synch.to_csv(r'C:\\Users\\suben\\Documents\\Priyanka\\Skripsie\\synch1.csv', index = False)\n",
    "print(\"Performance of model on training set\")\n",
    "RegMetrics(x2_train, y2_train, x2_val, y2_val, x2_test, y2_test, model1)\n",
    "print(\"Synchronised time: Training set Sensor 1\")\n",
    "synch(RTC_millis2, GPS_millis2, model1, time2, accOffset2)"
   ]
  },
  {
   "cell_type": "code",
   "execution_count": 101,
   "metadata": {},
   "outputs": [
    {
     "name": "stdout",
     "output_type": "stream",
     "text": [
      "Performance of model on training set\n"
     ]
    },
    {
     "data": {
      "text/html": [
       "<div>\n",
       "<style scoped>\n",
       "    .dataframe tbody tr th:only-of-type {\n",
       "        vertical-align: middle;\n",
       "    }\n",
       "\n",
       "    .dataframe tbody tr th {\n",
       "        vertical-align: top;\n",
       "    }\n",
       "\n",
       "    .dataframe thead th {\n",
       "        text-align: right;\n",
       "    }\n",
       "</style>\n",
       "<table border=\"1\" class=\"dataframe\">\n",
       "  <thead>\n",
       "    <tr style=\"text-align: right;\">\n",
       "      <th></th>\n",
       "      <th>R</th>\n",
       "      <th>RMSE</th>\n",
       "      <th>MAE</th>\n",
       "    </tr>\n",
       "    <tr>\n",
       "      <th>Index Title</th>\n",
       "      <th></th>\n",
       "      <th></th>\n",
       "      <th></th>\n",
       "    </tr>\n",
       "  </thead>\n",
       "  <tbody>\n",
       "    <tr>\n",
       "      <th>Training</th>\n",
       "      <td>0.998916</td>\n",
       "      <td>10.996032</td>\n",
       "      <td>8.958015</td>\n",
       "    </tr>\n",
       "    <tr>\n",
       "      <th>Validation</th>\n",
       "      <td>0.998918</td>\n",
       "      <td>10.993960</td>\n",
       "      <td>8.976435</td>\n",
       "    </tr>\n",
       "    <tr>\n",
       "      <th>Test</th>\n",
       "      <td>0.998929</td>\n",
       "      <td>10.993009</td>\n",
       "      <td>8.947828</td>\n",
       "    </tr>\n",
       "  </tbody>\n",
       "</table>\n",
       "</div>"
      ],
      "text/plain": [
       "                    R       RMSE       MAE\n",
       "Index Title                               \n",
       "Training     0.998916  10.996032  8.958015\n",
       "Validation   0.998918  10.993960  8.976435\n",
       "Test         0.998929  10.993009  8.947828"
      ]
     },
     "metadata": {},
     "output_type": "display_data"
    },
    {
     "name": "stdout",
     "output_type": "stream",
     "text": [
      "Synchronised time: Training set Sensor 1\n"
     ]
    },
    {
     "data": {
      "text/html": [
       "<div>\n",
       "<style scoped>\n",
       "    .dataframe tbody tr th:only-of-type {\n",
       "        vertical-align: middle;\n",
       "    }\n",
       "\n",
       "    .dataframe tbody tr th {\n",
       "        vertical-align: top;\n",
       "    }\n",
       "\n",
       "    .dataframe thead th {\n",
       "        text-align: right;\n",
       "    }\n",
       "</style>\n",
       "<table border=\"1\" class=\"dataframe\">\n",
       "  <thead>\n",
       "    <tr style=\"text-align: right;\">\n",
       "      <th></th>\n",
       "      <th>R</th>\n",
       "      <th>RMSE</th>\n",
       "      <th>MAE</th>\n",
       "    </tr>\n",
       "  </thead>\n",
       "  <tbody>\n",
       "    <tr>\n",
       "      <th>0</th>\n",
       "      <td>0.998918</td>\n",
       "      <td>10.999262</td>\n",
       "      <td>8.958077</td>\n",
       "    </tr>\n",
       "  </tbody>\n",
       "</table>\n",
       "</div>"
      ],
      "text/plain": [
       "          R       RMSE       MAE\n",
       "0  0.998918  10.999262  8.958077"
      ]
     },
     "metadata": {},
     "output_type": "display_data"
    },
    {
     "data": {
      "text/html": [
       "<div>\n",
       "<style scoped>\n",
       "    .dataframe tbody tr th:only-of-type {\n",
       "        vertical-align: middle;\n",
       "    }\n",
       "\n",
       "    .dataframe tbody tr th {\n",
       "        vertical-align: top;\n",
       "    }\n",
       "\n",
       "    .dataframe thead th {\n",
       "        text-align: right;\n",
       "    }\n",
       "</style>\n",
       "<table border=\"1\" class=\"dataframe\">\n",
       "  <thead>\n",
       "    <tr style=\"text-align: right;\">\n",
       "      <th></th>\n",
       "      <th>GPS Time (ms)</th>\n",
       "      <th>RTC Time (ms)</th>\n",
       "      <th>Synch Time (ms)</th>\n",
       "      <th>GPS Time</th>\n",
       "      <th>RTC Time</th>\n",
       "      <th>Synch Time</th>\n",
       "    </tr>\n",
       "  </thead>\n",
       "  <tbody>\n",
       "    <tr>\n",
       "      <th>0</th>\n",
       "      <td>1000</td>\n",
       "      <td>1.000000e+03</td>\n",
       "      <td>1000</td>\n",
       "      <td>19:17:16.000</td>\n",
       "      <td>19:17:16.000</td>\n",
       "      <td>19:17:16.000</td>\n",
       "    </tr>\n",
       "    <tr>\n",
       "      <th>1</th>\n",
       "      <td>2000</td>\n",
       "      <td>2.000000e+03</td>\n",
       "      <td>2000</td>\n",
       "      <td>19:17:17.000</td>\n",
       "      <td>19:17:17.000</td>\n",
       "      <td>19:17:17.000</td>\n",
       "    </tr>\n",
       "    <tr>\n",
       "      <th>2</th>\n",
       "      <td>3000</td>\n",
       "      <td>3.000000e+03</td>\n",
       "      <td>3000</td>\n",
       "      <td>19:17:18.000</td>\n",
       "      <td>19:17:18.000</td>\n",
       "      <td>19:17:18.000</td>\n",
       "    </tr>\n",
       "    <tr>\n",
       "      <th>3</th>\n",
       "      <td>4000</td>\n",
       "      <td>4.000000e+03</td>\n",
       "      <td>4000</td>\n",
       "      <td>19:17:19.000</td>\n",
       "      <td>19:17:19.000</td>\n",
       "      <td>19:17:19.000</td>\n",
       "    </tr>\n",
       "    <tr>\n",
       "      <th>4</th>\n",
       "      <td>5000</td>\n",
       "      <td>5.000000e+03</td>\n",
       "      <td>5000</td>\n",
       "      <td>19:17:20.000</td>\n",
       "      <td>19:17:20.000</td>\n",
       "      <td>19:17:20.000</td>\n",
       "    </tr>\n",
       "    <tr>\n",
       "      <th>...</th>\n",
       "      <td>...</td>\n",
       "      <td>...</td>\n",
       "      <td>...</td>\n",
       "      <td>...</td>\n",
       "      <td>...</td>\n",
       "      <td>...</td>\n",
       "    </tr>\n",
       "    <tr>\n",
       "      <th>257345</th>\n",
       "      <td>257346000</td>\n",
       "      <td>2.573449e+08</td>\n",
       "      <td>257345994</td>\n",
       "      <td>18:46:21.000</td>\n",
       "      <td>18:46:19.850</td>\n",
       "      <td>18:46:20.994</td>\n",
       "    </tr>\n",
       "    <tr>\n",
       "      <th>257346</th>\n",
       "      <td>257347000</td>\n",
       "      <td>2.573459e+08</td>\n",
       "      <td>257346994</td>\n",
       "      <td>18:46:22.000</td>\n",
       "      <td>18:46:20.850</td>\n",
       "      <td>18:46:21.994</td>\n",
       "    </tr>\n",
       "    <tr>\n",
       "      <th>257347</th>\n",
       "      <td>257348000</td>\n",
       "      <td>2.573469e+08</td>\n",
       "      <td>257347994</td>\n",
       "      <td>18:46:23.000</td>\n",
       "      <td>18:46:21.850</td>\n",
       "      <td>18:46:22.994</td>\n",
       "    </tr>\n",
       "    <tr>\n",
       "      <th>257348</th>\n",
       "      <td>257349000</td>\n",
       "      <td>2.573479e+08</td>\n",
       "      <td>257348994</td>\n",
       "      <td>18:46:24.000</td>\n",
       "      <td>18:46:22.850</td>\n",
       "      <td>18:46:23.994</td>\n",
       "    </tr>\n",
       "    <tr>\n",
       "      <th>257349</th>\n",
       "      <td>257350000</td>\n",
       "      <td>2.573489e+08</td>\n",
       "      <td>257349994</td>\n",
       "      <td>18:46:25.000</td>\n",
       "      <td>18:46:23.850</td>\n",
       "      <td>18:46:24.994</td>\n",
       "    </tr>\n",
       "  </tbody>\n",
       "</table>\n",
       "<p>257350 rows × 6 columns</p>\n",
       "</div>"
      ],
      "text/plain": [
       "        GPS Time (ms)  RTC Time (ms)  Synch Time (ms)      GPS Time  \\\n",
       "0                1000   1.000000e+03             1000  19:17:16.000   \n",
       "1                2000   2.000000e+03             2000  19:17:17.000   \n",
       "2                3000   3.000000e+03             3000  19:17:18.000   \n",
       "3                4000   4.000000e+03             4000  19:17:19.000   \n",
       "4                5000   5.000000e+03             5000  19:17:20.000   \n",
       "...               ...            ...              ...           ...   \n",
       "257345      257346000   2.573449e+08        257345994  18:46:21.000   \n",
       "257346      257347000   2.573459e+08        257346994  18:46:22.000   \n",
       "257347      257348000   2.573469e+08        257347994  18:46:23.000   \n",
       "257348      257349000   2.573479e+08        257348994  18:46:24.000   \n",
       "257349      257350000   2.573489e+08        257349994  18:46:25.000   \n",
       "\n",
       "            RTC Time    Synch Time  \n",
       "0       19:17:16.000  19:17:16.000  \n",
       "1       19:17:17.000  19:17:17.000  \n",
       "2       19:17:18.000  19:17:18.000  \n",
       "3       19:17:19.000  19:17:19.000  \n",
       "4       19:17:20.000  19:17:20.000  \n",
       "...              ...           ...  \n",
       "257345  18:46:19.850  18:46:20.994  \n",
       "257346  18:46:20.850  18:46:21.994  \n",
       "257347  18:46:21.850  18:46:22.994  \n",
       "257348  18:46:22.850  18:46:23.994  \n",
       "257349  18:46:23.850  18:46:24.994  \n",
       "\n",
       "[257350 rows x 6 columns]"
      ]
     },
     "metadata": {},
     "output_type": "display_data"
    },
    {
     "name": "stdout",
     "output_type": "stream",
     "text": [
      "Performance of model on training set\n"
     ]
    },
    {
     "data": {
      "text/html": [
       "<div>\n",
       "<style scoped>\n",
       "    .dataframe tbody tr th:only-of-type {\n",
       "        vertical-align: middle;\n",
       "    }\n",
       "\n",
       "    .dataframe tbody tr th {\n",
       "        vertical-align: top;\n",
       "    }\n",
       "\n",
       "    .dataframe thead th {\n",
       "        text-align: right;\n",
       "    }\n",
       "</style>\n",
       "<table border=\"1\" class=\"dataframe\">\n",
       "  <thead>\n",
       "    <tr style=\"text-align: right;\">\n",
       "      <th></th>\n",
       "      <th>R</th>\n",
       "      <th>RMSE</th>\n",
       "      <th>MAE</th>\n",
       "    </tr>\n",
       "    <tr>\n",
       "      <th>Index Title</th>\n",
       "      <th></th>\n",
       "      <th></th>\n",
       "      <th></th>\n",
       "    </tr>\n",
       "  </thead>\n",
       "  <tbody>\n",
       "    <tr>\n",
       "      <th>Training</th>\n",
       "      <td>0.992731</td>\n",
       "      <td>17.349472</td>\n",
       "      <td>14.839930</td>\n",
       "    </tr>\n",
       "    <tr>\n",
       "      <th>Validation</th>\n",
       "      <td>0.992703</td>\n",
       "      <td>17.458123</td>\n",
       "      <td>14.940252</td>\n",
       "    </tr>\n",
       "    <tr>\n",
       "      <th>Test</th>\n",
       "      <td>0.992751</td>\n",
       "      <td>17.367322</td>\n",
       "      <td>14.877556</td>\n",
       "    </tr>\n",
       "  </tbody>\n",
       "</table>\n",
       "</div>"
      ],
      "text/plain": [
       "                    R       RMSE        MAE\n",
       "Index Title                                \n",
       "Training     0.992731  17.349472  14.839930\n",
       "Validation   0.992703  17.458123  14.940252\n",
       "Test         0.992751  17.367322  14.877556"
      ]
     },
     "metadata": {},
     "output_type": "display_data"
    },
    {
     "name": "stdout",
     "output_type": "stream",
     "text": [
      "Synchronised time: Training set Sensor 1\n"
     ]
    },
    {
     "ename": "NameError",
     "evalue": "name 'net2' is not defined",
     "output_type": "error",
     "traceback": [
      "\u001b[1;31m---------------------------------------------------------------------------\u001b[0m",
      "\u001b[1;31mNameError\u001b[0m                                 Traceback (most recent call last)",
      "\u001b[1;32m<ipython-input-101-2de85d91ed97>\u001b[0m in \u001b[0;36m<module>\u001b[1;34m\u001b[0m\n\u001b[0;32m      8\u001b[0m \u001b[0mRegMetrics\u001b[0m\u001b[1;33m(\u001b[0m\u001b[0mx2_train\u001b[0m\u001b[1;33m,\u001b[0m \u001b[0my2_train\u001b[0m\u001b[1;33m,\u001b[0m \u001b[0mx2_val\u001b[0m\u001b[1;33m,\u001b[0m \u001b[0my2_val\u001b[0m\u001b[1;33m,\u001b[0m \u001b[0mx2_test\u001b[0m\u001b[1;33m,\u001b[0m \u001b[0my2_test\u001b[0m\u001b[1;33m,\u001b[0m \u001b[0mnet1\u001b[0m\u001b[1;33m)\u001b[0m\u001b[1;33m\u001b[0m\u001b[1;33m\u001b[0m\u001b[0m\n\u001b[0;32m      9\u001b[0m \u001b[0mprint\u001b[0m\u001b[1;33m(\u001b[0m\u001b[1;34m\"Synchronised time: Training set Sensor 1\"\u001b[0m\u001b[1;33m)\u001b[0m\u001b[1;33m\u001b[0m\u001b[1;33m\u001b[0m\u001b[0m\n\u001b[1;32m---> 10\u001b[1;33m \u001b[0msynch\u001b[0m\u001b[1;33m(\u001b[0m\u001b[0mRTC_millis2\u001b[0m\u001b[1;33m,\u001b[0m \u001b[0mGPS_millis2\u001b[0m\u001b[1;33m,\u001b[0m \u001b[0mnet2\u001b[0m\u001b[1;33m,\u001b[0m \u001b[0mtime2\u001b[0m\u001b[1;33m,\u001b[0m \u001b[0maccOffset2\u001b[0m\u001b[1;33m)\u001b[0m\u001b[1;33m\u001b[0m\u001b[1;33m\u001b[0m\u001b[0m\n\u001b[0m",
      "\u001b[1;31mNameError\u001b[0m: name 'net2' is not defined"
     ]
    }
   ],
   "source": [
    "net1 = MLPRegressor(alpha = 1e-4, solver = 'adam', random_state =1,\n",
    "                  learning_rate_init = 0.1/(10*3)).fit(x1_train, np.reshape(y1_train, len(y1_train)))\n",
    "print(\"Performance of model on training set\")\n",
    "RegMetrics(x1_train, y1_train, x1_val, y1_val, x1_test, y1_test, net1)\n",
    "print(\"Synchronised time: Training set Sensor 1\")\n",
    "synch(RTC_millis1, GPS_millis1, net1, time1, accOffset)\n",
    "print(\"Performance of model on training set\")\n",
    "RegMetrics(x2_train, y2_train, x2_val, y2_val, x2_test, y2_test, net1)\n",
    "print(\"Synchronised time: Training set Sensor 1\")\n",
    "synch(RTC_millis2, GPS_millis2, net1, time2, accOffset2)"
   ]
  },
  {
   "cell_type": "code",
   "execution_count": 102,
   "metadata": {},
   "outputs": [
    {
     "name": "stdout",
     "output_type": "stream",
     "text": [
      "Synchronised time: Training set Sensor 1\n"
     ]
    },
    {
     "data": {
      "text/html": [
       "<div>\n",
       "<style scoped>\n",
       "    .dataframe tbody tr th:only-of-type {\n",
       "        vertical-align: middle;\n",
       "    }\n",
       "\n",
       "    .dataframe tbody tr th {\n",
       "        vertical-align: top;\n",
       "    }\n",
       "\n",
       "    .dataframe thead th {\n",
       "        text-align: right;\n",
       "    }\n",
       "</style>\n",
       "<table border=\"1\" class=\"dataframe\">\n",
       "  <thead>\n",
       "    <tr style=\"text-align: right;\">\n",
       "      <th></th>\n",
       "      <th>R</th>\n",
       "      <th>RMSE</th>\n",
       "      <th>MAE</th>\n",
       "    </tr>\n",
       "  </thead>\n",
       "  <tbody>\n",
       "    <tr>\n",
       "      <th>0</th>\n",
       "      <td>0.99273</td>\n",
       "      <td>17.572317</td>\n",
       "      <td>15.11606</td>\n",
       "    </tr>\n",
       "  </tbody>\n",
       "</table>\n",
       "</div>"
      ],
      "text/plain": [
       "         R       RMSE       MAE\n",
       "0  0.99273  17.572317  15.11606"
      ]
     },
     "metadata": {},
     "output_type": "display_data"
    },
    {
     "data": {
      "text/html": [
       "<div>\n",
       "<style scoped>\n",
       "    .dataframe tbody tr th:only-of-type {\n",
       "        vertical-align: middle;\n",
       "    }\n",
       "\n",
       "    .dataframe tbody tr th {\n",
       "        vertical-align: top;\n",
       "    }\n",
       "\n",
       "    .dataframe thead th {\n",
       "        text-align: right;\n",
       "    }\n",
       "</style>\n",
       "<table border=\"1\" class=\"dataframe\">\n",
       "  <thead>\n",
       "    <tr style=\"text-align: right;\">\n",
       "      <th></th>\n",
       "      <th>GPS Time (ms)</th>\n",
       "      <th>RTC Time (ms)</th>\n",
       "      <th>Synch Time (ms)</th>\n",
       "      <th>GPS Time</th>\n",
       "      <th>RTC Time</th>\n",
       "      <th>Synch Time</th>\n",
       "    </tr>\n",
       "  </thead>\n",
       "  <tbody>\n",
       "    <tr>\n",
       "      <th>0</th>\n",
       "      <td>999</td>\n",
       "      <td>9.999695e+02</td>\n",
       "      <td>1000</td>\n",
       "      <td>10:32:10.000</td>\n",
       "      <td>10:32:10.000</td>\n",
       "      <td>10:32:10.000</td>\n",
       "    </tr>\n",
       "    <tr>\n",
       "      <th>1</th>\n",
       "      <td>1999</td>\n",
       "      <td>1.999969e+03</td>\n",
       "      <td>2000</td>\n",
       "      <td>10:32:11.000</td>\n",
       "      <td>10:32:11.000</td>\n",
       "      <td>10:32:11.000</td>\n",
       "    </tr>\n",
       "    <tr>\n",
       "      <th>2</th>\n",
       "      <td>2999</td>\n",
       "      <td>2.999969e+03</td>\n",
       "      <td>3000</td>\n",
       "      <td>10:32:12.000</td>\n",
       "      <td>10:32:12.000</td>\n",
       "      <td>10:32:12.000</td>\n",
       "    </tr>\n",
       "    <tr>\n",
       "      <th>3</th>\n",
       "      <td>3999</td>\n",
       "      <td>3.999969e+03</td>\n",
       "      <td>4000</td>\n",
       "      <td>10:32:13.000</td>\n",
       "      <td>10:32:13.000</td>\n",
       "      <td>10:32:13.000</td>\n",
       "    </tr>\n",
       "    <tr>\n",
       "      <th>4</th>\n",
       "      <td>4999</td>\n",
       "      <td>4.999969e+03</td>\n",
       "      <td>5000</td>\n",
       "      <td>10:32:14.000</td>\n",
       "      <td>10:32:14.000</td>\n",
       "      <td>10:32:14.000</td>\n",
       "    </tr>\n",
       "    <tr>\n",
       "      <th>...</th>\n",
       "      <td>...</td>\n",
       "      <td>...</td>\n",
       "      <td>...</td>\n",
       "      <td>...</td>\n",
       "      <td>...</td>\n",
       "      <td>...</td>\n",
       "    </tr>\n",
       "    <tr>\n",
       "      <th>165831</th>\n",
       "      <td>165833999</td>\n",
       "      <td>1.658333e+08</td>\n",
       "      <td>165834028</td>\n",
       "      <td>8:36:03.000</td>\n",
       "      <td>8:36:02.291</td>\n",
       "      <td>8:36:03.028</td>\n",
       "    </tr>\n",
       "    <tr>\n",
       "      <th>165832</th>\n",
       "      <td>165834999</td>\n",
       "      <td>1.658343e+08</td>\n",
       "      <td>165835028</td>\n",
       "      <td>8:36:04.000</td>\n",
       "      <td>8:36:03.291</td>\n",
       "      <td>8:36:04.028</td>\n",
       "    </tr>\n",
       "    <tr>\n",
       "      <th>165833</th>\n",
       "      <td>165835999</td>\n",
       "      <td>1.658353e+08</td>\n",
       "      <td>165836028</td>\n",
       "      <td>8:36:05.000</td>\n",
       "      <td>8:36:04.291</td>\n",
       "      <td>8:36:05.028</td>\n",
       "    </tr>\n",
       "    <tr>\n",
       "      <th>165834</th>\n",
       "      <td>165836999</td>\n",
       "      <td>1.658363e+08</td>\n",
       "      <td>165837028</td>\n",
       "      <td>8:36:06.000</td>\n",
       "      <td>8:36:05.291</td>\n",
       "      <td>8:36:06.028</td>\n",
       "    </tr>\n",
       "    <tr>\n",
       "      <th>165835</th>\n",
       "      <td>165837999</td>\n",
       "      <td>1.658373e+08</td>\n",
       "      <td>165838028</td>\n",
       "      <td>8:36:07.000</td>\n",
       "      <td>8:36:06.291</td>\n",
       "      <td>8:36:07.028</td>\n",
       "    </tr>\n",
       "  </tbody>\n",
       "</table>\n",
       "<p>165836 rows × 6 columns</p>\n",
       "</div>"
      ],
      "text/plain": [
       "        GPS Time (ms)  RTC Time (ms)  Synch Time (ms)      GPS Time  \\\n",
       "0                 999   9.999695e+02             1000  10:32:10.000   \n",
       "1                1999   1.999969e+03             2000  10:32:11.000   \n",
       "2                2999   2.999969e+03             3000  10:32:12.000   \n",
       "3                3999   3.999969e+03             4000  10:32:13.000   \n",
       "4                4999   4.999969e+03             5000  10:32:14.000   \n",
       "...               ...            ...              ...           ...   \n",
       "165831      165833999   1.658333e+08        165834028   8:36:03.000   \n",
       "165832      165834999   1.658343e+08        165835028   8:36:04.000   \n",
       "165833      165835999   1.658353e+08        165836028   8:36:05.000   \n",
       "165834      165836999   1.658363e+08        165837028   8:36:06.000   \n",
       "165835      165837999   1.658373e+08        165838028   8:36:07.000   \n",
       "\n",
       "            RTC Time    Synch Time  \n",
       "0       10:32:10.000  10:32:10.000  \n",
       "1       10:32:11.000  10:32:11.000  \n",
       "2       10:32:12.000  10:32:12.000  \n",
       "3       10:32:13.000  10:32:13.000  \n",
       "4       10:32:14.000  10:32:14.000  \n",
       "...              ...           ...  \n",
       "165831   8:36:02.291   8:36:03.028  \n",
       "165832   8:36:03.291   8:36:04.028  \n",
       "165833   8:36:04.291   8:36:05.028  \n",
       "165834   8:36:05.291   8:36:06.028  \n",
       "165835   8:36:06.291   8:36:07.028  \n",
       "\n",
       "[165836 rows x 6 columns]"
      ]
     },
     "metadata": {},
     "output_type": "display_data"
    }
   ],
   "source": [
    "print(\"Synchronised time: Training set Sensor 1\")\n",
    "synch(RTC_millis2, GPS_millis2, net1, time2, accOffset2)"
   ]
  },
  {
   "cell_type": "code",
   "execution_count": 36,
   "metadata": {},
   "outputs": [],
   "source": [
    "error = np.zeros(20)\n",
    "for i in range(1, 20):\n",
    "    net1 = MLPRegressor(alpha = 1e-4, solver = 'adam', random_state =1,\n",
    "                  learning_rate_init = 0.1/(10*i)).fit(x1_train, np.reshape(y1_train, len(y1_train)))\n",
    "    predict = net1.predict(x1_val)\n",
    "    error[i - 1] = RMSE(predict, y1_val)"
   ]
  },
  {
   "cell_type": "code",
   "execution_count": 40,
   "metadata": {},
   "outputs": [
    {
     "data": {
      "image/png": "[encoded data removed]",
      "text/plain": [
       "<Figure size 432x288 with 1 Axes>"
      ]
     },
     "metadata": {
      "needs_background": "light"
     },
     "output_type": "display_data"
    },
    {
     "name": "stdout",
     "output_type": "stream",
     "text": [
      "[5.91547135e+02 1.52126606e+01 1.09939603e+01 1.73286651e+01\n",
      " 1.12056775e+01 3.88789794e+01 5.27168843e+01 2.14303150e+01\n",
      " 7.02336770e+02 1.44292756e+03 1.58526371e+01 1.66894526e+01\n",
      " 1.76667036e+05 2.59377175e+01 4.20038259e+01 1.35308027e+01\n",
      " 1.12279079e+02 1.10275543e+01 1.95016180e+02 0.00000000e+00]\n"
     ]
    }
   ],
   "source": [
    "t = np.linspace(3, 7, 5)\n",
    "plt.plot(t, error[2:7])\n",
    "plt.title('RMSE of test set at different neural net learning rates')\n",
    "plt.xlabel('Learning rate')\n",
    "plt.ylabel('RMSE')\n",
    "plt.show()\n",
    "print(error)"
   ]
  },
  {
   "cell_type": "code",
   "execution_count": 103,
   "metadata": {},
   "outputs": [
    {
     "data": {
      "image/png": "[encoded data removed]",
      "text/plain": [
       "<Figure size 432x288 with 1 Axes>"
      ]
     },
     "metadata": {
      "needs_background": "light"
     },
     "output_type": "display_data"
    },
    {
     "data": {
      "image/png": "[encoded data removed]",
      "text/plain": [
       "<Figure size 432x288 with 1 Axes>"
      ]
     },
     "metadata": {
      "needs_background": "light"
     },
     "output_type": "display_data"
    }
   ],
   "source": [
    "predict1 = model1.predict(x1_val)\n",
    "resid1 = np.zeros(y1_val.size)\n",
    "for i in range(y1_val.size):\n",
    "    resid1[i] = predict1[i] - y1_val[i]\n",
    "#Residual plots\n",
    "t = np.linspace(0, max(x1_val))\n",
    "z = np.zeros(50)\n",
    "plt.scatter(x1_val, resid1, s = 1)\n",
    "plt.plot(t, z, color = 'orange')\n",
    "plt.title('Residual plot for linear regression model')\n",
    "plt.xlabel('Residuals')\n",
    "plt.ylabel('RTC clock time')\n",
    "plt.show()\n",
    "\n",
    "predict2 = model1.predict(x2_val)\n",
    "resid2 = np.zeros(y2_val.size)\n",
    "for i in range(y2_val.size):\n",
    "    resid2[i] = predict2[i] - y2_val[i]\n",
    "#Residual plots\n",
    "t2 = np.linspace(0, max(x2_val))\n",
    "z2 = np.zeros(50)\n",
    "plt.scatter(x2_val, resid2, s = 1)\n",
    "plt.plot(t2, z2, color = 'orange')\n",
    "plt.title('Residual plot for linear regression model')\n",
    "plt.xlabel('Residuals')\n",
    "plt.ylabel('RTC clock time')\n",
    "plt.show()"
   ]
  },
  {
   "cell_type": "code",
   "execution_count": 105,
   "metadata": {},
   "outputs": [
    {
     "name": "stderr",
     "output_type": "stream",
     "text": [
      "C:\\Users\\suben\\anaconda3\\lib\\site-packages\\sklearn\\linear_model\\_ridge.py:148: LinAlgWarning: Ill-conditioned matrix (rcond=2.33552e-156): result may not be accurate.\n",
      "  overwrite_a=True).T\n"
     ]
    },
    {
     "name": "stdout",
     "output_type": "stream",
     "text": [
      "Performance of model on training set\n"
     ]
    },
    {
     "data": {
      "text/html": [
       "<div>\n",
       "<style scoped>\n",
       "    .dataframe tbody tr th:only-of-type {\n",
       "        vertical-align: middle;\n",
       "    }\n",
       "\n",
       "    .dataframe tbody tr th {\n",
       "        vertical-align: top;\n",
       "    }\n",
       "\n",
       "    .dataframe thead th {\n",
       "        text-align: right;\n",
       "    }\n",
       "</style>\n",
       "<table border=\"1\" class=\"dataframe\">\n",
       "  <thead>\n",
       "    <tr style=\"text-align: right;\">\n",
       "      <th></th>\n",
       "      <th>R</th>\n",
       "      <th>RMSE</th>\n",
       "      <th>MAE</th>\n",
       "    </tr>\n",
       "    <tr>\n",
       "      <th>Index Title</th>\n",
       "      <th></th>\n",
       "      <th></th>\n",
       "      <th></th>\n",
       "    </tr>\n",
       "  </thead>\n",
       "  <tbody>\n",
       "    <tr>\n",
       "      <th>Training</th>\n",
       "      <td>0.999962</td>\n",
       "      <td>2.057119</td>\n",
       "      <td>1.756029</td>\n",
       "    </tr>\n",
       "    <tr>\n",
       "      <th>Validation</th>\n",
       "      <td>0.999962</td>\n",
       "      <td>2.060727</td>\n",
       "      <td>1.759722</td>\n",
       "    </tr>\n",
       "    <tr>\n",
       "      <th>Test</th>\n",
       "      <td>0.999962</td>\n",
       "      <td>2.059392</td>\n",
       "      <td>1.758865</td>\n",
       "    </tr>\n",
       "  </tbody>\n",
       "</table>\n",
       "</div>"
      ],
      "text/plain": [
       "                    R      RMSE       MAE\n",
       "Index Title                              \n",
       "Training     0.999962  2.057119  1.756029\n",
       "Validation   0.999962  2.060727  1.759722\n",
       "Test         0.999962  2.059392  1.758865"
      ]
     },
     "metadata": {},
     "output_type": "display_data"
    },
    {
     "name": "stdout",
     "output_type": "stream",
     "text": [
      "RMSE full set: 2.0577075801372504\n",
      "MAE full set: 1.7566822351158156\n",
      "Performance of model on training set\n"
     ]
    },
    {
     "data": {
      "text/html": [
       "<div>\n",
       "<style scoped>\n",
       "    .dataframe tbody tr th:only-of-type {\n",
       "        vertical-align: middle;\n",
       "    }\n",
       "\n",
       "    .dataframe tbody tr th {\n",
       "        vertical-align: top;\n",
       "    }\n",
       "\n",
       "    .dataframe thead th {\n",
       "        text-align: right;\n",
       "    }\n",
       "</style>\n",
       "<table border=\"1\" class=\"dataframe\">\n",
       "  <thead>\n",
       "    <tr style=\"text-align: right;\">\n",
       "      <th></th>\n",
       "      <th>R</th>\n",
       "      <th>RMSE</th>\n",
       "      <th>MAE</th>\n",
       "    </tr>\n",
       "    <tr>\n",
       "      <th>Index Title</th>\n",
       "      <th></th>\n",
       "      <th></th>\n",
       "      <th></th>\n",
       "    </tr>\n",
       "  </thead>\n",
       "  <tbody>\n",
       "    <tr>\n",
       "      <th>Training</th>\n",
       "      <td>0.989670</td>\n",
       "      <td>20.682187</td>\n",
       "      <td>17.304680</td>\n",
       "    </tr>\n",
       "    <tr>\n",
       "      <th>Validation</th>\n",
       "      <td>0.989632</td>\n",
       "      <td>20.810236</td>\n",
       "      <td>17.418369</td>\n",
       "    </tr>\n",
       "    <tr>\n",
       "      <th>Test</th>\n",
       "      <td>0.989665</td>\n",
       "      <td>20.737754</td>\n",
       "      <td>17.327621</td>\n",
       "    </tr>\n",
       "  </tbody>\n",
       "</table>\n",
       "</div>"
      ],
      "text/plain": [
       "                    R       RMSE        MAE\n",
       "Index Title                                \n",
       "Training     0.989670  20.682187  17.304680\n",
       "Validation   0.989632  20.810236  17.418369\n",
       "Test         0.989665  20.737754  17.327621"
      ]
     },
     "metadata": {},
     "output_type": "display_data"
    },
    {
     "name": "stdout",
     "output_type": "stream",
     "text": [
      "RMSE full set: 20.700587834801343\n",
      "MAE full set: 17.318343267399246\n"
     ]
    }
   ],
   "source": [
    "#Polynomial regression\n",
    "poly = PolynomialFeatures(9)\n",
    "\n",
    "poly_train = poly.fit_transform(x1_train.reshape(-1,1))\n",
    "poly_val = poly.fit_transform(x1_val.reshape(-1,1))\n",
    "poly_test = poly.fit_transform(x1_test.reshape(-1,1))\n",
    "poly_millis = poly.fit_transform(RTC_millis1.reshape(-1,1))\n",
    "\n",
    "poly2_train = poly.fit_transform(x2_train.reshape(-1,1))\n",
    "poly2_val = poly.fit_transform(x2_val.reshape(-1,1))\n",
    "poly2_test = poly.fit_transform(x2_test.reshape(-1,1))\n",
    "poly2_millis = poly.fit_transform(RTC_millis2.reshape(-1,1))\n",
    "\n",
    "model2 = linear_model.Ridge(alpha=.5).fit(poly_train, y1_train)\n",
    "\n",
    "print(\"Performance of model on training set\")\n",
    "RegMetrics(poly_train, y1_train, poly_val, y1_val, poly_test, y1_test, model2)\n",
    "\n",
    "print(\"RMSE full set:\", RMSE(model2.predict(poly_millis), AccOffset1))\n",
    "print(\"MAE full set:\", MAE(model2.predict(poly_millis), AccOffset1))\n",
    "\n",
    "print(\"Performance of model on training set\")\n",
    "RegMetrics(poly2_train, y2_train, poly2_val, y2_val, poly2_test, y2_test, model2)\n",
    "\n",
    "print(\"RMSE full set:\", RMSE(model2.predict(poly2_millis), AccOffset2))\n",
    "print(\"MAE full set:\", MAE(model2.predict(poly2_millis), AccOffset2))"
   ]
  },
  {
   "cell_type": "code",
   "execution_count": 44,
   "metadata": {},
   "outputs": [
    {
     "data": {
      "image/png": "[encoded data removed]",
      "text/plain": [
       "<Figure size 432x288 with 1 Axes>"
      ]
     },
     "metadata": {
      "needs_background": "light"
     },
     "output_type": "display_data"
    }
   ],
   "source": [
    "prediction = model2.predict(poly_millis)\n",
    "prediction2 = model1.predict(RTC_millis1.reshape(-1,1))\n",
    "stuff = np.zeros(GPS_millis1.size)\n",
    "for i in range(0, GPS_millis1.size):\n",
    "    stuff[i] = (GPS_millis1[i] - RTC_millis1[i])\n",
    "t = np.linspace(0, len(GPS_millis1), len(GPS_millis1))\n",
    "plt.plot(t, stuff)\n",
    "plt.plot(t, prediction)\n",
    "plt.plot(t, prediction2)\n",
    "plt.title('Accumulated offset of Teensy internal RTC (ms)')\n",
    "plt.xlabel('Seconds since start-up')\n",
    "plt.ylabel('Accumulated offset (ms)')\n",
    "plt.show()"
   ]
  },
  {
   "cell_type": "code",
   "execution_count": 45,
   "metadata": {},
   "outputs": [
    {
     "name": "stdout",
     "output_type": "stream",
     "text": [
      "Synchronised time: Training set Sensor 1\n"
     ]
    },
    {
     "data": {
      "text/html": [
       "<div>\n",
       "<style scoped>\n",
       "    .dataframe tbody tr th:only-of-type {\n",
       "        vertical-align: middle;\n",
       "    }\n",
       "\n",
       "    .dataframe tbody tr th {\n",
       "        vertical-align: top;\n",
       "    }\n",
       "\n",
       "    .dataframe thead th {\n",
       "        text-align: right;\n",
       "    }\n",
       "</style>\n",
       "<table border=\"1\" class=\"dataframe\">\n",
       "  <thead>\n",
       "    <tr style=\"text-align: right;\">\n",
       "      <th></th>\n",
       "      <th>R</th>\n",
       "      <th>RMSE</th>\n",
       "      <th>MAE</th>\n",
       "    </tr>\n",
       "  </thead>\n",
       "  <tbody>\n",
       "    <tr>\n",
       "      <th>0</th>\n",
       "      <td>0.999962</td>\n",
       "      <td>2.123889</td>\n",
       "      <td>1.767161</td>\n",
       "    </tr>\n",
       "  </tbody>\n",
       "</table>\n",
       "</div>"
      ],
      "text/plain": [
       "          R      RMSE       MAE\n",
       "0  0.999962  2.123889  1.767161"
      ]
     },
     "metadata": {},
     "output_type": "display_data"
    },
    {
     "data": {
      "text/html": [
       "<div>\n",
       "<style scoped>\n",
       "    .dataframe tbody tr th:only-of-type {\n",
       "        vertical-align: middle;\n",
       "    }\n",
       "\n",
       "    .dataframe tbody tr th {\n",
       "        vertical-align: top;\n",
       "    }\n",
       "\n",
       "    .dataframe thead th {\n",
       "        text-align: right;\n",
       "    }\n",
       "</style>\n",
       "<table border=\"1\" class=\"dataframe\">\n",
       "  <thead>\n",
       "    <tr style=\"text-align: right;\">\n",
       "      <th></th>\n",
       "      <th>GPS Time (ms)</th>\n",
       "      <th>RTC Time (ms)</th>\n",
       "      <th>Synch Time (ms)</th>\n",
       "      <th>GPS Time</th>\n",
       "      <th>RTC Time</th>\n",
       "      <th>Synch Time</th>\n",
       "    </tr>\n",
       "  </thead>\n",
       "  <tbody>\n",
       "    <tr>\n",
       "      <th>0</th>\n",
       "      <td>1000</td>\n",
       "      <td>1.000000e+03</td>\n",
       "      <td>1005</td>\n",
       "      <td>19:17:16.000</td>\n",
       "      <td>19:17:16.000</td>\n",
       "      <td>19:17:16.000</td>\n",
       "    </tr>\n",
       "    <tr>\n",
       "      <th>1</th>\n",
       "      <td>2000</td>\n",
       "      <td>2.000000e+03</td>\n",
       "      <td>2005</td>\n",
       "      <td>19:17:17.000</td>\n",
       "      <td>19:17:17.000</td>\n",
       "      <td>19:17:17.000</td>\n",
       "    </tr>\n",
       "    <tr>\n",
       "      <th>2</th>\n",
       "      <td>3000</td>\n",
       "      <td>3.000000e+03</td>\n",
       "      <td>3005</td>\n",
       "      <td>19:17:18.000</td>\n",
       "      <td>19:17:18.000</td>\n",
       "      <td>19:17:18.000</td>\n",
       "    </tr>\n",
       "    <tr>\n",
       "      <th>3</th>\n",
       "      <td>4000</td>\n",
       "      <td>4.000000e+03</td>\n",
       "      <td>4005</td>\n",
       "      <td>19:17:19.000</td>\n",
       "      <td>19:17:19.000</td>\n",
       "      <td>19:17:19.000</td>\n",
       "    </tr>\n",
       "    <tr>\n",
       "      <th>4</th>\n",
       "      <td>5000</td>\n",
       "      <td>5.000000e+03</td>\n",
       "      <td>5005</td>\n",
       "      <td>19:17:20.000</td>\n",
       "      <td>19:17:20.000</td>\n",
       "      <td>19:17:20.000</td>\n",
       "    </tr>\n",
       "    <tr>\n",
       "      <th>...</th>\n",
       "      <td>...</td>\n",
       "      <td>...</td>\n",
       "      <td>...</td>\n",
       "      <td>...</td>\n",
       "      <td>...</td>\n",
       "      <td>...</td>\n",
       "    </tr>\n",
       "    <tr>\n",
       "      <th>257345</th>\n",
       "      <td>257346000</td>\n",
       "      <td>2.573449e+08</td>\n",
       "      <td>257345994</td>\n",
       "      <td>18:46:21.000</td>\n",
       "      <td>18:46:19.850</td>\n",
       "      <td>18:46:20.989</td>\n",
       "    </tr>\n",
       "    <tr>\n",
       "      <th>257346</th>\n",
       "      <td>257347000</td>\n",
       "      <td>2.573459e+08</td>\n",
       "      <td>257346994</td>\n",
       "      <td>18:46:22.000</td>\n",
       "      <td>18:46:20.850</td>\n",
       "      <td>18:46:21.989</td>\n",
       "    </tr>\n",
       "    <tr>\n",
       "      <th>257347</th>\n",
       "      <td>257348000</td>\n",
       "      <td>2.573469e+08</td>\n",
       "      <td>257347994</td>\n",
       "      <td>18:46:23.000</td>\n",
       "      <td>18:46:21.850</td>\n",
       "      <td>18:46:22.989</td>\n",
       "    </tr>\n",
       "    <tr>\n",
       "      <th>257348</th>\n",
       "      <td>257349000</td>\n",
       "      <td>2.573479e+08</td>\n",
       "      <td>257348994</td>\n",
       "      <td>18:46:24.000</td>\n",
       "      <td>18:46:22.850</td>\n",
       "      <td>18:46:23.989</td>\n",
       "    </tr>\n",
       "    <tr>\n",
       "      <th>257349</th>\n",
       "      <td>257350000</td>\n",
       "      <td>2.573489e+08</td>\n",
       "      <td>257349994</td>\n",
       "      <td>18:46:25.000</td>\n",
       "      <td>18:46:23.850</td>\n",
       "      <td>18:46:24.989</td>\n",
       "    </tr>\n",
       "  </tbody>\n",
       "</table>\n",
       "<p>257350 rows × 6 columns</p>\n",
       "</div>"
      ],
      "text/plain": [
       "        GPS Time (ms)  RTC Time (ms)  Synch Time (ms)      GPS Time  \\\n",
       "0                1000   1.000000e+03             1005  19:17:16.000   \n",
       "1                2000   2.000000e+03             2005  19:17:17.000   \n",
       "2                3000   3.000000e+03             3005  19:17:18.000   \n",
       "3                4000   4.000000e+03             4005  19:17:19.000   \n",
       "4                5000   5.000000e+03             5005  19:17:20.000   \n",
       "...               ...            ...              ...           ...   \n",
       "257345      257346000   2.573449e+08        257345994  18:46:21.000   \n",
       "257346      257347000   2.573459e+08        257346994  18:46:22.000   \n",
       "257347      257348000   2.573469e+08        257347994  18:46:23.000   \n",
       "257348      257349000   2.573479e+08        257348994  18:46:24.000   \n",
       "257349      257350000   2.573489e+08        257349994  18:46:25.000   \n",
       "\n",
       "            RTC Time    Synch Time  \n",
       "0       19:17:16.000  19:17:16.000  \n",
       "1       19:17:17.000  19:17:17.000  \n",
       "2       19:17:18.000  19:17:18.000  \n",
       "3       19:17:19.000  19:17:19.000  \n",
       "4       19:17:20.000  19:17:20.000  \n",
       "...              ...           ...  \n",
       "257345  18:46:19.850  18:46:20.989  \n",
       "257346  18:46:20.850  18:46:21.989  \n",
       "257347  18:46:21.850  18:46:22.989  \n",
       "257348  18:46:22.850  18:46:23.989  \n",
       "257349  18:46:23.850  18:46:24.989  \n",
       "\n",
       "[257350 rows x 6 columns]"
      ]
     },
     "metadata": {},
     "output_type": "display_data"
    }
   ],
   "source": [
    "print(\"Synchronised time: Training set Sensor 1\")\n",
    "millis_predict = model2.predict(poly_millis)\n",
    "#Convert AccOffset prediction to synchronised time by adding the AccOffset to RTC time in milliseconds\n",
    "for i in range (0, millis_predict.size):\n",
    "    millis_predict[i] = RTC_millis1[i] + millis_predict[i]\n",
    "millis_predict = (np.reshape(millis_predict, len(millis_predict))).astype(int)\n",
    "r =  model2.score(poly_millis, AccOffset1.reshape(-1, 1))\n",
    "rmse =  RMSE(millis_predict, GPS_millis1)\n",
    "mae = MAE(millis_predict, GPS_millis1)\n",
    "    \n",
    "d = {'R': [r], 'RMSE' : [rmse], 'MAE' :[mae]}\n",
    "d = pd.DataFrame(d)\n",
    "display(d)\n",
    "df = pd.DataFrame({'GPS Time (ms)': GPS_millis1, 'RTC Time (ms)': RTC_millis1, \n",
    "                     'Synch Time (ms)' : millis_predict, 'GPS Time': millisToTime(GPS_millis1, time1),\n",
    "                        'RTC Time':millisToTime(RTC_millis1, time1), 'Synch Time' : millisToTime(millis_predict, time1)})\n",
    "\n",
    "display(df)"
   ]
  },
  {
   "cell_type": "code",
   "execution_count": 46,
   "metadata": {},
   "outputs": [
    {
     "data": {
      "image/png": "[encoded data removed]",
      "text/plain": [
       "<Figure size 432x288 with 1 Axes>"
      ]
     },
     "metadata": {
      "needs_background": "light"
     },
     "output_type": "display_data"
    }
   ],
   "source": [
    "predict2 = model2.predict(poly_val)\n",
    "resid2 = np.zeros(y1_val.size)\n",
    "for i in range(y1_val.size):\n",
    "    resid2[i] = predict2[i] - y1_val[i]\n",
    "#Residual plots\n",
    "t = np.linspace(0, max(x1_val))\n",
    "z = np.zeros(50)\n",
    "plt.scatter(x1_val, resid2, s = 1)\n",
    "plt.plot(t, z, color = 'orange')\n",
    "plt.title('Residual plot for linear regression model')\n",
    "plt.xlabel('Residuals')\n",
    "plt.ylabel('RTC clock time')\n",
    "plt.show()"
   ]
  },
  {
   "cell_type": "code",
   "execution_count": 107,
   "metadata": {},
   "outputs": [
    {
     "name": "stdout",
     "output_type": "stream",
     "text": [
      "Train on 205880 samples\n",
      "Epoch 1/8\n",
      "205880/205880 [==============================] - 8s 39us/sample - loss: 260.0124\n",
      "Epoch 2/8\n",
      "205880/205880 [==============================] - 8s 37us/sample - loss: 8.9137\n",
      "Epoch 3/8\n",
      "205880/205880 [==============================] - 7s 35us/sample - loss: 8.9133\n",
      "Epoch 4/8\n",
      "205880/205880 [==============================] - 7s 36us/sample - loss: 8.9138\n",
      "Epoch 5/8\n",
      "205880/205880 [==============================] - 8s 38us/sample - loss: 8.9133\n",
      "Epoch 6/8\n",
      "205880/205880 [==============================] - 8s 37us/sample - loss: 8.9114\n",
      "Epoch 7/8\n",
      "205880/205880 [==============================] - 7s 36us/sample - loss: 8.9132\n",
      "Epoch 8/8\n",
      "205880/205880 [==============================] - 7s 35us/sample - loss: 8.9128\n"
     ]
    }
   ],
   "source": [
    "#TensorFlow linear regression training and validation \n",
    "normalizer1 = preprocessing.Normalization()\n",
    "normalizer1.adapt(x1_train)\n",
    "\n",
    "model3 = tf.keras.Sequential([\n",
    "    normalizer1,\n",
    "    layers.Dense(units=1)\n",
    "])\n",
    "\n",
    "model3.compile(\n",
    "    optimizer=tf.optimizers.Adam(learning_rate=0.1),\n",
    "    loss='mean_absolute_error')\n",
    "\n",
    "history1 = model3.fit(\n",
    "    np.reshape(x1_train, len(x1_train)).astype(float), np.reshape(y1_train, len(y1_train)).astype(float),\n",
    "    epochs = 8,\n",
    "    verbose = 1\n",
    "    )"
   ]
  },
  {
   "cell_type": "code",
   "execution_count": 126,
   "metadata": {},
   "outputs": [
    {
     "name": "stdout",
     "output_type": "stream",
     "text": [
      "Train on 205880 samples\n",
      "205880/205880 [==============================] - 6s 30us/sample - loss: 8.91284s -  - E\n",
      "Train on 205880 samples\n",
      "Epoch 1/2\n",
      "205880/205880 [==============================] - 6s 29us/sample - loss: 8.91390s - loss: 8.915\n",
      "Epoch 2/2\n",
      "205880/205880 [==============================] - 6s 31us/sample - loss: 8.9135\n",
      "Train on 205880 samples\n",
      "Epoch 1/3\n",
      "205880/205880 [==============================] - 6s 29us/sample - loss: 8.9122\n",
      "Epoch 2/3\n",
      "205880/205880 [==============================] - 6s 29us/sample - loss: 8.91240\n",
      "Epoch 3/3\n",
      "205880/205880 [==============================] - 6s 29us/sample - loss: 8.9130\n",
      "Train on 205880 samples\n",
      "Epoch 1/4\n",
      "205880/205880 [==============================] - 6s 29us/sample - loss: 8.9132\n",
      "Epoch 2/4\n",
      "205880/205880 [==============================] - 6s 30us/sample - loss: 8.9131- ETA: 0s - loss: 8\n",
      "Epoch 3/4\n",
      "205880/205880 [==============================] - 6s 31us/sample - loss: 8.9128\n",
      "Epoch 4/4\n",
      "205880/205880 [==============================] - 6s 31us/sample - loss: 8.9130A: 3s - loss: 8\n",
      "Train on 205880 samples\n",
      "Epoch 1/5\n",
      "205880/205880 [==============================] - 6s 31us/sample - loss: 8.9138\n",
      "Epoch 2/5\n",
      "205880/205880 [==============================] - 7s 32us/sample - loss: 8.9138\n",
      "Epoch 3/5\n",
      "205880/205880 [==============================] - 7s 33us/sample - loss: 8.9144\n",
      "Epoch 4/5\n",
      "205880/205880 [==============================] - 7s 32us/sample - loss: 8.9122\n",
      "Epoch 5/5\n",
      "205880/205880 [==============================] - 7s 32us/sample - loss: 8.9146\n",
      "Train on 205880 samples\n",
      "Epoch 1/6\n",
      "205880/205880 [==============================] - 7s 32us/sample - loss: 8.91350s\n",
      "Epoch 2/6\n",
      "205880/205880 [==============================] - 7s 33us/sample - loss: 8.9140\n",
      "Epoch 3/6\n",
      "205880/205880 [==============================] - 6s 31us/sample - loss: 8.9133\n",
      "Epoch 4/6\n",
      "205880/205880 [==============================] - 7s 33us/sample - loss: 8.9151\n",
      "Epoch 5/6\n",
      "205880/205880 [==============================] - 6s 31us/sample - loss: 8.9126 - ETA: 1s - - ETA: 0s - l\n",
      "Epoch 6/6\n",
      "205880/205880 [==============================] - 7s 33us/sample - loss: 8.91341s - loss: 8.\n",
      "Train on 205880 samples\n",
      "Epoch 1/7\n",
      "205880/205880 [==============================] - 6s 32us/sample - loss: 8.9135\n",
      "Epoch 2/7\n",
      "205880/205880 [==============================] - 6s 31us/sample - loss: 8.9143\n",
      "Epoch 3/7\n",
      "205880/205880 [==============================] - 6s 31us/sample - loss: 8.9138\n",
      "Epoch 4/7\n",
      "205880/205880 [==============================] - 7s 33us/sample - loss: 8.9138\n",
      "Epoch 5/7\n",
      "205880/205880 [==============================] - 7s 34us/sample - loss: 8.9125\n",
      "Epoch 6/7\n",
      "205880/205880 [==============================] - 6s 32us/sample - loss: 8.9127\n",
      "Epoch 7/7\n",
      "205880/205880 [==============================] - 7s 32us/sample - loss: 8.9135\n",
      "Train on 205880 samples\n",
      "Epoch 1/8\n",
      "205880/205880 [==============================] - 6s 31us/sample - loss: 8.91342s - loss: - ETA: 0s  - ETA: 0s - loss: 8.91\n",
      "Epoch 2/8\n",
      "205880/205880 [==============================] - 7s 32us/sample - loss: 8.9134\n",
      "Epoch 3/8\n",
      "205880/205880 [==============================] - 7s 32us/sample - loss: 8.91481s - loss: 8. - ETA: \n",
      "Epoch 4/8\n",
      "205880/205880 [==============================] - 7s 32us/sample - loss: 8.9133\n",
      "Epoch 5/8\n",
      "205880/205880 [==============================] - 7s 32us/sample - loss: 8.9127\n",
      "Epoch 6/8\n",
      "205880/205880 [==============================] - 7s 33us/sample - loss: 8.9121\n",
      "Epoch 7/8\n",
      "205880/205880 [==============================] - 7s 34us/sample - loss: 8.9127\n",
      "Epoch 8/8\n",
      "205880/205880 [==============================] - 7s 32us/sample - loss: 8.9112\n"
     ]
    },
    {
     "data": {
      "image/png": "[encoded data removed]",
      "text/plain": [
       "<Figure size 432x288 with 1 Axes>"
      ]
     },
     "metadata": {
      "needs_background": "light"
     },
     "output_type": "display_data"
    }
   ],
   "source": [
    "def plot_loss(history):\n",
    "  plt.plot(history1.history['loss'], label='loss')\n",
    "  plt.xlabel('Epoch')\n",
    "  plt.ylabel('Error')\n",
    "  plt.legend()\n",
    "  plt.grid(True)\n",
    "plot_loss(history1)\n",
    "\n",
    "error = np.zeros(8)\n",
    "for i in range(1, 9):\n",
    "    history1 = model3.fit( \n",
    "    np.reshape(x1_train, len(x1_train)).astype(float), np.reshape(y1_train, len(y1_train)).astype(float),\n",
    "    epochs = i,\n",
    "    verbose = 1\n",
    "    )\n",
    "    predict = model3.predict(x1_val)\n",
    "    error[i - 1] = RMSE(predict, y1_val)\n",
    "    "
   ]
  },
  {
   "cell_type": "code",
   "execution_count": 133,
   "metadata": {},
   "outputs": [
    {
     "data": {
      "image/png": "[encoded data removed]",
      "text/plain": [
       "<Figure size 432x288 with 1 Axes>"
      ]
     },
     "metadata": {
      "needs_background": "light"
     },
     "output_type": "display_data"
    },
    {
     "name": "stdout",
     "output_type": "stream",
     "text": [
      "[10.86959562 10.62528795 10.62977836 10.54094196 10.46027652 10.6713505\n",
      " 10.64434514 10.57220628]\n"
     ]
    }
   ],
   "source": [
    "t = np.linspace(1, 8, 8)\n",
    "plt.plot(t, error)\n",
    "plt.title('RMSE of validation set at different number of iterations')\n",
    "plt.xlabel('Iteration')\n",
    "plt.ylabel('RMSE')\n",
    "plt.show()\n",
    "print(error)"
   ]
  },
  {
   "cell_type": "code",
   "execution_count": 242,
   "metadata": {},
   "outputs": [
    {
     "data": {
      "image/png": "[encoded data removed]",
      "text/plain": [
       "<Figure size 432x288 with 1 Axes>"
      ]
     },
     "metadata": {
      "needs_background": "light"
     },
     "output_type": "display_data"
    },
    {
     "data": {
      "image/png": "[encoded data removed]",
      "text/plain": [
       "<Figure size 432x288 with 1 Axes>"
      ]
     },
     "metadata": {
      "needs_background": "light"
     },
     "output_type": "display_data"
    }
   ],
   "source": [
    "#Predicted vs actual, linear regression, training data\n",
    "prediction = model3.predict(RTC_millis1)\n",
    "stuff1 = np.zeros(GPS_millis1.size)\n",
    "for i in range(0, GPS_millis1.size):\n",
    "    stuff1[i] = (GPS_millis1[i] - RTC_millis1[i])\n",
    "t = np.linspace(0, len(GPS_millis1), len(GPS_millis1))\n",
    "plt.plot(t, stuff1, label = 'Actual')\n",
    "plt.plot(t, prediction, label = 'Predicted')\n",
    "plt.title('Accumulated offset of Teensy internal RTC (ms)')\n",
    "plt.xlabel('Seconds since start-up')\n",
    "plt.ylabel('Accumulated offset (ms)')\n",
    "plt.legend()\n",
    "plt.show()\n",
    "\n",
    "#Predicted vs actual, linear regresssion, new data \n",
    "pred = model3.predict(RTC_millis2)\n",
    "st = np.zeros(GPS_millis2.size)\n",
    "for i in range(0, GPS_millis2.size):\n",
    "    st[i] = (GPS_millis2[i] - RTC_millis2[i])\n",
    "t = np.linspace(0, len(GPS_millis2), len(GPS_millis2))\n",
    "plt.plot(t, st, label = 'Actual')\n",
    "plt.plot(t, pred, label = 'Predicted')\n",
    "plt.title('Accumulated offset of Teensy internal RTC (ms)')\n",
    "plt.xlabel('Seconds since start-up')\n",
    "plt.ylabel('Accumulated offset (ms)')\n",
    "plt.legend()\n",
    "plt.show()"
   ]
  },
  {
   "cell_type": "code",
   "execution_count": 129,
   "metadata": {},
   "outputs": [
    {
     "name": "stdout",
     "output_type": "stream",
     "text": [
      "Train on 205880 samples\n",
      "Epoch 1/5\n",
      "205880/205880 [==============================] - 6s 29us/sample - loss: 8.91440s - loss:\n",
      "Epoch 2/5\n",
      "205880/205880 [==============================] - 6s 29us/sample - loss: 8.9142\n",
      "Epoch 3/5\n",
      "205880/205880 [==============================] - 6s 31us/sample - loss: 8.9130\n",
      "Epoch 4/5\n",
      "205880/205880 [==============================] - 6s 31us/sample - loss: 8.91380s - \n",
      "Epoch 5/5\n",
      "205880/205880 [==============================] - 6s 29us/sample - loss: 8.9133E - ETA: 0s - loss: 8.91\n"
     ]
    }
   ],
   "source": [
    "history1 = model3.fit(\n",
    "    np.reshape(x1_train, len(x1_train)).astype(float), np.reshape(y1_train, len(y1_train)).astype(float),\n",
    "    epochs = 5,\n",
    "    verbose = 1\n",
    "    )"
   ]
  },
  {
   "cell_type": "code",
   "execution_count": 247,
   "metadata": {},
   "outputs": [
    {
     "name": "stdout",
     "output_type": "stream",
     "text": [
      "8.917765671733932\n",
      "10.499193629617805\n",
      "8.936939639870996\n",
      "10.500458082774397\n",
      "8.914290380394526\n",
      "10.499414559714564\n",
      "16.298390910583993\n",
      "18.598769872120126\n"
     ]
    },
    {
     "data": {
      "text/plain": [
       "0.9916576615162691"
      ]
     },
     "execution_count": 247,
     "metadata": {},
     "output_type": "execute_result"
    }
   ],
   "source": [
    "#Metrics for linear regression \n",
    "predict = model3.predict(np.reshape(x1_train, len(x1_train)).astype(float))\n",
    "predict = np.reshape((predict),len(predict))\n",
    "print(MAE(predict, y1_train))\n",
    "print(RMSE(predict, y1_train))\n",
    "\n",
    "predict = model3.predict(np.reshape(x1_val, len(x1_val)).astype(float))\n",
    "predict = np.reshape((predict),len(predict))\n",
    "print(MAE(predict, y1_val))\n",
    "print(RMSE(predict, y1_val))\n",
    "\n",
    "predict = model3.predict(np.reshape(x1_test, len(x1_test)).astype(float))\n",
    "predict = np.reshape((predict),len(predict))\n",
    "print(MAE(predict, y1_test))\n",
    "print(RMSE(predict, y1_test))\n",
    "\n",
    "predict = model3.predict(np.reshape(RTC_millis2, len(RTC_millis2)).astype(float))\n",
    "predict = np.reshape((predict),len(predict))\n",
    "print(MAE(predict, accOffset2))\n",
    "print(RMSE(predict, accOffset2))\n",
    "r2_score(accOffset2, predict)\n"
   ]
  },
  {
   "cell_type": "code",
   "execution_count": 356,
   "metadata": {},
   "outputs": [],
   "source": [
    "# Function: Convert some hex value into an array for C programming\n",
    "def hex_to_c_array(hex_data, var_name):\n",
    "\n",
    "  c_str = ''\n",
    "\n",
    "  # Create header guard\n",
    "  c_str += '#ifndef ' + var_name.upper() + '_H\\n'\n",
    "  c_str += '#define ' + var_name.upper() + '_H\\n\\n'\n",
    "\n",
    "  # Add array length at top of file\n",
    "  c_str += '\\nunsigned int ' + var_name + '_len = ' + str(len(hex_data)) + ';\\n'\n",
    "\n",
    "  # Declare C variable\n",
    "  c_str += 'unsigned char ' + var_name + '[] = {'\n",
    "  hex_array = []\n",
    "  for i, val in enumerate(hex_data) :\n",
    "\n",
    "    # Construct string from hex\n",
    "    hex_str = format(val, '#04x')\n",
    "\n",
    "    # Add formatting so each line stays within 80 characters\n",
    "    if (i + 1) < len(hex_data):\n",
    "      hex_str += ','\n",
    "    if (i + 1) % 12 == 0:\n",
    "      hex_str += '\\n '\n",
    "    hex_array.append(hex_str)\n",
    "\n",
    "  # Add closing brace\n",
    "  c_str += '\\n ' + format(' '.join(hex_array)) + '\\n};\\n\\n'\n",
    "\n",
    "  # Close out header guard\n",
    "  c_str += '#endif //' + var_name.upper() + '_H'\n",
    "\n",
    "  return c_str"
   ]
  },
  {
   "cell_type": "code",
   "execution_count": null,
   "metadata": {},
   "outputs": [],
   "source": [
    "#Convert Keras model to a tflite model \n",
    "converter1 = tf.lite.TFLiteConverter.from_keras_model(model3)\n",
    "converter1.optimizations = [tf.lite.Optimize.OPTIMIZE_FOR_SIZE]\n",
    "tflite_model1 = converter1.convert()\n",
    "open('GPT2Model' + '.tflite', 'wb').write(tflite_model1)\n",
    "\n",
    "# Write TFLite model to a C source (or header) file\n",
    "with open('GPT2Model' + '.h', 'w') as file:\n",
    "  file.write(hex_to_c_array(tflite_model1, 'GPT2Model'))"
   ]
  },
  {
   "cell_type": "code",
   "execution_count": 181,
   "metadata": {},
   "outputs": [],
   "source": [
    "#Tensor flow neural network training and validation\n",
    "def build_and_compile_model(norm,i):\n",
    "  model = keras.Sequential([\n",
    "      norm,\n",
    "      layers.Dense(40, activation='relu'),\n",
    "      layers.Dense(40, activation='relu'),\n",
    "      layers.Dense(40, activation='relu'),\n",
    "      layers.Dense(40, activation='relu'),\n",
    "      layers.Dense(1)\n",
    "  ])\n",
    "\n",
    "  model.compile(loss='mean_absolute_error',\n",
    "                optimizer=tf.keras.optimizers.Adam(0.1/(10**i)))\n",
    "  return model\n",
    "\n",
    "#net2 = build_and_compile_model(normalizer1)\n",
    "\n",
    "#history2 = net2.fit(\n",
    "#    np.reshape(x1_train, len(x1_train)).astype(float), np.reshape(y1_train, len(y1_train)).astype(float),\n",
    "#    verbose=1, epochs=8)"
   ]
  },
  {
   "cell_type": "code",
   "execution_count": 185,
   "metadata": {},
   "outputs": [
    {
     "name": "stdout",
     "output_type": "stream",
     "text": [
      "Train on 205880 samples\n",
      "205880/205880 [==============================] - 8s 39us/sample - loss: 1.3981\n",
      "Train on 205880 samples\n",
      "Epoch 1/2\n",
      "205880/205880 [==============================] - 9s 42us/sample - loss: 1.3394\n",
      "Epoch 2/2\n",
      "205880/205880 [==============================] - 9s 43us/sample - loss: 1.3179\n",
      "Train on 205880 samples\n",
      "Epoch 1/3\n",
      "205880/205880 [==============================] - 8s 37us/sample - loss: 1.3068\n",
      "Epoch 2/3\n",
      "205880/205880 [==============================] - 9s 42us/sample - loss: 1.27968s - - ETA: 3s - l - ETA: 3s - loss: 1.29 - ETA: 2s - lo - ETA: 1s - lo - ETA: 0s - loss: 1.276 - ETA: 0s - loss - ETA: 0s - loss\n",
      "Epoch 3/3\n",
      "205880/205880 [==============================] - 9s 43us/sample - loss: 1.26137s - los - ETA  - ETA: 2s - - ET - ETA:  - ETA: 0s - los\n",
      "Train on 205880 samples\n",
      "Epoch 1/4\n",
      "205880/205880 [==============================] - 9s 42us/sample - loss: 1.2509- ETA: 1s - - ETA: 0s -  - ETA: 0s - loss: \n",
      "Epoch 2/4\n",
      "205880/205880 [==============================] - 9s 44us/sample - loss: 1.2462: 3s - loss: - ETA: 3s - - ETA: 2s - loss: - ETA: 2s - los - E - ETA: 0s - l\n",
      "Epoch 3/4\n",
      "205880/205880 [==============================] - 9s 43us/sample - loss: 1.28338s -  - ETA: 6s - los - ETA: 6s - loss - ETA: 5s - loss: 1. - ETA: 5 - ETA: 4s -  - ETA: 4s - loss: 1.26 - ETA: 4s  - ETA: 3s - loss: 1.277 - ETA\n",
      "Epoch 4/4\n",
      "205880/205880 [==============================] - 9s 43us/sample - loss: 1.24076s - ETA: 2s - l - ETA: 0s - \n",
      "Train on 205880 samples\n",
      "Epoch 1/5\n",
      "205880/205880 [==============================] - 9s 42us/sample - loss: 1.22968s - - ETA: 6s - loss: 1.2 - ETA: 6s - - ETA: 5s - loss: 1.23 - ETA: 5s - los - ETA: 3s -  - E - ETA: 1s - l - ETA: 1s - ETA: 0s - los - ETA: 0s - loss: 1.\n",
      "Epoch 2/5\n",
      "205880/205880 [==============================] - 9s 44us/sample - loss: 1.23718s - loss - ETA: 7 - ETA: 7s - l - ETA: 6s - loss: 1. - ETA - ETA: 5s - ETA: 4s -   - ETA: 0s \n",
      "Epoch 3/5\n",
      "205880/205880 [==============================] - 9s 43us/sample - loss: 1.21570s - loss: 1.2\n",
      "Epoch 4/5\n",
      "205880/205880 [==============================] - 9s 41us/sample - loss: 1.22509 - ETA: 6s - loss: 1 - ETA: 5s -  - ETA: 5s -  - ETA: 3s - loss:  - ETA: 3s - loss - ETA: 2s - - ETA\n",
      "Epoch 5/5\n",
      "205880/205880 [==============================] - 9s 42us/sample - loss: 1.2077 ETA: 3s - loss: 1.2 - ETA:  - ETA: - ETA: 1 - ETA: 0s - loss: \n",
      "Train on 205880 samples\n",
      "Epoch 1/6\n",
      "205880/205880 [==============================] - 9s 43us/sample - loss: 1.23341s - lo - ETA: 0s - loss: 1. - ETA: 0s - lo\n",
      "Epoch 2/6\n",
      "205880/205880 [==============================] - 9s 45us/sample - loss: 1.20791s - - ETA: 0s - loss: \n",
      "Epoch 3/6\n",
      "205880/205880 [==============================] - 9s 42us/sample - loss: 1.2393 - ETA: 2s - ETA: 1s - loss: 1. - ETA: - ETA: 0s - loss: 1. - ETA: 0s - \n",
      "Epoch 4/6\n",
      "205880/205880 [==============================] - 9s 42us/sample - loss: 1.25902s - loss: 1.2 - ETA: 1s - loss: 1.27 - ETA: 1s - - ETA: 1s - loss: 1.27 - ETA: 1s - ETA: 0s - loss:\n",
      "Epoch 5/6\n",
      "205880/205880 [==============================] - 9s 42us/sample - loss: 1.23216s - - ETA: 2s - loss: 1.232 - ETA: 2s - loss: - ETA: 1s - - ETA: 1 - ETA: 0s - loss: 1.238 - ETA: 0s - loss\n",
      "Epoch 6/6\n",
      "205880/205880 [==============================] - 9s 42us/sample - loss: 1.21532s - loss: 1. - ETA: - ETA: 0 - ETA: 0s - loss: 1.2\n",
      "Train on 205880 samples\n",
      "Epoch 1/7\n",
      "205880/205880 [==============================] - 9s 41us/sample - loss: 1.23440s - loss:\n",
      "Epoch 2/7\n",
      "205880/205880 [==============================] - 8s 39us/sample - loss: 1.22782s -  - ETA: 0s - loss: 1\n",
      "Epoch 3/7\n",
      "205880/205880 [==============================] - 8s 40us/sample - loss: 1.19752s - los - ETA: 2 - ETA: 1s - l - ETA:  - ETA: 0s - loss: 1.1\n",
      "Epoch 4/7\n",
      "205880/205880 [==============================] - 9s 42us/sample - loss: 1.20830s - loss: 1\n",
      "Epoch 5/7\n",
      "205880/205880 [==============================] - 9s 41us/sample - loss: 1.2078\n",
      "Epoch 6/7\n",
      "205880/205880 [==============================] - 9s 42us/sample - loss: 1.20770s \n",
      "Epoch 7/7\n",
      "205880/205880 [==============================] - 8s 40us/sample - loss: 1.20094s - loss: - ETA: 3s - loss - ETA: 3s - loss: 1.20 - ETA: - \n",
      "Train on 205880 samples\n",
      "Epoch 1/8\n",
      "205880/205880 [==============================] - 8s 38us/sample - loss: 1.20826s - loss: 1.15 - ETA: 6s - loss: 1.159 - ETA: 5s - lo - ETA: 0s - loss:\n",
      "Epoch 2/8\n",
      "205880/205880 [==============================] - 8s 38us/sample - loss: 1.21636s -   - ETA: 0s  - ETA: 0s - loss: 1\n",
      "Epoch 3/8\n",
      "205880/205880 [==============================] - 8s 39us/sample - loss: 1.22972s -  - ETA: 1s - loss: 1.\n",
      "Epoch 4/8\n",
      "205880/205880 [==============================] - 9s 42us/sample - loss: 1.20213s - loss: 1. - ETA: 2s - loss: 1 - ETA: 2s - loss: - ETA: 2s - loss: 1 - ETA: 2s - los - - ETA: 0s - loss\n",
      "Epoch 5/8\n",
      "205880/205880 [==============================] - 8s 40us/sample - loss: 1.22935s - loss: 1.2  - ETA: 0s - loss: - ETA: 0s - loss: 1.2\n",
      "Epoch 6/8\n",
      "205880/205880 [==============================] - 8s 40us/sample - loss: 1.19486s - loss: 1.163 - - E - ETA:  - ETA: 0s - loss\n",
      "Epoch 7/8\n",
      "205880/205880 [==============================] - 8s 40us/sample - loss: 1.19136s - loss: 1 - ETA:  - ETA: 6s - loss - ETA: 5s - los - ETA - ETA - ETA: 0s - loss: 1.190 - ETA: 0s - los\n",
      "Epoch 8/8\n",
      "205880/205880 [==============================] - 8s 40us/sample - loss: 1.19045s - loss: 1.179 - ETA: 5s - loss: 1 -  - ETA: 0s - loss: \n"
     ]
    }
   ],
   "source": [
    "error1 = np.zeros(8)\n",
    "for i in range(1, 9):\n",
    "    history2 = net2.fit(\n",
    "    np.reshape(x1_train, len(x1_train)).astype(float), np.reshape(y1_train, len(y1_train)).astype(float),\n",
    "    verbose=1, epochs=i)\n",
    "    predict1 = net2.predict(x1_val)\n",
    "    error1[i - 1] = RMSE(predict1, y1_val)"
   ]
  },
  {
   "cell_type": "code",
   "execution_count": 191,
   "metadata": {},
   "outputs": [
    {
     "data": {
      "image/png": "[encoded data removed]",
      "text/plain": [
       "<Figure size 432x288 with 1 Axes>"
      ]
     },
     "metadata": {
      "needs_background": "light"
     },
     "output_type": "display_data"
    },
    {
     "name": "stdout",
     "output_type": "stream",
     "text": [
      "[1.41521677 1.46001295 1.25213768 1.88480881 1.10152192 2.27535428\n",
      " 1.28478979 1.16373201]\n"
     ]
    }
   ],
   "source": [
    "t = np.linspace(1, 8, 8)\n",
    "plt.plot(t, error1)\n",
    "plt.title('RMSE of validation set at different number of iterations')\n",
    "plt.xlabel('Iteration')\n",
    "plt.ylabel('RMSE')\n",
    "plt.show()\n",
    "print(error1)"
   ]
  },
  {
   "cell_type": "code",
   "execution_count": 188,
   "metadata": {},
   "outputs": [
    {
     "name": "stdout",
     "output_type": "stream",
     "text": [
      "Train on 205880 samples\n",
      "Epoch 1/5\n",
      "205880/205880 [==============================] - 8s 39us/sample - loss: 10.1879\n",
      "Epoch 2/5\n",
      "205880/205880 [==============================] - 8s 37us/sample - loss: 6.38920s - loss: 6\n",
      "Epoch 3/5\n",
      "205880/205880 [==============================] - 8s 39us/sample - loss: 5.61407s - - ETA: 6s - loss: 5 - ET - E  - E\n",
      "Epoch 4/5\n",
      "205880/205880 [==============================] - 8s 41us/sample - loss: 4.74123s -\n",
      "Epoch 5/5\n",
      "205880/205880 [==============================] - 8s 40us/sample - loss: 4.4839 - E - ETA: 2 - E - ETA: 0s - loss:\n",
      "Train on 205880 samples\n",
      "Epoch 1/5\n",
      "205880/205880 [==============================] - 9s 42us/sample - loss: 17.1270s - ETA: 0s - loss: 1\n",
      "Epoch 2/5\n",
      "205880/205880 [==============================] - 9s 41us/sample - loss: 4.97680s - loss: 4.97\n",
      "Epoch 3/5\n",
      "205880/205880 [==============================] - 9s 42us/sample - loss: 4.9177: 0s - loss: 4\n",
      "Epoch 4/5\n",
      "205880/205880 [==============================] - 8s 41us/sample - loss: 4.8617 ETA: 5s - - ETA: 3s - loss - E\n",
      "Epoch 5/5\n",
      "205880/205880 [==============================] - 8s 41us/sample - loss: 4.80792s   - ETA: 0s - loss: 4.\n",
      "Train on 205880 samples\n",
      "Epoch 1/5\n",
      "205880/205880 [==============================] - 9s 44us/sample - loss: 114.8052\n",
      "Epoch 2/5\n",
      "205880/205880 [==============================] - 9s 41us/sample - loss: 4.67777 - ETA:  - ETA: 6s - loss - ETA: - ETA: 3 - ETA: 2s - loss: - ETA: 2s - loss - ETA: 2s - loss: 4.70 - ETA: 1s -  - ETA: 1 - ETA: 0s - l\n",
      "Epoch 3/5\n",
      "205880/205880 [==============================] - 9s 42us/sample - loss: 4.53016s - loss: 4.5 - ETA: - ETA: 1s - \n",
      "Epoch 4/5\n",
      "205880/205880 [==============================] - 9s 42us/sample - loss: 4.4747: 7s - loss - ET - ETA: 1s - - ETA: 0s - loss: 4.473\n",
      "Epoch 5/5\n",
      "205880/205880 [==============================] - 9s 43us/sample - loss: 4.4337\n",
      "Train on 205880 samples\n",
      "Epoch 1/5\n",
      "205880/205880 [==============================] - 9s 42us/sample - loss: 564.1471\n",
      "Epoch 2/5\n",
      "205880/205880 [==============================] - 9s 43us/sample - loss: 489.26149s - l - ETA: 7s - loss:  - ETA: 7s - loss: 534. - ET - ETA: \n",
      "Epoch 3/5\n",
      "205880/205880 [==============================] - 9s 43us/sample - loss: 264.3773\n",
      "Epoch 4/5\n",
      "205880/205880 [==============================] - 9s 41us/sample - loss: 69.3779\n",
      "Epoch 5/5\n",
      "205880/205880 [==============================] - 9s 42us/sample - loss: 27.8824\n",
      "Train on 205880 samples\n",
      "Epoch 1/5\n",
      "205880/205880 [==============================] - 9s 44us/sample - loss: 572.43705s - ETA: 0s - loss: 572.\n",
      "Epoch 2/5\n",
      "205880/205880 [==============================] - 9s 43us/sample - loss: 572.31371s - ETA: 0s - loss\n",
      "Epoch 3/5\n",
      "205880/205880 [==============================] - 9s 42us/sample - loss: 572.1423 1s - ETA: 0s\n",
      "Epoch 4/5\n",
      "205880/205880 [==============================] - 9s 44us/sample - loss: 571.8753\n",
      "Epoch 5/5\n",
      "205880/205880 [==============================] - 9s 41us/sample - loss: 571.50441s - loss: 571 - ETA: 1s - loss: 5 - ETA: 1s - loss: 571.809 - ETA: 1s - l - ETA: 0s - loss: 571 - ETA: 0s - loss: 571\n",
      "Train on 205880 samples\n",
      "Epoch 1/5\n",
      "205880/205880 [==============================] - 9s 43us/sample - loss: 572.44170s - loss: 57\n",
      "Epoch 2/5\n",
      "205880/205880 [==============================] - 9s 43us/sample - loss: 572.42960\n",
      "Epoch 3/5\n",
      "205880/205880 [==============================] - 9s 43us/sample - loss: 572.41787s - l - ETA: 5s - loss:  - - E - ET - ETA: 0s - loss\n",
      "Epoch 4/5\n",
      "205880/205880 [==============================] - 10s 47us/sample - loss: 572.4066\n",
      "Epoch 5/5\n",
      "205880/205880 [==============================] - 9s 42us/sample - loss: 572.39585s - loss: 5 - ETA: 3s - l - ETA: 0s - loss: 572\n",
      "Train on 205880 samples\n",
      "Epoch 1/5\n",
      "205880/205880 [==============================] - 9s 44us/sample - loss: 572.49663s - loss: 5 - ETA: 2s - loss: 572.307 - ETA: 2 - ETA: 1s - - ETA: 0s -\n",
      "Epoch 2/5\n",
      "205880/205880 [==============================] - 9s 42us/sample - loss: 572.4946\n",
      "Epoch 3/5\n",
      "205880/205880 [==============================] - 9s 43us/sample - loss: 572.4927\n",
      "Epoch 4/5\n",
      "205880/205880 [==============================] - 9s 43us/sample - loss: 572.4907 - ETA: 3\n",
      "Epoch 5/5\n",
      "205880/205880 [==============================] - 10s 48us/sample - loss: 572.4888\n",
      "Train on 205880 samples\n",
      "Epoch 1/5\n",
      "205880/205880 [==============================] - 9s 43us/sample - loss: 572.4054\n",
      "Epoch 2/5\n",
      "205880/205880 [==============================] - 9s 42us/sample - loss: 572.40540s - loss: - ETA: 0s - loss: 572.38\n",
      "Epoch 3/5\n",
      "205880/205880 [==============================] - 9s 44us/sample - loss: 572.40530s - loss: 5\n",
      "Epoch 4/5\n",
      "205880/205880 [==============================] - 9s 42us/sample - loss: 572.4052\n",
      "Epoch 5/5\n",
      "205880/205880 [==============================] - 9s 44us/sample - loss: 572.4051\n"
     ]
    }
   ],
   "source": [
    "error2 = np.zeros(8)\n",
    "for i in range(1, 9):\n",
    "    net2 = build_and_compile_model(normalizer1, i)\n",
    "    history2 = net2.fit(\n",
    "    np.reshape(x1_train, len(x1_train)).astype(float), np.reshape(y1_train, len(y1_train)).astype(float),\n",
    "    verbose=1, epochs=5)\n",
    "    predict2 = net2.predict(x1_val)\n",
    "    error2[i - 1] = RMSE(predict2, y1_val)"
   ]
  },
  {
   "cell_type": "code",
   "execution_count": 189,
   "metadata": {},
   "outputs": [
    {
     "data": {
      "image/png": "[encoded data removed]",
      "text/plain": [
       "<Figure size 432x288 with 1 Axes>"
      ]
     },
     "metadata": {
      "needs_background": "light"
     },
     "output_type": "display_data"
    },
    {
     "name": "stdout",
     "output_type": "stream",
     "text": [
      "[  2.93496005   6.21552651   6.75012327  23.44282654 660.84275366\n",
      " 661.73218946 661.79837345 661.7637617 ]\n"
     ]
    }
   ],
   "source": [
    "t = np.linspace(1,8,8)\n",
    "plt.plot(t, error2)\n",
    "plt.title('RMSE of validation set at different learning rates')\n",
    "plt.xlabel('Learning Rate (10/10**i)')\n",
    "plt.ylabel('RMSE')\n",
    "plt.show()\n",
    "print(error2)"
   ]
  },
  {
   "cell_type": "code",
   "execution_count": 253,
   "metadata": {},
   "outputs": [
    {
     "name": "stdout",
     "output_type": "stream",
     "text": [
      "Train on 205880 samples\n",
      "Epoch 1/5\n",
      "205880/205880 [==============================] - 9s 43us/sample - loss: 9.9623\n",
      "Epoch 2/5\n",
      "205880/205880 [==============================] - 8s 38us/sample - loss: 5.93547s - ETA: 1s - ETA: 1s - loss: - ETA: 0\n",
      "Epoch 3/5\n",
      "205880/205880 [==============================] - 8s 38us/sample - loss: 5.24081s - loss: 5.1 - ETA: 1 - ETA: 0s - loss: \n",
      "Epoch 4/5\n",
      "205880/205880 [==============================] - 8s 38us/sample - loss: 4.6427TA: 4s - loss:  - ETA: 4s - loss: 4.9 - ETA: 4s  - ETA: 2s -  - ET - ETA: 0s - l - ETA: 0s - loss: 4.65\n",
      "Epoch 5/5\n",
      "205880/205880 [==============================] - 8s 38us/sample - loss: 3.91260s - loss:  - ETA: 0s - loss: 3\n",
      "5.846783503308119\n",
      "6.98468256676782\n",
      "5.831705725677087\n",
      "6.973029968385883\n",
      "5.808817659555557\n",
      "6.966106910825107\n",
      "17.13230735526341\n",
      "21.803644405162327\n"
     ]
    },
    {
     "data": {
      "text/plain": [
       "0.9885349079358553"
      ]
     },
     "execution_count": 253,
     "metadata": {},
     "output_type": "execute_result"
    }
   ],
   "source": [
    "#Metrics for neural network \n",
    "net2 = build_and_compile_model(normalizer1,1)\n",
    "\n",
    "history2 = net2.fit(\n",
    "    np.reshape(x1_train, len(x1_train)).astype(float), np.reshape(y1_train, len(y1_train)).astype(float),\n",
    "    verbose=1, epochs=5)\n",
    "\n",
    "predict = net2.predict((x1_train).astype(float))\n",
    "predict = np.reshape((predict),len(predict))\n",
    "print(MAE(predict, y1_train))\n",
    "print(RMSE(predict, y1_train))\n",
    "\n",
    "predict2 = net2.predict((x1_val).astype(float))\n",
    "predict2 = np.reshape((predict2),len(predict2))\n",
    "print(MAE(predict2, y1_val))\n",
    "print(RMSE(predict2, y1_val))\n",
    "\n",
    "predict = net2.predict((x1_test).astype(float))\n",
    "predict = np.reshape((predict),len(predict))\n",
    "print(MAE(predict, y1_test))\n",
    "print(RMSE(predict, y1_test))\n",
    "\n",
    "predict4 = net2.predict((RTC_millis2).astype(float))\n",
    "predict4 = np.reshape((predict4),len(predict4))\n",
    "print(MAE(predict4, AccOffset2))\n",
    "print(RMSE(predict4, AccOffset2))\n",
    "r2_score(accOffset2, predict4)"
   ]
  },
  {
   "cell_type": "code",
   "execution_count": 249,
   "metadata": {},
   "outputs": [
    {
     "name": "stdout",
     "output_type": "stream",
     "text": [
      "16.00761435623006\n",
      "20.18064738289621\n"
     ]
    },
    {
     "data": {
      "text/plain": [
       "0.9901782346683684"
      ]
     },
     "execution_count": 249,
     "metadata": {},
     "output_type": "execute_result"
    }
   ],
   "source": [
    "predict4 = net2.predict((RTC_millis2).astype(float))\n",
    "predict4 = np.reshape((predict4),len(predict4))\n",
    "print(MAE(predict4, AccOffset2))\n",
    "print(RMSE(predict4, AccOffset2))\n",
    "r2_score(accOffset2, predict4)"
   ]
  },
  {
   "cell_type": "code",
   "execution_count": 238,
   "metadata": {},
   "outputs": [
    {
     "data": {
      "image/png": "[encoded data removed]",
      "text/plain": [
       "<Figure size 432x288 with 1 Axes>"
      ]
     },
     "metadata": {
      "needs_background": "light"
     },
     "output_type": "display_data"
    },
    {
     "data": {
      "text/plain": [
       "0.9998651370262426"
      ]
     },
     "execution_count": 238,
     "metadata": {},
     "output_type": "execute_result"
    }
   ],
   "source": [
    "#Predicted vs actual, neural network, training data \n",
    "prediction2 = net2.predict(RTC_millis1)\n",
    "stuff2 = np.zeros(GPS_millis1.size)\n",
    "for i in range(0, GPS_millis1.size):\n",
    "    stuff2[i] = (GPS_millis1[i] - RTC_millis1[i])\n",
    "t = np.linspace(0, len(GPS_millis1), len(GPS_millis1))\n",
    "plt.plot(t, stuff2, label = 'Actual')\n",
    "plt.plot(t, prediction2, label = 'Predicted')\n",
    "plt.title('Accumulated offset of Teensy internal RTC (ms)')\n",
    "plt.xlabel('Seconds since start-up')\n",
    "plt.ylabel('Accumulated offset (ms)')\n",
    "plt.legend()\n",
    "plt.show()\n",
    "\n",
    "r2_score(stuff2, prediction2)\n"
   ]
  },
  {
   "cell_type": "code",
   "execution_count": 250,
   "metadata": {},
   "outputs": [
    {
     "name": "stdout",
     "output_type": "stream",
     "text": [
      "16.00761435623006\n",
      "20.18064738289621\n"
     ]
    },
    {
     "data": {
      "image/png": "[encoded data removed]",
      "text/plain": [
       "<Figure size 432x288 with 1 Axes>"
      ]
     },
     "metadata": {
      "needs_background": "light"
     },
     "output_type": "display_data"
    }
   ],
   "source": [
    "#PRedicted vs actual, neural network, new data \n",
    "predict4 = net2.predict((RTC_millis2).astype(float))\n",
    "predict4 = np.reshape((predict4),len(predict4))\n",
    "print(MAE(predict4, accOffset2))\n",
    "print(RMSE(predict4, accOffset2))\n",
    "\n",
    "prediction3 = net2.predict(RTC_millis2)\n",
    "stuff3 = np.zeros(GPS_millis2.size)\n",
    "for i in range(0, GPS_millis2.size):\n",
    "    stuff3[i] = (GPS_millis2[i] - RTC_millis2[i])\n",
    "t = np.linspace(0, len(GPS_millis2), len(GPS_millis2))\n",
    "plt.plot(t, stuff3, label = 'Actual')\n",
    "plt.plot(t, prediction3, label = 'Predicted')\n",
    "plt.title('Accumulated offset of Teensy internal RTC (ms)')\n",
    "plt.xlabel('Seconds since start-up')\n",
    "plt.ylabel('Accumulated offset (ms)')\n",
    "plt.legend()\n",
    "plt.show()"
   ]
  },
  {
   "cell_type": "code",
   "execution_count": 241,
   "metadata": {},
   "outputs": [
    {
     "data": {
      "image/png": "[encoded data removed]",
      "text/plain": [
       "<Figure size 432x288 with 1 Axes>"
      ]
     },
     "metadata": {
      "needs_background": "light"
     },
     "output_type": "display_data"
    }
   ],
   "source": [
    "#Predicted accumulated drift over 6 weeks \n",
    "fig = plt.figure()\n",
    "ax = fig.add_axes([0,0,1,1])\n",
    "langs = ['1', '2', '3', '4', '5', '6']\n",
    "students = [(4.730/1000000)*604800,(4.730/1000000)*604800*2,(4.730/1000000)*604800*3,(4.730/1000000)*604800*4,(4.730/1000000)*604800*5, (4.730/1000000)*604800*6]\n",
    "ax.bar(langs,students)\n",
    "plt.title('Accumulated offset off Teensy internal clock over 6 weeks')\n",
    "plt.xlabel('Week')\n",
    "plt.ylabel('Accumulated offset in seconds')\n",
    "plt.show()"
   ]
  },
  {
   "cell_type": "code",
   "execution_count": 223,
   "metadata": {},
   "outputs": [
    {
     "data": {
      "image/png": "[encoded data removed]",
      "text/plain": [
       "<Figure size 432x288 with 1 Axes>"
      ]
     },
     "metadata": {
      "needs_background": "light"
     },
     "output_type": "display_data"
    }
   ],
   "source": [
    "#Residuals, neural network, training data \n",
    "predict1 = net2.predict(x1_val)\n",
    "resid1 = np.zeros(y1_val.size)\n",
    "for i in range(y1_val.size):\n",
    "    resid1[i] = predict1[i] - y1_val[i]\n",
    "#Residual plots\n",
    "t = np.linspace(0, max(x1_val))\n",
    "z = np.zeros(50)\n",
    "plt.scatter(x1_val, resid1, s = 1)\n",
    "plt.plot(t, z, color = 'orange')\n",
    "plt.title('Residual plot for neural network regression model')\n",
    "plt.xlabel('RTC time (ms)')\n",
    "plt.ylabel('Residuals')\n",
    "plt.show()"
   ]
  },
  {
   "cell_type": "code",
   "execution_count": 246,
   "metadata": {},
   "outputs": [
    {
     "data": {
      "image/png": "[encoded data removed]",
      "text/plain": [
       "<Figure size 432x288 with 1 Axes>"
      ]
     },
     "metadata": {
      "needs_background": "light"
     },
     "output_type": "display_data"
    }
   ],
   "source": [
    "#Residuals, neural network, mew data\n",
    "pred2 = net2.predict(RTC_millis2)\n",
    "res2 = np.zeros(accOffset2.size)\n",
    "for i in range(accOffset2.size):\n",
    "    res2[i] = pred2[i] - accOffset2[i]\n",
    "#Residual plots\n",
    "t = np.linspace(0, max(RTC_millis2))\n",
    "z = np.zeros(50)\n",
    "plt.scatter(RTC_millis2, res2, s = 1)\n",
    "plt.plot(t, z, color = 'orange')\n",
    "plt.title('Residual plot for neural network regression model')\n",
    "plt.xlabel('RTC time (ms)')\n",
    "plt.ylabel('Residuals')\n",
    "plt.show()"
   ]
  },
  {
   "cell_type": "code",
   "execution_count": 218,
   "metadata": {},
   "outputs": [
    {
     "data": {
      "image/png": "[encoded data removed]",
      "text/plain": [
       "<Figure size 432x288 with 1 Axes>"
      ]
     },
     "metadata": {
      "needs_background": "light"
     },
     "output_type": "display_data"
    }
   ],
   "source": [
    "#Residuals, linear regression, training data\n",
    "predict2 = model3.predict(x1_val)\n",
    "resid2 = np.zeros(y1_val.size)\n",
    "for i in range(y1_val.size):\n",
    "    resid2[i] = predict2[i] - y1_val[i]\n",
    "#Residual plots\n",
    "t = np.linspace(0, max(x1_val))\n",
    "z = np.zeros(50)\n",
    "plt.scatter(x1_val, resid2, s = 1)\n",
    "plt.plot(t, z, color = 'orange')\n",
    "plt.title('Residual plot for simple linear regression model')\n",
    "plt.xlabel('RTC time (ms)')\n",
    "plt.ylabel('Residuals')\n",
    "plt.show()"
   ]
  },
  {
   "cell_type": "code",
   "execution_count": 245,
   "metadata": {},
   "outputs": [
    {
     "data": {
      "image/png": "[encoded data removed]",
      "text/plain": [
       "<Figure size 432x288 with 1 Axes>"
      ]
     },
     "metadata": {
      "needs_background": "light"
     },
     "output_type": "display_data"
    }
   ],
   "source": [
    "#Residual plot, linear regression, new data \n",
    "pred1 = model3.predict(RTC_millis2)\n",
    "res1 = np.zeros(accOffset2.size)\n",
    "for i in range(accOffset2.size):\n",
    "    res1[i] = pred1[i] - accOffset2[i]\n",
    "#Residual plots\n",
    "t = np.linspace(0, max(RTC_millis2))\n",
    "z = np.zeros(50)\n",
    "plt.scatter(RTC_millis2, res1, s = 1)\n",
    "plt.plot(t, z, color = 'orange')\n",
    "plt.title('Residual plot for simple linear regression model')\n",
    "plt.xlabel('RTC time (ms)')\n",
    "plt.ylabel('Residuals')\n",
    "plt.show()"
   ]
  }
 ],
 "metadata": {
  "kernelspec": {
   "display_name": "Python 3",
   "language": "python",
   "name": "python3"
  },
  "language_info": {
   "codemirror_mode": {
    "name": "ipython",
    "version": 3
   },
   "file_extension": ".py",
   "mimetype": "text/x-python",
   "name": "python",
   "nbconvert_exporter": "python",
   "pygments_lexer": "ipython3",
   "version": "3.7.6"
  }
 },
 "nbformat": 4,
 "nbformat_minor": 4
}
